{
 "cells": [
  {
   "cell_type": "markdown",
   "metadata": {},
   "source": [
    "# Anchors"
   ]
  },
  {
   "cell_type": "code",
   "execution_count": 1,
   "metadata": {},
   "outputs": [
    {
     "name": "stdout",
     "output_type": "stream",
     "text": [
      "Requirement already satisfied: anchor-exp in c:\\users\\hp\\desktop\\rp1.4\\xda1.4\\venv\\lib\\site-packages (0.0.2.0)\n",
      "Requirement already satisfied: numpy in c:\\users\\hp\\desktop\\rp1.4\\xda1.4\\venv\\lib\\site-packages (from anchor-exp) (1.24.1)\n",
      "Requirement already satisfied: scipy in c:\\users\\hp\\desktop\\rp1.4\\xda1.4\\venv\\lib\\site-packages (from anchor-exp) (1.10.0)\n",
      "Requirement already satisfied: spacy in c:\\users\\hp\\desktop\\rp1.4\\xda1.4\\venv\\lib\\site-packages (from anchor-exp) (3.8.5)\n",
      "Requirement already satisfied: lime in c:\\users\\hp\\desktop\\rp1.4\\xda1.4\\venv\\lib\\site-packages (from anchor-exp) (0.2.0.1)\n",
      "Requirement already satisfied: scikit-learn>=0.22 in c:\\users\\hp\\desktop\\rp1.4\\xda1.4\\venv\\lib\\site-packages (from anchor-exp) (1.2.2)\n",
      "Requirement already satisfied: joblib>=1.1.1 in c:\\users\\hp\\desktop\\rp1.4\\xda1.4\\venv\\lib\\site-packages (from scikit-learn>=0.22->anchor-exp) (1.4.2)\n",
      "Requirement already satisfied: threadpoolctl>=2.0.0 in c:\\users\\hp\\desktop\\rp1.4\\xda1.4\\venv\\lib\\site-packages (from scikit-learn>=0.22->anchor-exp) (3.6.0)\n",
      "Requirement already satisfied: matplotlib in c:\\users\\hp\\desktop\\rp1.4\\xda1.4\\venv\\lib\\site-packages (from lime->anchor-exp) (3.6.3)\n",
      "Requirement already satisfied: tqdm in c:\\users\\hp\\desktop\\rp1.4\\xda1.4\\venv\\lib\\site-packages (from lime->anchor-exp) (4.67.1)\n",
      "Requirement already satisfied: scikit-image>=0.12 in c:\\users\\hp\\desktop\\rp1.4\\xda1.4\\venv\\lib\\site-packages (from lime->anchor-exp) (0.24.0)\n",
      "Requirement already satisfied: spacy-legacy<3.1.0,>=3.0.11 in c:\\users\\hp\\desktop\\rp1.4\\xda1.4\\venv\\lib\\site-packages (from spacy->anchor-exp) (3.0.12)\n",
      "Requirement already satisfied: spacy-loggers<2.0.0,>=1.0.0 in c:\\users\\hp\\desktop\\rp1.4\\xda1.4\\venv\\lib\\site-packages (from spacy->anchor-exp) (1.0.5)\n",
      "Requirement already satisfied: murmurhash<1.1.0,>=0.28.0 in c:\\users\\hp\\desktop\\rp1.4\\xda1.4\\venv\\lib\\site-packages (from spacy->anchor-exp) (1.0.12)\n",
      "Requirement already satisfied: cymem<2.1.0,>=2.0.2 in c:\\users\\hp\\desktop\\rp1.4\\xda1.4\\venv\\lib\\site-packages (from spacy->anchor-exp) (2.0.11)\n",
      "Requirement already satisfied: preshed<3.1.0,>=3.0.2 in c:\\users\\hp\\desktop\\rp1.4\\xda1.4\\venv\\lib\\site-packages (from spacy->anchor-exp) (3.0.9)\n",
      "Requirement already satisfied: thinc<8.4.0,>=8.3.4 in c:\\users\\hp\\desktop\\rp1.4\\xda1.4\\venv\\lib\\site-packages (from spacy->anchor-exp) (8.3.4)\n",
      "Requirement already satisfied: wasabi<1.2.0,>=0.9.1 in c:\\users\\hp\\desktop\\rp1.4\\xda1.4\\venv\\lib\\site-packages (from spacy->anchor-exp) (1.1.3)\n",
      "Requirement already satisfied: srsly<3.0.0,>=2.4.3 in c:\\users\\hp\\desktop\\rp1.4\\xda1.4\\venv\\lib\\site-packages (from spacy->anchor-exp) (2.5.1)\n",
      "Requirement already satisfied: catalogue<2.1.0,>=2.0.6 in c:\\users\\hp\\desktop\\rp1.4\\xda1.4\\venv\\lib\\site-packages (from spacy->anchor-exp) (2.0.10)\n",
      "Requirement already satisfied: weasel<0.5.0,>=0.1.0 in c:\\users\\hp\\desktop\\rp1.4\\xda1.4\\venv\\lib\\site-packages (from spacy->anchor-exp) (0.4.1)\n",
      "Requirement already satisfied: typer<1.0.0,>=0.3.0 in c:\\users\\hp\\desktop\\rp1.4\\xda1.4\\venv\\lib\\site-packages (from spacy->anchor-exp) (0.15.2)\n",
      "Requirement already satisfied: requests<3.0.0,>=2.13.0 in c:\\users\\hp\\desktop\\rp1.4\\xda1.4\\venv\\lib\\site-packages (from spacy->anchor-exp) (2.32.3)\n",
      "Requirement already satisfied: pydantic!=1.8,!=1.8.1,<3.0.0,>=1.7.4 in c:\\users\\hp\\desktop\\rp1.4\\xda1.4\\venv\\lib\\site-packages (from spacy->anchor-exp) (2.11.1)\n",
      "Requirement already satisfied: jinja2 in c:\\users\\hp\\desktop\\rp1.4\\xda1.4\\venv\\lib\\site-packages (from spacy->anchor-exp) (3.1.6)\n",
      "Requirement already satisfied: setuptools in c:\\users\\hp\\desktop\\rp1.4\\xda1.4\\venv\\lib\\site-packages (from spacy->anchor-exp) (75.8.2)\n",
      "Requirement already satisfied: packaging>=20.0 in c:\\users\\hp\\desktop\\rp1.4\\xda1.4\\venv\\lib\\site-packages (from spacy->anchor-exp) (24.2)\n",
      "Requirement already satisfied: langcodes<4.0.0,>=3.2.0 in c:\\users\\hp\\desktop\\rp1.4\\xda1.4\\venv\\lib\\site-packages (from spacy->anchor-exp) (3.5.0)\n",
      "Requirement already satisfied: language-data>=1.2 in c:\\users\\hp\\desktop\\rp1.4\\xda1.4\\venv\\lib\\site-packages (from langcodes<4.0.0,>=3.2.0->spacy->anchor-exp) (1.3.0)\n",
      "Requirement already satisfied: annotated-types>=0.6.0 in c:\\users\\hp\\desktop\\rp1.4\\xda1.4\\venv\\lib\\site-packages (from pydantic!=1.8,!=1.8.1,<3.0.0,>=1.7.4->spacy->anchor-exp) (0.7.0)\n",
      "Requirement already satisfied: pydantic-core==2.33.0 in c:\\users\\hp\\desktop\\rp1.4\\xda1.4\\venv\\lib\\site-packages (from pydantic!=1.8,!=1.8.1,<3.0.0,>=1.7.4->spacy->anchor-exp) (2.33.0)\n",
      "Requirement already satisfied: typing-extensions>=4.12.2 in c:\\users\\hp\\desktop\\rp1.4\\xda1.4\\venv\\lib\\site-packages (from pydantic!=1.8,!=1.8.1,<3.0.0,>=1.7.4->spacy->anchor-exp) (4.13.0)\n",
      "Requirement already satisfied: typing-inspection>=0.4.0 in c:\\users\\hp\\desktop\\rp1.4\\xda1.4\\venv\\lib\\site-packages (from pydantic!=1.8,!=1.8.1,<3.0.0,>=1.7.4->spacy->anchor-exp) (0.4.0)\n",
      "Requirement already satisfied: charset-normalizer<4,>=2 in c:\\users\\hp\\desktop\\rp1.4\\xda1.4\\venv\\lib\\site-packages (from requests<3.0.0,>=2.13.0->spacy->anchor-exp) (3.4.1)\n",
      "Requirement already satisfied: idna<4,>=2.5 in c:\\users\\hp\\desktop\\rp1.4\\xda1.4\\venv\\lib\\site-packages (from requests<3.0.0,>=2.13.0->spacy->anchor-exp) (3.10)\n",
      "Requirement already satisfied: urllib3<3,>=1.21.1 in c:\\users\\hp\\desktop\\rp1.4\\xda1.4\\venv\\lib\\site-packages (from requests<3.0.0,>=2.13.0->spacy->anchor-exp) (2.3.0)\n",
      "Requirement already satisfied: certifi>=2017.4.17 in c:\\users\\hp\\desktop\\rp1.4\\xda1.4\\venv\\lib\\site-packages (from requests<3.0.0,>=2.13.0->spacy->anchor-exp) (2025.1.31)\n",
      "Requirement already satisfied: networkx>=2.8 in c:\\users\\hp\\desktop\\rp1.4\\xda1.4\\venv\\lib\\site-packages (from scikit-image>=0.12->lime->anchor-exp) (3.4.2)\n",
      "Requirement already satisfied: pillow>=9.1 in c:\\users\\hp\\desktop\\rp1.4\\xda1.4\\venv\\lib\\site-packages (from scikit-image>=0.12->lime->anchor-exp) (11.1.0)\n",
      "Requirement already satisfied: imageio>=2.33 in c:\\users\\hp\\desktop\\rp1.4\\xda1.4\\venv\\lib\\site-packages (from scikit-image>=0.12->lime->anchor-exp) (2.37.0)\n",
      "Requirement already satisfied: tifffile>=2022.8.12 in c:\\users\\hp\\desktop\\rp1.4\\xda1.4\\venv\\lib\\site-packages (from scikit-image>=0.12->lime->anchor-exp) (2025.3.13)\n",
      "Requirement already satisfied: lazy-loader>=0.4 in c:\\users\\hp\\desktop\\rp1.4\\xda1.4\\venv\\lib\\site-packages (from scikit-image>=0.12->lime->anchor-exp) (0.4)\n",
      "Requirement already satisfied: blis<1.3.0,>=1.2.0 in c:\\users\\hp\\desktop\\rp1.4\\xda1.4\\venv\\lib\\site-packages (from thinc<8.4.0,>=8.3.4->spacy->anchor-exp) (1.2.1)\n",
      "Requirement already satisfied: confection<1.0.0,>=0.0.1 in c:\\users\\hp\\desktop\\rp1.4\\xda1.4\\venv\\lib\\site-packages (from thinc<8.4.0,>=8.3.4->spacy->anchor-exp) (0.1.5)\n",
      "Requirement already satisfied: colorama in c:\\users\\hp\\desktop\\rp1.4\\xda1.4\\venv\\lib\\site-packages (from tqdm->lime->anchor-exp) (0.4.6)\n",
      "Requirement already satisfied: click>=8.0.0 in c:\\users\\hp\\desktop\\rp1.4\\xda1.4\\venv\\lib\\site-packages (from typer<1.0.0,>=0.3.0->spacy->anchor-exp) (8.1.8)\n",
      "Requirement already satisfied: shellingham>=1.3.0 in c:\\users\\hp\\desktop\\rp1.4\\xda1.4\\venv\\lib\\site-packages (from typer<1.0.0,>=0.3.0->spacy->anchor-exp) (1.5.4)\n",
      "Requirement already satisfied: rich>=10.11.0 in c:\\users\\hp\\desktop\\rp1.4\\xda1.4\\venv\\lib\\site-packages (from typer<1.0.0,>=0.3.0->spacy->anchor-exp) (14.0.0)\n",
      "Requirement already satisfied: cloudpathlib<1.0.0,>=0.7.0 in c:\\users\\hp\\desktop\\rp1.4\\xda1.4\\venv\\lib\\site-packages (from weasel<0.5.0,>=0.1.0->spacy->anchor-exp) (0.21.0)\n",
      "Requirement already satisfied: smart-open<8.0.0,>=5.2.1 in c:\\users\\hp\\desktop\\rp1.4\\xda1.4\\venv\\lib\\site-packages (from weasel<0.5.0,>=0.1.0->spacy->anchor-exp) (7.1.0)\n",
      "Requirement already satisfied: MarkupSafe>=2.0 in c:\\users\\hp\\desktop\\rp1.4\\xda1.4\\venv\\lib\\site-packages (from jinja2->spacy->anchor-exp) (3.0.2)\n",
      "Requirement already satisfied: contourpy>=1.0.1 in c:\\users\\hp\\desktop\\rp1.4\\xda1.4\\venv\\lib\\site-packages (from matplotlib->lime->anchor-exp) (1.3.1)\n",
      "Requirement already satisfied: cycler>=0.10 in c:\\users\\hp\\desktop\\rp1.4\\xda1.4\\venv\\lib\\site-packages (from matplotlib->lime->anchor-exp) (0.12.1)\n",
      "Requirement already satisfied: fonttools>=4.22.0 in c:\\users\\hp\\desktop\\rp1.4\\xda1.4\\venv\\lib\\site-packages (from matplotlib->lime->anchor-exp) (4.56.0)\n",
      "Requirement already satisfied: kiwisolver>=1.0.1 in c:\\users\\hp\\desktop\\rp1.4\\xda1.4\\venv\\lib\\site-packages (from matplotlib->lime->anchor-exp) (1.4.8)\n",
      "Requirement already satisfied: pyparsing>=2.2.1 in c:\\users\\hp\\desktop\\rp1.4\\xda1.4\\venv\\lib\\site-packages (from matplotlib->lime->anchor-exp) (3.2.3)\n",
      "Requirement already satisfied: python-dateutil>=2.7 in c:\\users\\hp\\desktop\\rp1.4\\xda1.4\\venv\\lib\\site-packages (from matplotlib->lime->anchor-exp) (2.9.0.post0)\n",
      "Requirement already satisfied: marisa-trie>=1.1.0 in c:\\users\\hp\\desktop\\rp1.4\\xda1.4\\venv\\lib\\site-packages (from language-data>=1.2->langcodes<4.0.0,>=3.2.0->spacy->anchor-exp) (1.2.1)\n",
      "Requirement already satisfied: six>=1.5 in c:\\users\\hp\\desktop\\rp1.4\\xda1.4\\venv\\lib\\site-packages (from python-dateutil>=2.7->matplotlib->lime->anchor-exp) (1.17.0)\n",
      "Requirement already satisfied: markdown-it-py>=2.2.0 in c:\\users\\hp\\desktop\\rp1.4\\xda1.4\\venv\\lib\\site-packages (from rich>=10.11.0->typer<1.0.0,>=0.3.0->spacy->anchor-exp) (3.0.0)\n",
      "Requirement already satisfied: pygments<3.0.0,>=2.13.0 in c:\\users\\hp\\desktop\\rp1.4\\xda1.4\\venv\\lib\\site-packages (from rich>=10.11.0->typer<1.0.0,>=0.3.0->spacy->anchor-exp) (2.19.1)\n",
      "Requirement already satisfied: wrapt in c:\\users\\hp\\desktop\\rp1.4\\xda1.4\\venv\\lib\\site-packages (from smart-open<8.0.0,>=5.2.1->weasel<0.5.0,>=0.1.0->spacy->anchor-exp) (1.17.2)\n",
      "Requirement already satisfied: mdurl~=0.1 in c:\\users\\hp\\desktop\\rp1.4\\xda1.4\\venv\\lib\\site-packages (from markdown-it-py>=2.2.0->rich>=10.11.0->typer<1.0.0,>=0.3.0->spacy->anchor-exp) (0.1.2)\n",
      "Note: you may need to restart the kernel to use updated packages.\n"
     ]
    }
   ],
   "source": [
    "pip install anchor-exp"
   ]
  },
  {
   "cell_type": "code",
   "execution_count": 2,
   "metadata": {},
   "outputs": [],
   "source": [
    "from __future__ import print_function\n",
    "import numpy as np\n",
    "np.random.seed(1)\n",
    "import sys\n",
    "import sklearn\n",
    "import sklearn.ensemble\n",
    "%load_ext autoreload\n",
    "%autoreload 2\n",
    "from anchor import utils\n",
    "from anchor import anchor_tabular\n",
    "import pandas as pd\n",
    "import matplotlib.pyplot as plt"
   ]
  },
  {
   "cell_type": "code",
   "execution_count": 3,
   "metadata": {},
   "outputs": [
    {
     "name": "stdout",
     "output_type": "stream",
     "text": [
      "(12, 9)\n"
     ]
    }
   ],
   "source": [
    "dataset_folder = 'datasets/dataset500.csv'\n",
    "df = pd.read_csv(dataset_folder)\n",
    "\n",
    "all_true_dataset = df[(df['req_0'] == 1) & (df['req_1'] == 1) & (df['req_2'] == 1) & (df['req_3'] == 1)]\n",
    "all_true_dataset = all_true_dataset.drop(columns=['req_0','req_1', 'req_2', 'req_3'])\n",
    "print(all_true_dataset.shape)"
   ]
  },
  {
   "cell_type": "code",
   "execution_count": 4,
   "metadata": {},
   "outputs": [],
   "source": [
    "df0 = df.drop(columns=['req_1', 'req_2', 'req_3'])\n",
    "df0.to_csv('datasets/dataset500req0.csv', index=False)\n",
    "\n",
    "df1 = df.drop(columns=['req_0', 'req_2', 'req_3'])\n",
    "df1.to_csv('datasets/dataset500req1.csv', index=False)\n",
    "\n",
    "df2 = df.drop(columns=['req_0', 'req_1', 'req_3'])\n",
    "df2.to_csv('datasets/dataset500req2.csv', index=False)\n",
    "\n",
    "df3 = df.drop(columns=['req_0', 'req_1', 'req_2'])\n",
    "df3.to_csv('datasets/dataset500req3.csv', index=False)"
   ]
  },
  {
   "cell_type": "code",
   "execution_count": 5,
   "metadata": {},
   "outputs": [
    {
     "name": "stdout",
     "output_type": "stream",
     "text": [
      "Train 1.0\n",
      "Test 0.98\n",
      "[[\"b'firm obstacle' = 1.0\", \"b'power' > 23.00\", \"b'cruise speed' <= 71.28\", \"b'image resolution' > 23.99\", \"b'smoke intensity' <= 49.24\", \"b'obstacle distance' <= 43.80\"], [\"b'firm obstacle' = 1.0\", \"b'image resolution' > 75.39\", \"b'cruise speed' <= 44.79\", \"b'power' > 23.00\", \"b'illuminance' > 51.56\", \"b'smoke intensity' <= 49.24\"], [\"b'firm obstacle' = 1.0\", \"b'power' > 23.00\", \"b'cruise speed' <= 44.79\", \"b'smoke intensity' <= 49.24\", \"b'image resolution' > 23.99\"], [\"b'firm obstacle' = 1.0\", \"b'cruise speed' <= 22.33\", \"b'power' > 23.00\", \"b'smoke intensity' <= 74.25\", \"b'image resolution' > 23.99\"], [\"b'firm obstacle' = 1.0\", \"b'image resolution' > 75.39\", \"b'cruise speed' <= 44.79\", \"b'power' > 23.00\", \"b'smoke intensity' <= 49.24\", \"b'illuminance' > 27.51\"], [\"b'firm obstacle' = 1.0\", \"b'smoke intensity' <= 23.26\", \"b'image resolution' > 51.33\", \"27.51 < b'illuminance' <= 75.57\"], [\"b'firm obstacle' = 1.0\", \"b'image resolution' > 75.39\", \"b'cruise speed' <= 44.79\", \"b'power' > 23.00\", \"b'obstacle distance' > 21.50\"], [\"b'firm obstacle' = 1.0\", \"b'smoke intensity' <= 23.26\", \"b'cruise speed' <= 44.79\", \"b'power' > 23.00\", \"b'image resolution' > 23.99\", \"b'illuminance' > 27.51\"], [\"b'firm obstacle' = 1.0\", \"b'smoke intensity' <= 23.26\", \"b'cruise speed' <= 71.28\", \"b'image resolution' > 23.99\", \"b'illuminance' > 27.51\"], [\"b'firm obstacle' = 1.0\", \"b'image resolution' > 51.33\", \"b'illuminance' > 75.57\", \"b'obstacle distance' > 43.80\"], [\"b'firm obstacle' = 1.0\", \"b'cruise speed' <= 22.33\", \"b'power' > 23.00\", \"b'smoke intensity' <= 23.26\", \"b'image resolution' > 23.99\"], [\"b'firm obstacle' = 1.0\", \"b'image resolution' > 51.33\", \"b'illuminance' > 75.57\", \"b'power' > 77.25\"]]\n",
      "Train 1.0\n",
      "Test 0.9\n",
      "[[\"b'cruise speed' > 44.79\"], [\"51.56 < b'illuminance' <= 75.57\", \"b'cruise speed' <= 44.79\", \"b'controls responsiveness' > 43.98\", \"b'power' > 50.00\", \"b'smoke intensity' <= 49.24\", \"b'image resolution' > 75.39\", \"b'obstacle size' > 71.67\", \"b'obstacle distance' > 21.50\"], [\"b'controls responsiveness' > 43.98\", \"b'cruise speed' <= 44.79\", \"b'smoke intensity' <= 49.24\", \"b'power' > 23.00\", \"b'illuminance' > 75.57\", \"23.99 < b'image resolution' <= 51.33\", \"b'obstacle size' > 27.78\", \"b'obstacle distance' <= 70.59\"], [\"b'smoke intensity' <= 23.26\", \"b'cruise speed' <= 22.33\", \"b'controls responsiveness' > 43.98\", \"b'illuminance' > 51.56\", \"b'power' > 77.25\", \"23.99 < b'image resolution' <= 51.33\", \"b'obstacle size' > 49.35\"], [\"b'smoke intensity' <= 74.25\", \"b'cruise speed' <= 44.79\", \"b'power' > 23.00\", \"b'illuminance' > 27.51\", \"b'controls responsiveness' > 43.98\", \"b'obstacle size' > 27.78\"], [\"b'smoke intensity' <= 23.26\", \"b'cruise speed' <= 44.79\", \"b'illuminance' > 27.51\", \"b'controls responsiveness' > 22.45\", \"b'power' > 23.00\", \"27.78 < b'obstacle size' <= 49.35\", \"23.99 < b'image resolution' <= 75.39\", \"43.80 < b'obstacle distance' <= 70.59\"], [\"b'power' > 23.00\", \"b'cruise speed' <= 44.79\", \"b'illuminance' > 27.51\", \"b'obstacle size' > 27.78\", \"b'image resolution' > 23.99\"], [\"b'smoke intensity' <= 23.26\", \"b'controls responsiveness' > 74.46\", \"b'cruise speed' <= 44.79\", \"b'illuminance' > 51.56\", \"23.99 < b'image resolution' <= 51.33\", \"b'power' > 23.00\", \"43.80 < b'obstacle distance' <= 70.59\", \"b'obstacle size' > 27.78\"], [\"b'illuminance' > 75.57\", \"b'smoke intensity' <= 23.26\", \"b'power' > 23.00\", \"b'cruise speed' <= 71.28\", \"b'controls responsiveness' > 43.98\", \"b'obstacle size' > 27.78\", \"23.99 < b'image resolution' <= 51.33\", \"21.50 < b'obstacle distance' <= 70.59\"], [\"b'power' > 50.00\", \"b'controls responsiveness' > 43.98\", \"b'smoke intensity' <= 74.25\", \"b'cruise speed' <= 44.79\", \"23.99 < b'image resolution' <= 75.39\", \"43.80 < b'obstacle distance' <= 70.59\", \"b'illuminance' > 75.57\", \"b'obstacle size' > 71.67\"], [\"b'smoke intensity' <= 23.26\", \"b'cruise speed' <= 22.33\", \"50.00 < b'power' <= 77.25\", \"b'illuminance' > 75.57\", \"21.50 < b'obstacle distance' <= 70.59\", \"23.99 < b'image resolution' <= 51.33\"], [\"b'cruise speed' <= 44.79\", \"b'illuminance' > 75.57\", \"21.50 < b'obstacle distance' <= 43.80\", \"b'power' > 77.25\", \"b'smoke intensity' <= 49.24\", \"b'obstacle size' > 49.35\", \"b'controls responsiveness' > 22.45\", \"23.99 < b'image resolution' <= 75.39\"]]\n",
      "Train 1.0\n",
      "Test 0.94\n",
      "[[\"b'firm obstacle' = 1.0\", \"b'controls responsiveness' > 74.46\", \"b'cruise speed' <= 71.28\", \"b'image resolution' > 23.99\", \"b'illuminance' > 27.51\", \"b'smoke intensity' <= 49.24\", \"27.78 < b'obstacle size' <= 71.67\", \"23.00 < b'power' <= 50.00\"], [\"b'firm obstacle' = 1.0\", \"b'cruise speed' <= 44.79\", \"b'controls responsiveness' > 43.98\", \"b'image resolution' > 51.33\", \"b'obstacle distance' > 70.59\", \"b'illuminance' > 51.56\", \"b'power' > 23.00\", \"b'smoke intensity' <= 74.25\"], [\"b'firm obstacle' = 1.0\", \"b'controls responsiveness' > 74.46\", \"22.33 < b'cruise speed' <= 44.79\", \"b'illuminance' > 75.57\", \"b'image resolution' > 23.99\", \"23.00 < b'power' <= 50.00\", \"b'obstacle size' <= 71.67\"], [\"b'firm obstacle' = 1.0\", \"b'cruise speed' <= 44.79\", \"b'controls responsiveness' > 43.98\", \"b'image resolution' > 23.99\", \"b'power' > 23.00\", \"b'illuminance' > 51.56\", \"b'obstacle size' <= 71.67\", \"b'smoke intensity' <= 23.26\"], [\"b'firm obstacle' = 1.0\", \"b'controls responsiveness' > 74.46\", \"b'cruise speed' <= 44.79\", \"b'image resolution' > 75.39\", \"b'obstacle size' <= 71.67\", \"b'smoke intensity' <= 49.24\"], [\"b'firm obstacle' = 1.0\", \"b'cruise speed' <= 44.79\", \"b'image resolution' > 51.33\", \"b'obstacle distance' > 43.80\", \"b'controls responsiveness' > 22.45\", \"b'smoke intensity' <= 23.26\", \"b'illuminance' > 27.51\"], [\"b'firm obstacle' = 1.0\", \"b'cruise speed' <= 44.79\", \"b'image resolution' > 51.33\", \"b'controls responsiveness' > 22.45\", \"b'illuminance' > 51.56\", \"b'power' > 77.25\", \"b'obstacle distance' > 21.50\", \"b'smoke intensity' <= 74.25\"], [\"b'firm obstacle' = 1.0\", \"b'controls responsiveness' > 74.46\", \"b'cruise speed' <= 44.79\", \"b'image resolution' > 23.99\", \"b'illuminance' > 51.56\", \"b'obstacle size' <= 71.67\", \"b'power' > 23.00\", \"b'smoke intensity' <= 23.26\"], [\"b'firm obstacle' = 1.0\", \"b'illuminance' > 75.57\", \"b'controls responsiveness' > 43.98\", \"b'image resolution' > 23.99\", \"b'cruise speed' <= 71.28\", \"23.00 < b'power' <= 50.00\", \"b'obstacle distance' > 21.50\"], [\"b'firm obstacle' = 1.0\", \"b'illuminance' > 75.57\", \"b'cruise speed' <= 44.79\", \"b'controls responsiveness' > 43.98\", \"b'image resolution' > 51.33\", \"b'obstacle distance' > 43.80\"], [\"b'firm obstacle' = 1.0\", \"b'illuminance' > 75.57\", \"b'cruise speed' <= 22.33\", \"b'image resolution' > 23.99\", \"b'obstacle distance' > 21.50\", \"b'smoke intensity' <= 23.26\", \"b'power' > 50.00\", \"b'obstacle size' <= 49.35\"], [\"b'firm obstacle' = 1.0\", \"b'illuminance' > 75.57\", \"b'cruise speed' <= 44.79\", \"b'image resolution' > 23.99\", \"b'controls responsiveness' > 22.45\", \"b'obstacle distance' > 21.50\", \"b'power' > 50.00\", \"b'smoke intensity' <= 49.24\"]]\n",
      "Train 1.0\n",
      "Test 0.78\n",
      "[[\"b'firm obstacle' = 1.0\", \"b'controls responsiveness' > 74.46\", \"b'illuminance' > 27.51\", \"b'image resolution' > 23.99\", \"22.33 < b'cruise speed' <= 71.28\", \"b'obstacle size' <= 71.67\", \"23.26 < b'smoke intensity' <= 74.25\", \"b'power' <= 77.25\"], [\"b'firm obstacle' = 1.0\", \"b'illuminance' > 51.56\", \"b'controls responsiveness' > 43.98\", \"b'image resolution' > 51.33\", \"b'obstacle distance' > 21.50\", \"b'cruise speed' <= 44.79\"], [\"b'firm obstacle' = 1.0\", \"b'controls responsiveness' > 74.46\", \"22.33 < b'cruise speed' <= 44.79\", \"b'illuminance' > 75.57\", \"b'image resolution' > 23.99\", \"b'smoke intensity' <= 49.24\"], [\"b'firm obstacle' = 1.0\", \"51.56 < b'illuminance' <= 75.57\", \"b'controls responsiveness' > 43.98\", \"b'cruise speed' <= 44.79\", \"b'image resolution' > 23.99\", \"27.78 < b'obstacle size' <= 71.67\", \"b'smoke intensity' <= 23.26\", \"b'power' > 23.00\"], [\"b'firm obstacle' = 1.0\", \"b'controls responsiveness' > 74.46\", \"b'cruise speed' <= 44.79\", \"b'illuminance' > 27.51\", \"b'image resolution' > 51.33\", \"b'obstacle distance' > 21.50\", \"b'obstacle size' <= 49.35\"], [\"b'firm obstacle' = 1.0\", \"b'cruise speed' <= 44.79\", \"b'controls responsiveness' > 22.45\", \"b'image resolution' > 23.99\", \"b'obstacle distance' > 43.80\", \"b'illuminance' > 27.51\", \"b'smoke intensity' <= 23.26\"], [\"b'firm obstacle' = 1.0\", \"b'illuminance' > 51.56\", \"b'image resolution' > 23.99\", \"b'cruise speed' <= 44.79\", \"b'obstacle distance' > 21.50\", \"b'controls responsiveness' > 22.45\", \"b'power' > 23.00\"], [\"b'firm obstacle' = 1.0\", \"b'controls responsiveness' > 74.46\", \"b'cruise speed' <= 44.79\", \"b'illuminance' > 51.56\", \"b'image resolution' > 23.99\", \"b'obstacle distance' > 43.80\"], [\"b'firm obstacle' = 1.0\", \"b'illuminance' > 75.57\", \"b'controls responsiveness' > 43.98\", \"b'image resolution' > 23.99\", \"b'obstacle distance' > 21.50\", \"b'cruise speed' <= 71.28\", \"b'smoke intensity' <= 23.26\"], [\"b'firm obstacle' = 1.0\", \"b'illuminance' > 75.57\", \"b'controls responsiveness' > 43.98\", \"b'image resolution' > 23.99\", \"43.80 < b'obstacle distance' <= 70.59\", \"b'cruise speed' <= 71.28\"], [\"b'firm obstacle' = 1.0\", \"b'illuminance' > 75.57\", \"b'image resolution' > 23.99\", \"b'obstacle distance' > 21.50\", \"b'cruise speed' <= 22.33\", \"b'obstacle size' <= 49.35\", \"b'smoke intensity' <= 23.26\", \"50.00 < b'power' <= 77.25\"], [\"b'firm obstacle' = 1.0\", \"b'illuminance' > 75.57\", \"b'controls responsiveness' > 22.45\", \"b'image resolution' > 51.33\", \"b'obstacle distance' > 21.50\", \"b'cruise speed' <= 44.79\"]]\n"
     ]
    }
   ],
   "source": [
    "datasets = []\n",
    "dataframes = []\n",
    "for i in range(4):\n",
    "    dataset_folder = 'datasets/dataset500req' + str(i) + '.csv'\n",
    "    datasets.append(utils.load_csv_dataset(dataset_folder, 9))\n",
    "\n",
    "    c = sklearn.ensemble.RandomForestClassifier(n_estimators=50, n_jobs=5)\n",
    "    c.fit(datasets[i].train, datasets[i].labels_train)\n",
    "    print('Train', sklearn.metrics.accuracy_score(datasets[i].labels_train, c.predict(datasets[i].train)))\n",
    "    print('Test', sklearn.metrics.accuracy_score(datasets[i].labels_test, c.predict(datasets[i].test)))\n",
    "\n",
    "    explainer = anchor_tabular.AnchorTabularExplainer(\n",
    "        datasets[i].class_names, #it maps the 0 and 1 in the dataset's requirements to the class names\n",
    "        datasets[i].feature_names,\n",
    "        datasets[i].train,\n",
    "        datasets[i].categorical_names)\n",
    "    \n",
    "    names = []\n",
    "    for j in range(all_true_dataset.shape[0]):\n",
    "        \n",
    "        #do a csv with a prediction for each sample\n",
    "        #print(all_true_dataset.iloc[i].values.reshape(1, -1)[0])\n",
    "        with open('datasets/anchorsReq' +str(i) +'.csv', 'a') as f:\n",
    "            f.write('Prediction: %s\\n' % (explainer.class_names[c.predict(all_true_dataset.iloc[j].values.reshape(1, -1))[0]]))\n",
    "            exp = explainer.explain_instance(all_true_dataset.iloc[j].values.reshape(1, -1), c.predict, threshold=0.95)\n",
    "            f.write('Anchor: %s\\n' % (' AND '.join(exp.names())))\n",
    "            #print('Anchor: %s' % (' AND '.join(exp.names())))\n",
    "            f.write('Precision: %.2f\\n' % exp.precision())\n",
    "            f.write('Coverage: %.2f\\n' % exp.coverage())\n",
    "            f.write('\\n')\n",
    "            names.append(exp.names())\n",
    "    \n",
    "    dataframes.append(names)\n",
    "    \n",
    "    print(dataframes[i])\n",
    "\n",
    "\n"
   ]
  },
  {
   "cell_type": "markdown",
   "metadata": {},
   "source": [
    "It prints the rules that allow us to keep the sample's prediction, in this case False for requirement 2, and the precision and coverage with which these rules hold\n",
    "\n",
    "The coverage tells us how much of the dataset we have explained with this rule."
   ]
  },
  {
   "cell_type": "code",
   "execution_count": 6,
   "metadata": {},
   "outputs": [
    {
     "name": "stdout",
     "output_type": "stream",
     "text": [
      "1.0 69.0 22.7995 32.0775 47.5676 18.952 True False False True\n",
      "1.0 72.0 18.0329 9.0105 88.1242 14.3371 True False True True\n",
      "1.0 88.0 47.0146 11.4562 55.1652 28.0682 True False True True\n",
      "1.0 72.0 61.9286 35.0041 80.1206 34.0424 True False False False\n",
      "1.0 38.0 50.9071 45.0738 33.397 15.681 True True True True\n",
      "1.0 30.0 35.8364 46.5315 49.6464 7.3371 True True True True\n",
      "1.0 46.0 29.8661 45.8727 50.6223 17.2824 True False True True\n",
      "1.0 97.0 12.8875 0.9936 49.3559 13.2518 True True True True\n",
      "1.0 54.0 0.8053 6.5258 82.9626 12.8178 False False False False\n",
      "1.0 38.0 0.5755 22.1285 61.4105 37.1102 True True False True\n",
      "1.0 77.0 25.9089 31.7312 93.6499 22.3561 True True True True\n",
      "1.0 31.0 43.2555 21.008 25.6881 34.9979 True False True True\n",
      "1.0 80.0 38.3862 26.5053 75.4232 11.7324 True False False True\n",
      "1.0 89.0 27.4022 15.124 76.5957 16.5379 True False False False\n",
      "1.0 56.0 27.8734 13.3137 48.469 18.1208 True False False False\n",
      "1.0 51.0 69.8011 15.0281 81.2153 15.2147 True False True True\n",
      "1.0 89.0 67.3884 14.8276 97.7112 24.3901 True False False False\n",
      "1.0 77.0 46.1078 30.3211 34.4913 38.2166 True False False True\n",
      "1.0 86.0 0.0571 36.7167 30.9564 31.8367 True False True True\n",
      "1.0 76.0 29.9633 24.6914 24.3389 26.241 True False True True\n",
      "1.0 61.0 66.7921 30.6624 40.9977 22.364 True True False True\n",
      "1.0 26.0 18.1077 21.3254 34.6933 3.2455 True False False False\n",
      "1.0 43.0 60.537 3.8644 33.5818 24.5258 True True True True\n",
      "1.0 97.0 70.1853 48.4129 89.7439 17.6417 False False False False\n",
      "1.0 38.0 44.502 33.2836 60.605 18.8826 True False False True\n",
      "1.0 58.0 12.9419 19.5839 30.3257 39.4229 True True True True\n",
      "1.0 95.0 37.3821 39.9764 71.3693 23.1465 True True True True\n",
      "1.0 48.0 3.7825 23.2642 74.4159 13.9217 True False False False\n",
      "1.0 84.0 38.5143 25.7712 98.0599 43.0643 True False True True\n",
      "17\n"
     ]
    }
   ],
   "source": [
    "lista = []\n",
    "for i in range(df.shape[0]):\n",
    "    dat = df.iloc[i]\n",
    "    if((dat['firm obstacle'] == 1 and dat['power']>23.00 and dat['cruise speed']<=71.28 and dat['smoke intensity']<=49.24 and dat['image resolution']>23.99 and dat['obstacle distance']<=43.80)):\n",
    "        lista.append(dat)\n",
    "        print(dat['firm obstacle'], dat['power'], dat['cruise speed'], dat['smoke intensity'], dat['image resolution'], dat['obstacle distance'], dat['req_0'], dat['req_1'], dat['req_2'], dat['req_3'])\n",
    "\n",
    "print(len(lista)-12)"
   ]
  },
  {
   "cell_type": "code",
   "execution_count": 8,
   "metadata": {},
   "outputs": [],
   "source": [
    "# Get test examples where the anchora pplies\n",
    "#fit_anchor = np.where(np.all(new_dataset.test[:, exp.features()] == new_dataset.test[idx][exp.features()], axis=1))[0]\n",
    "#print('Anchor test precision: %.2f' % (np.mean(c.predict(new_dataset.test[fit_anchor]) == c.predict(new_dataset.test[idx].reshape(1, -1)))))\n",
    "#print('Anchor test coverage: %.2f' % (fit_anchor.shape[0] / float(new_dataset.test.shape[0])))"
   ]
  }
 ],
 "metadata": {
  "kernelspec": {
   "display_name": "venv",
   "language": "python",
   "name": "python3"
  },
  "language_info": {
   "codemirror_mode": {
    "name": "ipython",
    "version": 3
   },
   "file_extension": ".py",
   "mimetype": "text/x-python",
   "name": "python",
   "nbconvert_exporter": "python",
   "pygments_lexer": "ipython3",
   "version": "3.11.6"
  }
 },
 "nbformat": 4,
 "nbformat_minor": 2
}
