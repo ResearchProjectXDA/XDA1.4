{
 "cells": [
  {
   "cell_type": "markdown",
   "metadata": {},
   "source": [
    "# Anchors"
   ]
  },
  {
   "cell_type": "code",
   "execution_count": 1,
   "metadata": {},
   "outputs": [
    {
     "name": "stdout",
     "output_type": "stream",
     "text": [
      "Collecting anchor-exp\n",
      "  Downloading anchor_exp-0.0.2.0.tar.gz (427 kB)\n",
      "  Installing build dependencies ... \u001b[?25ldone\n",
      "\u001b[?25h  Getting requirements to build wheel ... \u001b[?25ldone\n",
      "\u001b[?25h  Preparing metadata (pyproject.toml) ... \u001b[?25ldone\n",
      "\u001b[?25hRequirement already satisfied: numpy in ./.venv/lib/python3.11/site-packages (from anchor-exp) (1.24.1)\n",
      "Requirement already satisfied: scipy in ./.venv/lib/python3.11/site-packages (from anchor-exp) (1.10.0)\n",
      "Collecting spacy (from anchor-exp)\n",
      "  Downloading spacy-3.8.5-cp311-cp311-manylinux_2_17_x86_64.manylinux2014_x86_64.whl.metadata (27 kB)\n",
      "Requirement already satisfied: lime in ./.venv/lib/python3.11/site-packages (from anchor-exp) (0.2.0.1)\n",
      "Requirement already satisfied: scikit-learn>=0.22 in ./.venv/lib/python3.11/site-packages (from anchor-exp) (1.2.2)\n",
      "Requirement already satisfied: joblib>=1.1.1 in ./.venv/lib/python3.11/site-packages (from scikit-learn>=0.22->anchor-exp) (1.4.2)\n",
      "Requirement already satisfied: threadpoolctl>=2.0.0 in ./.venv/lib/python3.11/site-packages (from scikit-learn>=0.22->anchor-exp) (3.6.0)\n",
      "Requirement already satisfied: matplotlib in ./.venv/lib/python3.11/site-packages (from lime->anchor-exp) (3.6.3)\n",
      "Requirement already satisfied: tqdm in ./.venv/lib/python3.11/site-packages (from lime->anchor-exp) (4.67.1)\n",
      "Requirement already satisfied: scikit-image>=0.12 in ./.venv/lib/python3.11/site-packages (from lime->anchor-exp) (0.24.0)\n",
      "Collecting spacy-legacy<3.1.0,>=3.0.11 (from spacy->anchor-exp)\n",
      "  Downloading spacy_legacy-3.0.12-py2.py3-none-any.whl.metadata (2.8 kB)\n",
      "Collecting spacy-loggers<2.0.0,>=1.0.0 (from spacy->anchor-exp)\n",
      "  Downloading spacy_loggers-1.0.5-py3-none-any.whl.metadata (23 kB)\n",
      "Collecting murmurhash<1.1.0,>=0.28.0 (from spacy->anchor-exp)\n",
      "  Downloading murmurhash-1.0.12-cp311-cp311-manylinux_2_5_x86_64.manylinux1_x86_64.manylinux_2_17_x86_64.manylinux2014_x86_64.whl.metadata (2.1 kB)\n",
      "Collecting cymem<2.1.0,>=2.0.2 (from spacy->anchor-exp)\n",
      "  Downloading cymem-2.0.11-cp311-cp311-manylinux_2_17_x86_64.manylinux2014_x86_64.whl.metadata (8.5 kB)\n",
      "Collecting preshed<3.1.0,>=3.0.2 (from spacy->anchor-exp)\n",
      "  Downloading preshed-3.0.9-cp311-cp311-manylinux_2_5_x86_64.manylinux1_x86_64.manylinux_2_17_x86_64.manylinux2014_x86_64.whl.metadata (2.2 kB)\n",
      "Collecting thinc<8.4.0,>=8.3.4 (from spacy->anchor-exp)\n",
      "  Downloading thinc-8.3.6-cp311-cp311-manylinux_2_17_x86_64.manylinux2014_x86_64.whl.metadata (15 kB)\n",
      "Collecting wasabi<1.2.0,>=0.9.1 (from spacy->anchor-exp)\n",
      "  Downloading wasabi-1.1.3-py3-none-any.whl.metadata (28 kB)\n",
      "Collecting srsly<3.0.0,>=2.4.3 (from spacy->anchor-exp)\n",
      "  Downloading srsly-2.5.1-cp311-cp311-manylinux_2_17_x86_64.manylinux2014_x86_64.whl.metadata (19 kB)\n",
      "Collecting catalogue<2.1.0,>=2.0.6 (from spacy->anchor-exp)\n",
      "  Downloading catalogue-2.0.10-py3-none-any.whl.metadata (14 kB)\n",
      "Collecting weasel<0.5.0,>=0.1.0 (from spacy->anchor-exp)\n",
      "  Downloading weasel-0.4.1-py3-none-any.whl.metadata (4.6 kB)\n",
      "Collecting typer<1.0.0,>=0.3.0 (from spacy->anchor-exp)\n",
      "  Downloading typer-0.15.2-py3-none-any.whl.metadata (15 kB)\n",
      "Collecting requests<3.0.0,>=2.13.0 (from spacy->anchor-exp)\n",
      "  Downloading requests-2.32.3-py3-none-any.whl.metadata (4.6 kB)\n",
      "Collecting pydantic!=1.8,!=1.8.1,<3.0.0,>=1.7.4 (from spacy->anchor-exp)\n",
      "  Downloading pydantic-2.11.3-py3-none-any.whl.metadata (65 kB)\n",
      "Collecting jinja2 (from spacy->anchor-exp)\n",
      "  Downloading jinja2-3.1.6-py3-none-any.whl.metadata (2.9 kB)\n",
      "Requirement already satisfied: setuptools in ./.venv/lib/python3.11/site-packages (from spacy->anchor-exp) (78.1.0)\n",
      "Requirement already satisfied: packaging>=20.0 in ./.venv/lib/python3.11/site-packages (from spacy->anchor-exp) (24.2)\n",
      "Collecting langcodes<4.0.0,>=3.2.0 (from spacy->anchor-exp)\n",
      "  Downloading langcodes-3.5.0-py3-none-any.whl.metadata (29 kB)\n",
      "Collecting language-data>=1.2 (from langcodes<4.0.0,>=3.2.0->spacy->anchor-exp)\n",
      "  Downloading language_data-1.3.0-py3-none-any.whl.metadata (4.3 kB)\n",
      "Collecting annotated-types>=0.6.0 (from pydantic!=1.8,!=1.8.1,<3.0.0,>=1.7.4->spacy->anchor-exp)\n",
      "  Downloading annotated_types-0.7.0-py3-none-any.whl.metadata (15 kB)\n",
      "Collecting pydantic-core==2.33.1 (from pydantic!=1.8,!=1.8.1,<3.0.0,>=1.7.4->spacy->anchor-exp)\n",
      "  Downloading pydantic_core-2.33.1-cp311-cp311-manylinux_2_17_x86_64.manylinux2014_x86_64.whl.metadata (6.8 kB)\n",
      "Requirement already satisfied: typing-extensions>=4.12.2 in ./.venv/lib/python3.11/site-packages (from pydantic!=1.8,!=1.8.1,<3.0.0,>=1.7.4->spacy->anchor-exp) (4.13.2)\n",
      "Collecting typing-inspection>=0.4.0 (from pydantic!=1.8,!=1.8.1,<3.0.0,>=1.7.4->spacy->anchor-exp)\n",
      "  Downloading typing_inspection-0.4.0-py3-none-any.whl.metadata (2.6 kB)\n",
      "Collecting charset-normalizer<4,>=2 (from requests<3.0.0,>=2.13.0->spacy->anchor-exp)\n",
      "  Downloading charset_normalizer-3.4.1-cp311-cp311-manylinux_2_17_x86_64.manylinux2014_x86_64.whl.metadata (35 kB)\n",
      "Collecting idna<4,>=2.5 (from requests<3.0.0,>=2.13.0->spacy->anchor-exp)\n",
      "  Downloading idna-3.10-py3-none-any.whl.metadata (10 kB)\n",
      "Collecting urllib3<3,>=1.21.1 (from requests<3.0.0,>=2.13.0->spacy->anchor-exp)\n",
      "  Downloading urllib3-2.4.0-py3-none-any.whl.metadata (6.5 kB)\n",
      "Requirement already satisfied: certifi>=2017.4.17 in ./.venv/lib/python3.11/site-packages (from requests<3.0.0,>=2.13.0->spacy->anchor-exp) (2025.1.31)\n",
      "Requirement already satisfied: networkx>=2.8 in ./.venv/lib/python3.11/site-packages (from scikit-image>=0.12->lime->anchor-exp) (3.4.2)\n",
      "Requirement already satisfied: pillow>=9.1 in ./.venv/lib/python3.11/site-packages (from scikit-image>=0.12->lime->anchor-exp) (11.2.1)\n",
      "Requirement already satisfied: imageio>=2.33 in ./.venv/lib/python3.11/site-packages (from scikit-image>=0.12->lime->anchor-exp) (2.37.0)\n",
      "Requirement already satisfied: tifffile>=2022.8.12 in ./.venv/lib/python3.11/site-packages (from scikit-image>=0.12->lime->anchor-exp) (2025.3.30)\n",
      "Requirement already satisfied: lazy-loader>=0.4 in ./.venv/lib/python3.11/site-packages (from scikit-image>=0.12->lime->anchor-exp) (0.4)\n",
      "Collecting blis<1.4.0,>=1.3.0 (from thinc<8.4.0,>=8.3.4->spacy->anchor-exp)\n",
      "  Downloading blis-1.3.0-cp311-cp311-manylinux_2_17_x86_64.manylinux2014_x86_64.whl.metadata (7.4 kB)\n",
      "Collecting confection<1.0.0,>=0.0.1 (from thinc<8.4.0,>=8.3.4->spacy->anchor-exp)\n",
      "  Downloading confection-0.1.5-py3-none-any.whl.metadata (19 kB)\n",
      "INFO: pip is looking at multiple versions of thinc to determine which version is compatible with other requirements. This could take a while.\n",
      "Collecting thinc<8.4.0,>=8.3.4 (from spacy->anchor-exp)\n",
      "  Downloading thinc-8.3.4-cp311-cp311-manylinux_2_17_x86_64.manylinux2014_x86_64.whl.metadata (15 kB)\n",
      "Collecting blis<1.3.0,>=1.2.0 (from thinc<8.4.0,>=8.3.4->spacy->anchor-exp)\n",
      "  Downloading blis-1.2.1-cp311-cp311-manylinux_2_17_x86_64.manylinux2014_x86_64.whl.metadata (7.4 kB)\n",
      "Collecting click>=8.0.0 (from typer<1.0.0,>=0.3.0->spacy->anchor-exp)\n",
      "  Downloading click-8.1.8-py3-none-any.whl.metadata (2.3 kB)\n",
      "Collecting shellingham>=1.3.0 (from typer<1.0.0,>=0.3.0->spacy->anchor-exp)\n",
      "  Downloading shellingham-1.5.4-py2.py3-none-any.whl.metadata (3.5 kB)\n",
      "Collecting rich>=10.11.0 (from typer<1.0.0,>=0.3.0->spacy->anchor-exp)\n",
      "  Downloading rich-14.0.0-py3-none-any.whl.metadata (18 kB)\n",
      "Collecting cloudpathlib<1.0.0,>=0.7.0 (from weasel<0.5.0,>=0.1.0->spacy->anchor-exp)\n",
      "  Downloading cloudpathlib-0.21.0-py3-none-any.whl.metadata (14 kB)\n",
      "Collecting smart-open<8.0.0,>=5.2.1 (from weasel<0.5.0,>=0.1.0->spacy->anchor-exp)\n",
      "  Downloading smart_open-7.1.0-py3-none-any.whl.metadata (24 kB)\n",
      "Collecting MarkupSafe>=2.0 (from jinja2->spacy->anchor-exp)\n",
      "  Downloading MarkupSafe-3.0.2-cp311-cp311-manylinux_2_17_x86_64.manylinux2014_x86_64.whl.metadata (4.0 kB)\n",
      "Requirement already satisfied: contourpy>=1.0.1 in ./.venv/lib/python3.11/site-packages (from matplotlib->lime->anchor-exp) (1.3.1)\n",
      "Requirement already satisfied: cycler>=0.10 in ./.venv/lib/python3.11/site-packages (from matplotlib->lime->anchor-exp) (0.12.1)\n",
      "Requirement already satisfied: fonttools>=4.22.0 in ./.venv/lib/python3.11/site-packages (from matplotlib->lime->anchor-exp) (4.57.0)\n",
      "Requirement already satisfied: kiwisolver>=1.0.1 in ./.venv/lib/python3.11/site-packages (from matplotlib->lime->anchor-exp) (1.4.8)\n",
      "Requirement already satisfied: pyparsing>=2.2.1 in ./.venv/lib/python3.11/site-packages (from matplotlib->lime->anchor-exp) (3.2.3)\n",
      "Requirement already satisfied: python-dateutil>=2.7 in ./.venv/lib/python3.11/site-packages (from matplotlib->lime->anchor-exp) (2.9.0.post0)\n",
      "Collecting marisa-trie>=1.1.0 (from language-data>=1.2->langcodes<4.0.0,>=3.2.0->spacy->anchor-exp)\n",
      "  Downloading marisa_trie-1.2.1-cp311-cp311-manylinux_2_17_x86_64.manylinux2014_x86_64.whl.metadata (9.0 kB)\n",
      "Requirement already satisfied: six>=1.5 in ./.venv/lib/python3.11/site-packages (from python-dateutil>=2.7->matplotlib->lime->anchor-exp) (1.17.0)\n",
      "Collecting markdown-it-py>=2.2.0 (from rich>=10.11.0->typer<1.0.0,>=0.3.0->spacy->anchor-exp)\n",
      "  Downloading markdown_it_py-3.0.0-py3-none-any.whl.metadata (6.9 kB)\n",
      "Requirement already satisfied: pygments<3.0.0,>=2.13.0 in ./.venv/lib/python3.11/site-packages (from rich>=10.11.0->typer<1.0.0,>=0.3.0->spacy->anchor-exp) (2.19.1)\n",
      "Requirement already satisfied: wrapt in ./.venv/lib/python3.11/site-packages (from smart-open<8.0.0,>=5.2.1->weasel<0.5.0,>=0.1.0->spacy->anchor-exp) (1.17.2)\n",
      "Collecting mdurl~=0.1 (from markdown-it-py>=2.2.0->rich>=10.11.0->typer<1.0.0,>=0.3.0->spacy->anchor-exp)\n",
      "  Downloading mdurl-0.1.2-py3-none-any.whl.metadata (1.6 kB)\n",
      "Downloading spacy-3.8.5-cp311-cp311-manylinux_2_17_x86_64.manylinux2014_x86_64.whl (30.6 MB)\n",
      "\u001b[2K   \u001b[90m━━━━━━━━━━━━━━━━━━━━━━━━━━━━━━━━━━━━━━━━\u001b[0m \u001b[32m30.6/30.6 MB\u001b[0m \u001b[31m33.8 MB/s\u001b[0m eta \u001b[36m0:00:00\u001b[0ma \u001b[36m0:00:01\u001b[0m\n",
      "\u001b[?25hDownloading catalogue-2.0.10-py3-none-any.whl (17 kB)\n",
      "Downloading cymem-2.0.11-cp311-cp311-manylinux_2_17_x86_64.manylinux2014_x86_64.whl (218 kB)\n",
      "Downloading langcodes-3.5.0-py3-none-any.whl (182 kB)\n",
      "Downloading murmurhash-1.0.12-cp311-cp311-manylinux_2_5_x86_64.manylinux1_x86_64.manylinux_2_17_x86_64.manylinux2014_x86_64.whl (134 kB)\n",
      "Downloading preshed-3.0.9-cp311-cp311-manylinux_2_5_x86_64.manylinux1_x86_64.manylinux_2_17_x86_64.manylinux2014_x86_64.whl (157 kB)\n",
      "Downloading pydantic-2.11.3-py3-none-any.whl (443 kB)\n",
      "Downloading pydantic_core-2.33.1-cp311-cp311-manylinux_2_17_x86_64.manylinux2014_x86_64.whl (2.0 MB)\n",
      "\u001b[2K   \u001b[90m━━━━━━━━━━━━━━━━━━━━━━━━━━━━━━━━━━━━━━━━\u001b[0m \u001b[32m2.0/2.0 MB\u001b[0m \u001b[31m51.8 MB/s\u001b[0m eta \u001b[36m0:00:00\u001b[0m\n",
      "\u001b[?25hDownloading requests-2.32.3-py3-none-any.whl (64 kB)\n",
      "Downloading spacy_legacy-3.0.12-py2.py3-none-any.whl (29 kB)\n",
      "Downloading spacy_loggers-1.0.5-py3-none-any.whl (22 kB)\n",
      "Downloading srsly-2.5.1-cp311-cp311-manylinux_2_17_x86_64.manylinux2014_x86_64.whl (1.1 MB)\n",
      "\u001b[2K   \u001b[90m━━━━━━━━━━━━━━━━━━━━━━━━━━━━━━━━━━━━━━━━\u001b[0m \u001b[32m1.1/1.1 MB\u001b[0m \u001b[31m42.8 MB/s\u001b[0m eta \u001b[36m0:00:00\u001b[0m\n",
      "\u001b[?25hDownloading thinc-8.3.4-cp311-cp311-manylinux_2_17_x86_64.manylinux2014_x86_64.whl (3.9 MB)\n",
      "\u001b[2K   \u001b[90m━━━━━━━━━━━━━━━━━━━━━━━━━━━━━━━━━━━━━━━━\u001b[0m \u001b[32m3.9/3.9 MB\u001b[0m \u001b[31m13.7 MB/s\u001b[0m eta \u001b[36m0:00:00\u001b[0ma \u001b[36m0:00:01\u001b[0m\n",
      "\u001b[?25hDownloading typer-0.15.2-py3-none-any.whl (45 kB)\n",
      "Downloading wasabi-1.1.3-py3-none-any.whl (27 kB)\n",
      "Downloading weasel-0.4.1-py3-none-any.whl (50 kB)\n",
      "Downloading jinja2-3.1.6-py3-none-any.whl (134 kB)\n",
      "Downloading annotated_types-0.7.0-py3-none-any.whl (13 kB)\n",
      "Downloading blis-1.2.1-cp311-cp311-manylinux_2_17_x86_64.manylinux2014_x86_64.whl (11.7 MB)\n",
      "\u001b[2K   \u001b[90m━━━━━━━━━━━━━━━━━━━━━━━━━━━━━━━━━━━━━━━━\u001b[0m \u001b[32m11.7/11.7 MB\u001b[0m \u001b[31m29.9 MB/s\u001b[0m eta \u001b[36m0:00:00\u001b[0m \u001b[36m0:00:01\u001b[0m\n",
      "\u001b[?25hDownloading charset_normalizer-3.4.1-cp311-cp311-manylinux_2_17_x86_64.manylinux2014_x86_64.whl (143 kB)\n",
      "Downloading click-8.1.8-py3-none-any.whl (98 kB)\n",
      "Downloading cloudpathlib-0.21.0-py3-none-any.whl (52 kB)\n",
      "Downloading confection-0.1.5-py3-none-any.whl (35 kB)\n",
      "Downloading idna-3.10-py3-none-any.whl (70 kB)\n",
      "Downloading language_data-1.3.0-py3-none-any.whl (5.4 MB)\n",
      "\u001b[2K   \u001b[90m━━━━━━━━━━━━━━━━━━━━━━━━━━━━━━━━━━━━━━━━\u001b[0m \u001b[32m5.4/5.4 MB\u001b[0m \u001b[31m51.3 MB/s\u001b[0m eta \u001b[36m0:00:00\u001b[0m\n",
      "\u001b[?25hDownloading MarkupSafe-3.0.2-cp311-cp311-manylinux_2_17_x86_64.manylinux2014_x86_64.whl (23 kB)\n",
      "Downloading rich-14.0.0-py3-none-any.whl (243 kB)\n",
      "Downloading shellingham-1.5.4-py2.py3-none-any.whl (9.8 kB)\n",
      "Downloading smart_open-7.1.0-py3-none-any.whl (61 kB)\n",
      "Downloading typing_inspection-0.4.0-py3-none-any.whl (14 kB)\n",
      "Downloading urllib3-2.4.0-py3-none-any.whl (128 kB)\n",
      "Downloading marisa_trie-1.2.1-cp311-cp311-manylinux_2_17_x86_64.manylinux2014_x86_64.whl (1.4 MB)\n",
      "\u001b[2K   \u001b[90m━━━━━━━━━━━━━━━━━━━━━━━━━━━━━━━━━━━━━━━━\u001b[0m \u001b[32m1.4/1.4 MB\u001b[0m \u001b[31m41.7 MB/s\u001b[0m eta \u001b[36m0:00:00\u001b[0m\n",
      "\u001b[?25hDownloading markdown_it_py-3.0.0-py3-none-any.whl (87 kB)\n",
      "Downloading mdurl-0.1.2-py3-none-any.whl (10.0 kB)\n",
      "Building wheels for collected packages: anchor-exp\n",
      "  Building wheel for anchor-exp (pyproject.toml) ... \u001b[?25ldone\n",
      "\u001b[?25h  Created wheel for anchor-exp: filename=anchor_exp-0.0.2.0-py3-none-any.whl size=433571 sha256=5fb0b1ce972885e7f2e75098c172fb1f7d876490643ea7f99c7fc28d94155722\n",
      "  Stored in directory: /home/andrea-tarabotto/.cache/pip/wheels/02/f9/94/c51254cde228ec1397f5c2dafb60bacab62c53159f000857fe\n",
      "Successfully built anchor-exp\n",
      "Installing collected packages: cymem, wasabi, urllib3, typing-inspection, spacy-loggers, spacy-legacy, smart-open, shellingham, pydantic-core, murmurhash, mdurl, MarkupSafe, marisa-trie, idna, cloudpathlib, click, charset-normalizer, catalogue, blis, annotated-types, srsly, requests, pydantic, preshed, markdown-it-py, language-data, jinja2, rich, langcodes, confection, typer, thinc, weasel, spacy, anchor-exp\n",
      "Successfully installed MarkupSafe-3.0.2 anchor-exp-0.0.2.0 annotated-types-0.7.0 blis-1.2.1 catalogue-2.0.10 charset-normalizer-3.4.1 click-8.1.8 cloudpathlib-0.21.0 confection-0.1.5 cymem-2.0.11 idna-3.10 jinja2-3.1.6 langcodes-3.5.0 language-data-1.3.0 marisa-trie-1.2.1 markdown-it-py-3.0.0 mdurl-0.1.2 murmurhash-1.0.12 preshed-3.0.9 pydantic-2.11.3 pydantic-core-2.33.1 requests-2.32.3 rich-14.0.0 shellingham-1.5.4 smart-open-7.1.0 spacy-3.8.5 spacy-legacy-3.0.12 spacy-loggers-1.0.5 srsly-2.5.1 thinc-8.3.4 typer-0.15.2 typing-inspection-0.4.0 urllib3-2.4.0 wasabi-1.1.3 weasel-0.4.1\n",
      "Note: you may need to restart the kernel to use updated packages.\n"
     ]
    }
   ],
   "source": [
    "pip install anchor-exp"
   ]
  },
  {
   "cell_type": "code",
   "execution_count": 2,
   "metadata": {},
   "outputs": [],
   "source": [
    "from __future__ import print_function\n",
    "import numpy as np\n",
    "np.random.seed(1)\n",
    "import sys\n",
    "import sklearn\n",
    "import sklearn.ensemble\n",
    "%load_ext autoreload\n",
    "%autoreload 2\n",
    "from anchor import utils\n",
    "from anchor import anchor_tabular\n",
    "import pandas as pd\n",
    "import matplotlib.pyplot as plt"
   ]
  },
  {
   "cell_type": "code",
   "execution_count": 3,
   "metadata": {},
   "outputs": [
    {
     "name": "stdout",
     "output_type": "stream",
     "text": [
      "(12, 9)\n"
     ]
    }
   ],
   "source": [
    "dataset_folder = 'datasets/dataset500.csv'\n",
    "df = pd.read_csv(dataset_folder)\n",
    "\n",
    "all_true_dataset = df[(df['req_0'] == 1) & (df['req_1'] == 1) & (df['req_2'] == 1) & (df['req_3'] == 1)]\n",
    "all_true_dataset = all_true_dataset.drop(columns=['req_0','req_1', 'req_2', 'req_3'])\n",
    "print(all_true_dataset.shape)"
   ]
  },
  {
   "cell_type": "code",
   "execution_count": 4,
   "metadata": {},
   "outputs": [],
   "source": [
    "df0 = df.drop(columns=['req_1', 'req_2', 'req_3'])\n",
    "df0.to_csv('datasets/dataset500req0.csv', index=False)\n",
    "\n",
    "df1 = df.drop(columns=['req_0', 'req_2', 'req_3'])\n",
    "df1.to_csv('datasets/dataset500req1.csv', index=False)\n",
    "\n",
    "df2 = df.drop(columns=['req_0', 'req_1', 'req_3'])\n",
    "df2.to_csv('datasets/dataset500req2.csv', index=False)\n",
    "\n",
    "df3 = df.drop(columns=['req_0', 'req_1', 'req_2'])\n",
    "df3.to_csv('datasets/dataset500req3.csv', index=False)"
   ]
  },
  {
   "cell_type": "code",
   "execution_count": 5,
   "metadata": {},
   "outputs": [
    {
     "name": "stdout",
     "output_type": "stream",
     "text": [
      "Train 1.0\n",
      "Test 0.98\n",
      "[[\"b'firm obstacle' = 1.0\", \"b'power' > 23.00\", \"b'cruise speed' <= 71.28\", \"b'image resolution' > 23.99\", \"b'smoke intensity' <= 49.24\", \"b'obstacle distance' <= 43.80\"], [\"b'firm obstacle' = 1.0\", \"b'image resolution' > 75.39\", \"b'cruise speed' <= 44.79\", \"b'power' > 23.00\", \"b'illuminance' > 51.56\", \"b'smoke intensity' <= 49.24\"], [\"b'firm obstacle' = 1.0\", \"b'power' > 23.00\", \"b'cruise speed' <= 44.79\", \"b'smoke intensity' <= 49.24\", \"b'image resolution' > 23.99\"], [\"b'firm obstacle' = 1.0\", \"b'cruise speed' <= 22.33\", \"b'power' > 23.00\", \"b'smoke intensity' <= 74.25\", \"b'image resolution' > 23.99\"], [\"b'firm obstacle' = 1.0\", \"b'image resolution' > 75.39\", \"b'cruise speed' <= 44.79\", \"b'power' > 23.00\", \"b'smoke intensity' <= 49.24\", \"b'illuminance' > 27.51\"], [\"b'firm obstacle' = 1.0\", \"b'smoke intensity' <= 23.26\", \"b'image resolution' > 51.33\", \"27.51 < b'illuminance' <= 75.57\"], [\"b'firm obstacle' = 1.0\", \"b'image resolution' > 75.39\", \"b'cruise speed' <= 44.79\", \"b'power' > 23.00\", \"b'obstacle distance' > 21.50\"], [\"b'firm obstacle' = 1.0\", \"b'smoke intensity' <= 23.26\", \"b'cruise speed' <= 44.79\", \"b'power' > 23.00\", \"b'image resolution' > 23.99\", \"b'illuminance' > 27.51\"], [\"b'firm obstacle' = 1.0\", \"b'smoke intensity' <= 23.26\", \"b'cruise speed' <= 71.28\", \"b'image resolution' > 23.99\", \"b'illuminance' > 27.51\"], [\"b'firm obstacle' = 1.0\", \"b'image resolution' > 51.33\", \"b'illuminance' > 75.57\", \"b'obstacle distance' > 43.80\"], [\"b'firm obstacle' = 1.0\", \"b'cruise speed' <= 22.33\", \"b'power' > 23.00\", \"b'smoke intensity' <= 23.26\", \"b'image resolution' > 23.99\"], [\"b'firm obstacle' = 1.0\", \"b'image resolution' > 51.33\", \"b'illuminance' > 75.57\", \"b'power' > 77.25\"]]\n",
      "Train 1.0\n",
      "Test 0.9\n",
      "[[\"b'cruise speed' > 44.79\"], [\"51.56 < b'illuminance' <= 75.57\", \"b'cruise speed' <= 44.79\", \"b'controls responsiveness' > 43.98\", \"b'power' > 50.00\", \"b'smoke intensity' <= 49.24\", \"b'image resolution' > 75.39\", \"b'obstacle size' > 71.67\", \"b'obstacle distance' > 21.50\"], [\"b'controls responsiveness' > 43.98\", \"b'cruise speed' <= 44.79\", \"b'smoke intensity' <= 49.24\", \"b'power' > 23.00\", \"b'illuminance' > 75.57\", \"23.99 < b'image resolution' <= 51.33\", \"b'obstacle size' > 27.78\", \"b'obstacle distance' <= 70.59\"], [\"b'smoke intensity' <= 23.26\", \"b'cruise speed' <= 22.33\", \"b'controls responsiveness' > 43.98\", \"b'illuminance' > 51.56\", \"b'power' > 77.25\", \"23.99 < b'image resolution' <= 51.33\", \"b'obstacle size' > 49.35\"], [\"b'smoke intensity' <= 74.25\", \"b'cruise speed' <= 44.79\", \"b'power' > 23.00\", \"b'illuminance' > 27.51\", \"b'controls responsiveness' > 43.98\", \"b'obstacle size' > 27.78\"], [\"b'smoke intensity' <= 23.26\", \"b'cruise speed' <= 44.79\", \"b'illuminance' > 27.51\", \"b'controls responsiveness' > 22.45\", \"b'power' > 23.00\", \"27.78 < b'obstacle size' <= 49.35\", \"23.99 < b'image resolution' <= 75.39\", \"43.80 < b'obstacle distance' <= 70.59\"], [\"b'power' > 23.00\", \"b'cruise speed' <= 44.79\", \"b'illuminance' > 27.51\", \"b'obstacle size' > 27.78\", \"b'image resolution' > 23.99\"], [\"b'smoke intensity' <= 23.26\", \"b'controls responsiveness' > 74.46\", \"b'cruise speed' <= 44.79\", \"b'illuminance' > 51.56\", \"23.99 < b'image resolution' <= 51.33\", \"b'power' > 23.00\", \"43.80 < b'obstacle distance' <= 70.59\", \"b'obstacle size' > 27.78\"], [\"b'illuminance' > 75.57\", \"b'smoke intensity' <= 23.26\", \"b'power' > 23.00\", \"b'cruise speed' <= 71.28\", \"b'controls responsiveness' > 43.98\", \"b'obstacle size' > 27.78\", \"23.99 < b'image resolution' <= 51.33\", \"21.50 < b'obstacle distance' <= 70.59\"], [\"b'power' > 50.00\", \"b'controls responsiveness' > 43.98\", \"b'smoke intensity' <= 74.25\", \"b'cruise speed' <= 44.79\", \"23.99 < b'image resolution' <= 75.39\", \"43.80 < b'obstacle distance' <= 70.59\", \"b'illuminance' > 75.57\", \"b'obstacle size' > 71.67\"], [\"b'smoke intensity' <= 23.26\", \"b'cruise speed' <= 22.33\", \"50.00 < b'power' <= 77.25\", \"b'illuminance' > 75.57\", \"21.50 < b'obstacle distance' <= 70.59\", \"23.99 < b'image resolution' <= 51.33\"], [\"b'cruise speed' <= 44.79\", \"b'illuminance' > 75.57\", \"21.50 < b'obstacle distance' <= 43.80\", \"b'power' > 77.25\", \"b'smoke intensity' <= 49.24\", \"b'obstacle size' > 49.35\", \"b'controls responsiveness' > 22.45\", \"23.99 < b'image resolution' <= 75.39\"]]\n",
      "Train 1.0\n",
      "Test 0.94\n",
      "[[\"b'firm obstacle' = 1.0\", \"b'controls responsiveness' > 74.46\", \"b'cruise speed' <= 71.28\", \"b'image resolution' > 23.99\", \"b'illuminance' > 27.51\", \"b'smoke intensity' <= 49.24\", \"27.78 < b'obstacle size' <= 71.67\", \"23.00 < b'power' <= 50.00\"], [\"b'firm obstacle' = 1.0\", \"b'cruise speed' <= 44.79\", \"b'controls responsiveness' > 43.98\", \"b'image resolution' > 51.33\", \"b'obstacle distance' > 70.59\", \"b'illuminance' > 51.56\", \"b'power' > 23.00\", \"b'smoke intensity' <= 74.25\"], [\"b'firm obstacle' = 1.0\", \"b'controls responsiveness' > 74.46\", \"22.33 < b'cruise speed' <= 44.79\", \"b'illuminance' > 75.57\", \"b'image resolution' > 23.99\", \"23.00 < b'power' <= 50.00\", \"b'obstacle size' <= 71.67\"], [\"b'firm obstacle' = 1.0\", \"b'cruise speed' <= 44.79\", \"b'controls responsiveness' > 43.98\", \"b'image resolution' > 23.99\", \"b'power' > 23.00\", \"b'illuminance' > 51.56\", \"b'obstacle size' <= 71.67\", \"b'smoke intensity' <= 23.26\"], [\"b'firm obstacle' = 1.0\", \"b'controls responsiveness' > 74.46\", \"b'cruise speed' <= 44.79\", \"b'image resolution' > 75.39\", \"b'obstacle size' <= 71.67\", \"b'smoke intensity' <= 49.24\"], [\"b'firm obstacle' = 1.0\", \"b'cruise speed' <= 44.79\", \"b'image resolution' > 51.33\", \"b'obstacle distance' > 43.80\", \"b'controls responsiveness' > 22.45\", \"b'smoke intensity' <= 23.26\", \"b'illuminance' > 27.51\"], [\"b'firm obstacle' = 1.0\", \"b'cruise speed' <= 44.79\", \"b'image resolution' > 51.33\", \"b'controls responsiveness' > 22.45\", \"b'illuminance' > 51.56\", \"b'power' > 77.25\", \"b'obstacle distance' > 21.50\", \"b'smoke intensity' <= 74.25\"], [\"b'firm obstacle' = 1.0\", \"b'controls responsiveness' > 74.46\", \"b'cruise speed' <= 44.79\", \"b'image resolution' > 23.99\", \"b'illuminance' > 51.56\", \"b'obstacle size' <= 71.67\", \"b'power' > 23.00\", \"b'smoke intensity' <= 23.26\"], [\"b'firm obstacle' = 1.0\", \"b'illuminance' > 75.57\", \"b'controls responsiveness' > 43.98\", \"b'image resolution' > 23.99\", \"b'cruise speed' <= 71.28\", \"23.00 < b'power' <= 50.00\", \"b'obstacle distance' > 21.50\"], [\"b'firm obstacle' = 1.0\", \"b'illuminance' > 75.57\", \"b'cruise speed' <= 44.79\", \"b'controls responsiveness' > 43.98\", \"b'image resolution' > 51.33\", \"b'obstacle distance' > 43.80\"], [\"b'firm obstacle' = 1.0\", \"b'illuminance' > 75.57\", \"b'cruise speed' <= 22.33\", \"b'image resolution' > 23.99\", \"b'obstacle distance' > 21.50\", \"b'smoke intensity' <= 23.26\", \"b'power' > 50.00\", \"b'obstacle size' <= 49.35\"], [\"b'firm obstacle' = 1.0\", \"b'illuminance' > 75.57\", \"b'cruise speed' <= 44.79\", \"b'image resolution' > 23.99\", \"b'controls responsiveness' > 22.45\", \"b'obstacle distance' > 21.50\", \"b'power' > 50.00\", \"b'smoke intensity' <= 49.24\"]]\n",
      "Train 1.0\n",
      "Test 0.78\n",
      "[[\"b'firm obstacle' = 1.0\", \"b'controls responsiveness' > 74.46\", \"b'illuminance' > 27.51\", \"b'image resolution' > 23.99\", \"22.33 < b'cruise speed' <= 71.28\", \"b'obstacle size' <= 71.67\", \"23.26 < b'smoke intensity' <= 74.25\", \"b'power' <= 77.25\"], [\"b'firm obstacle' = 1.0\", \"b'illuminance' > 51.56\", \"b'controls responsiveness' > 43.98\", \"b'image resolution' > 51.33\", \"b'obstacle distance' > 21.50\", \"b'cruise speed' <= 44.79\"], [\"b'firm obstacle' = 1.0\", \"b'controls responsiveness' > 74.46\", \"22.33 < b'cruise speed' <= 44.79\", \"b'illuminance' > 75.57\", \"b'image resolution' > 23.99\", \"b'smoke intensity' <= 49.24\"], [\"b'firm obstacle' = 1.0\", \"51.56 < b'illuminance' <= 75.57\", \"b'controls responsiveness' > 43.98\", \"b'cruise speed' <= 44.79\", \"b'image resolution' > 23.99\", \"27.78 < b'obstacle size' <= 71.67\", \"b'smoke intensity' <= 23.26\", \"b'power' > 23.00\"], [\"b'firm obstacle' = 1.0\", \"b'controls responsiveness' > 74.46\", \"b'cruise speed' <= 44.79\", \"b'illuminance' > 27.51\", \"b'image resolution' > 51.33\", \"b'obstacle distance' > 21.50\", \"b'obstacle size' <= 49.35\"], [\"b'firm obstacle' = 1.0\", \"b'cruise speed' <= 44.79\", \"b'controls responsiveness' > 22.45\", \"b'image resolution' > 23.99\", \"b'obstacle distance' > 43.80\", \"b'illuminance' > 27.51\", \"b'smoke intensity' <= 23.26\"], [\"b'firm obstacle' = 1.0\", \"b'illuminance' > 51.56\", \"b'image resolution' > 23.99\", \"b'cruise speed' <= 44.79\", \"b'obstacle distance' > 21.50\", \"b'controls responsiveness' > 22.45\", \"b'power' > 23.00\"], [\"b'firm obstacle' = 1.0\", \"b'controls responsiveness' > 74.46\", \"b'cruise speed' <= 44.79\", \"b'illuminance' > 51.56\", \"b'image resolution' > 23.99\", \"b'obstacle distance' > 43.80\"], [\"b'firm obstacle' = 1.0\", \"b'illuminance' > 75.57\", \"b'controls responsiveness' > 43.98\", \"b'image resolution' > 23.99\", \"b'obstacle distance' > 21.50\", \"b'cruise speed' <= 71.28\", \"b'smoke intensity' <= 23.26\"], [\"b'firm obstacle' = 1.0\", \"b'illuminance' > 75.57\", \"b'controls responsiveness' > 43.98\", \"b'image resolution' > 23.99\", \"43.80 < b'obstacle distance' <= 70.59\", \"b'cruise speed' <= 71.28\"], [\"b'firm obstacle' = 1.0\", \"b'illuminance' > 75.57\", \"b'image resolution' > 23.99\", \"b'obstacle distance' > 21.50\", \"b'cruise speed' <= 22.33\", \"b'obstacle size' <= 49.35\", \"b'smoke intensity' <= 23.26\", \"50.00 < b'power' <= 77.25\"], [\"b'firm obstacle' = 1.0\", \"b'illuminance' > 75.57\", \"b'controls responsiveness' > 22.45\", \"b'image resolution' > 51.33\", \"b'obstacle distance' > 21.50\", \"b'cruise speed' <= 44.79\"]]\n"
     ]
    }
   ],
   "source": [
    "datasets = []\n",
    "dataframes = []\n",
    "for i in range(4):\n",
    "    dataset_folder = 'datasets/dataset500req' + str(i) + '.csv'\n",
    "    datasets.append(utils.load_csv_dataset(dataset_folder, 9))\n",
    "\n",
    "    c = sklearn.ensemble.RandomForestClassifier(n_estimators=50, n_jobs=5)\n",
    "    c.fit(datasets[i].train, datasets[i].labels_train)\n",
    "    print('Train', sklearn.metrics.accuracy_score(datasets[i].labels_train, c.predict(datasets[i].train)))\n",
    "    print('Test', sklearn.metrics.accuracy_score(datasets[i].labels_test, c.predict(datasets[i].test)))\n",
    "\n",
    "    explainer = anchor_tabular.AnchorTabularExplainer(\n",
    "        datasets[i].class_names, #it maps the 0 and 1 in the dataset's requirements to the class names\n",
    "        datasets[i].feature_names,\n",
    "        datasets[i].train,\n",
    "        datasets[i].categorical_names)\n",
    "    \n",
    "    names = []\n",
    "    for j in range(all_true_dataset.shape[0]):\n",
    "        \n",
    "        #do a csv with a prediction for each sample\n",
    "        #print(all_true_dataset.iloc[i].values.reshape(1, -1)[0])\n",
    "        with open('datasets/anchorsReq' +str(i) +'.csv', 'a') as f:\n",
    "            f.write('Prediction: %s\\n' % (explainer.class_names[c.predict(all_true_dataset.iloc[j].values.reshape(1, -1))[0]]))\n",
    "            exp = explainer.explain_instance(all_true_dataset.iloc[j].values.reshape(1, -1), c.predict, threshold=0.95)\n",
    "            f.write('Anchor: %s\\n' % (' AND '.join(exp.names())))\n",
    "            #print('Anchor: %s' % (' AND '.join(exp.names())))\n",
    "            f.write('Precision: %.2f\\n' % exp.precision())\n",
    "            f.write('Coverage: %.2f\\n' % exp.coverage())\n",
    "            f.write('\\n')\n",
    "            names.append(exp.names())\n",
    "    \n",
    "    dataframes.append(names)\n",
    "    \n",
    "    print(dataframes[i])\n",
    "\n",
    "\n"
   ]
  },
  {
   "cell_type": "markdown",
   "metadata": {},
   "source": [
    "It prints the rules that allow us to keep the sample's prediction, in this case False for requirement 2, and the precision and coverage with which these rules hold\n",
    "\n",
    "The coverage tells us how much of the dataset we have explained with this rule."
   ]
  },
  {
   "cell_type": "code",
   "execution_count": 6,
   "metadata": {},
   "outputs": [
    {
     "name": "stdout",
     "output_type": "stream",
     "text": [
      "1.0 69.0 22.7995 32.0775 47.5676 18.952 True False False True\n",
      "1.0 72.0 18.0329 9.0105 88.1242 14.3371 True False True True\n",
      "1.0 88.0 47.0146 11.4562 55.1652 28.0682 True False True True\n",
      "1.0 72.0 61.9286 35.0041 80.1206 34.0424 True False False False\n",
      "1.0 38.0 50.9071 45.0738 33.397 15.681 True True True True\n",
      "1.0 30.0 35.8364 46.5315 49.6464 7.3371 True True True True\n",
      "1.0 46.0 29.8661 45.8727 50.6223 17.2824 True False True True\n",
      "1.0 97.0 12.8875 0.9936 49.3559 13.2518 True True True True\n",
      "1.0 54.0 0.8053 6.5258 82.9626 12.8178 False False False False\n",
      "1.0 38.0 0.5755 22.1285 61.4105 37.1102 True True False True\n",
      "1.0 77.0 25.9089 31.7312 93.6499 22.3561 True True True True\n",
      "1.0 31.0 43.2555 21.008 25.6881 34.9979 True False True True\n",
      "1.0 80.0 38.3862 26.5053 75.4232 11.7324 True False False True\n",
      "1.0 89.0 27.4022 15.124 76.5957 16.5379 True False False False\n",
      "1.0 56.0 27.8734 13.3137 48.469 18.1208 True False False False\n",
      "1.0 51.0 69.8011 15.0281 81.2153 15.2147 True False True True\n",
      "1.0 89.0 67.3884 14.8276 97.7112 24.3901 True False False False\n",
      "1.0 77.0 46.1078 30.3211 34.4913 38.2166 True False False True\n",
      "1.0 86.0 0.0571 36.7167 30.9564 31.8367 True False True True\n",
      "1.0 76.0 29.9633 24.6914 24.3389 26.241 True False True True\n",
      "1.0 61.0 66.7921 30.6624 40.9977 22.364 True True False True\n",
      "1.0 26.0 18.1077 21.3254 34.6933 3.2455 True False False False\n",
      "1.0 43.0 60.537 3.8644 33.5818 24.5258 True True True True\n",
      "1.0 97.0 70.1853 48.4129 89.7439 17.6417 False False False False\n",
      "1.0 38.0 44.502 33.2836 60.605 18.8826 True False False True\n",
      "1.0 58.0 12.9419 19.5839 30.3257 39.4229 True True True True\n",
      "1.0 95.0 37.3821 39.9764 71.3693 23.1465 True True True True\n",
      "1.0 48.0 3.7825 23.2642 74.4159 13.9217 True False False False\n",
      "1.0 84.0 38.5143 25.7712 98.0599 43.0643 True False True True\n",
      "17\n"
     ]
    }
   ],
   "source": [
    "lista = []\n",
    "for i in range(df.shape[0]):\n",
    "    dat = df.iloc[i]\n",
    "    if((dat['firm obstacle'] == 1 and dat['power']>23.00 and dat['cruise speed']<=71.28 and dat['smoke intensity']<=49.24 and dat['image resolution']>23.99 and dat['obstacle distance']<=43.80)):\n",
    "        lista.append(dat)\n",
    "        print(dat['firm obstacle'], dat['power'], dat['cruise speed'], dat['smoke intensity'], dat['image resolution'], dat['obstacle distance'], dat['req_0'], dat['req_1'], dat['req_2'], dat['req_3'])\n",
    "\n",
    "print(len(lista)-12)"
   ]
  },
  {
   "cell_type": "code",
   "execution_count": 19,
   "metadata": {},
   "outputs": [
    {
     "data": {
      "text/plain": [
       "\"b'smoke intensity' <= 49.24\""
      ]
     },
     "execution_count": 19,
     "metadata": {},
     "output_type": "execute_result"
    }
   ],
   "source": [
    "dataframes[0][2][3]"
   ]
  },
  {
   "cell_type": "code",
   "execution_count": 22,
   "metadata": {},
   "outputs": [],
   "source": [
    "def get_anchor(a):\n",
    "    quoted_part = a.split(\"'\")[1]\n",
    "    rest = a.replace(f\"'{quoted_part}'\", '').replace(\"b\", '').strip()\n",
    "\n",
    "    return quoted_part, rest"
   ]
  },
  {
   "cell_type": "code",
   "execution_count": 33,
   "metadata": {},
   "outputs": [],
   "source": [
    "import re\n",
    "\n",
    "def parse_constraint(constraint):\n",
    "    match = re.match(r\"(>=|<=|>|<)\\s*(-?\\d+\\.?\\d*)\", constraint.strip())\n",
    "    if not match:\n",
    "        raise ValueError(f\"Invalid constraint format: {constraint}\")\n",
    "    op, val = match.groups()\n",
    "    return op, float(val)\n",
    "\n",
    "def to_interval(op, val):\n",
    "    if op == \">\":\n",
    "        return (val, float(\"inf\"), False, True)\n",
    "    elif op == \">=\":\n",
    "        return (val, float(\"inf\"), True, True)\n",
    "    elif op == \"<\":\n",
    "        return (float(\"-inf\"), val, True, False)\n",
    "    elif op == \"<=\":\n",
    "        return (float(\"-inf\"), val, True, True)\n",
    "\n",
    "def intersect_constraints(c1, c2):\n",
    "    op1, val1 = parse_constraint(c1)\n",
    "    op2, val2 = parse_constraint(c2)\n",
    "\n",
    "    l1, u1, incl_l1, incl_u1 = to_interval(op1, val1)\n",
    "    l2, u2, incl_l2, incl_u2 = to_interval(op2, val2)\n",
    "\n",
    "    # Lower bound\n",
    "    if l1 > l2 or (l1 == l2 and not incl_l1):\n",
    "        lower = l1\n",
    "        lower_inclusive = incl_l1\n",
    "    elif l2 > l1 or (l2 == l1 and not incl_l2):\n",
    "        lower = l2\n",
    "        lower_inclusive = incl_l2\n",
    "    else:\n",
    "        lower = l1\n",
    "        lower_inclusive = incl_l1 and incl_l2\n",
    "\n",
    "    # Upper bound\n",
    "    if u1 < u2 or (u1 == u2 and not incl_u1):\n",
    "        upper = u1\n",
    "        upper_inclusive = incl_u1\n",
    "    elif u2 < u1 or (u2 == u1 and not incl_u2):\n",
    "        upper = u2\n",
    "        upper_inclusive = incl_u2\n",
    "    else:\n",
    "        upper = u1\n",
    "        upper_inclusive = incl_u1 and incl_u2\n",
    "\n",
    "    if lower > upper or (lower == upper and not (lower_inclusive and upper_inclusive)):\n",
    "        return \"Empty intersection\"\n",
    "\n",
    "    # Convert back to constraint format\n",
    "    constraints = []\n",
    "    if lower != float(\"-inf\"):\n",
    "        constraints.append(f\"{'>=' if lower_inclusive else '>'} {lower}\")\n",
    "    if upper != float(\"inf\"):\n",
    "        constraints.append(f\"{'<=' if upper_inclusive else '<'} {upper}\")\n",
    "    \n",
    "    return \" AND \".join(constraints)\n",
    "\n",
    "def union_constraints(c1, c2):\n",
    "    op1, val1 = parse_constraint(c1)\n",
    "    op2, val2 = parse_constraint(c2)\n",
    "\n",
    "    l1, u1, incl_l1, incl_u1 = to_interval(op1, val1)\n",
    "    l2, u2, incl_l2, incl_u2 = to_interval(op2, val2)\n",
    "\n",
    "    # Order the intervals by lower bound\n",
    "    if l1 > l2 or (l1 == l2 and incl_l2 and not incl_l1):\n",
    "        l1, u1, incl_l1, incl_u1, l2, u2, incl_l2, incl_u2 = l2, u2, incl_l2, incl_u2, l1, u1, incl_l1, incl_u1\n",
    "\n",
    "    # Check if intervals are overlapping or adjacent\n",
    "    overlap = (\n",
    "        u1 > l2 or\n",
    "        (u1 == l2 and (incl_u1 or incl_l2))\n",
    "    )\n",
    "\n",
    "    if overlap:\n",
    "        # Merge into a single interval\n",
    "        lower = l1\n",
    "        lower_inclusive = incl_l1\n",
    "        if u1 > u2 or (u1 == u2 and incl_u1):\n",
    "            upper = u1\n",
    "            upper_inclusive = incl_u1\n",
    "        else:\n",
    "            upper = u2\n",
    "            upper_inclusive = incl_u2\n",
    "\n",
    "        constraints = []\n",
    "        if lower != float(\"-inf\"):\n",
    "            constraints.append(f\"{'>=' if lower_inclusive else '>'} {lower}\")\n",
    "        if upper != float(\"inf\"):\n",
    "            constraints.append(f\"{'<=' if upper_inclusive else '<'} {upper}\")\n",
    "        return \" AND \".join(constraints)\n",
    "    \n",
    "    # Disjoint: return union of intervals\n",
    "    def format_interval(l, u, il, iu):\n",
    "        parts = []\n",
    "        if l != float(\"-inf\"):\n",
    "            parts.append(f\"{'>=' if il else '>'} {l}\")\n",
    "        if u != float(\"inf\"):\n",
    "            parts.append(f\"{'<=' if iu else '<'} {u}\")\n",
    "        return \" AND \".join(parts)\n",
    "\n",
    "    interval1 = format_interval(l1, u1, incl_l1, incl_u1)\n",
    "    interval2 = format_interval(l2, u2, incl_l2, incl_u2)\n",
    "    return f\"({interval1}) OR ({interval2})\""
   ]
  },
  {
   "cell_type": "code",
   "execution_count": 34,
   "metadata": {},
   "outputs": [],
   "source": [
    "dictionaries =[]\n",
    "for i in range(len(dataframes[0])):\n",
    "    dictionaries.append([{}, {}, {}, {}])\n",
    "    for j in range(4):\n",
    "        for k in range(len(dataframes[j][i])):\n",
    "            quoted, rest = get_anchor(dataframes[j][i][k])\n",
    "            dictionaries[i][j][quoted] = rest"
   ]
  },
  {
   "cell_type": "code",
   "execution_count": 38,
   "metadata": {},
   "outputs": [],
   "source": [
    "featureNames = ['cruise speed','image resolution','illuminance','controls responsiveness','power',\n",
    "     'smoke intensity','obstacle size','obstacle distance','firm obstacle']"
   ]
  },
  {
   "cell_type": "code",
   "execution_count": 39,
   "metadata": {},
   "outputs": [
    {
     "name": "stdout",
     "output_type": "stream",
     "text": [
      "[[{'firm obstacle': '= 1.0', 'power': '> 23.00', 'cruise speed': '<= 71.28', 'image resolution': '> 23.99', 'smoke intensity': '<= 49.24', 'obstacle distance': '<= 43.80'}, {'cruise speed': '> 44.79'}, {'firm obstacle': '= 1.0', 'controls responsiveness': '> 74.46', 'cruise speed': '<= 71.28', 'image resolution': '> 23.99', 'illuminance': '> 27.51', 'smoke intensity': '<= 49.24', 'obstacle size': '27.78 <  <= 71.67', 'power': '23.00 <  <= 50.00'}, {'firm obstacle': '= 1.0', 'controls responsiveness': '> 74.46', 'illuminance': '> 27.51', 'image resolution': '> 23.99', 'cruise speed': '22.33 <  <= 71.28', 'obstacle size': '<= 71.67', 'smoke intensity': '23.26 <  <= 74.25', 'power': '<= 77.25'}], [{'firm obstacle': '= 1.0', 'image resolution': '> 75.39', 'cruise speed': '<= 44.79', 'power': '> 23.00', 'illuminance': '> 51.56', 'smoke intensity': '<= 49.24'}, {'illuminance': '51.56 <  <= 75.57', 'cruise speed': '<= 44.79', 'controls responsiveness': '> 43.98', 'power': '> 50.00', 'smoke intensity': '<= 49.24', 'image resolution': '> 75.39', 'obstacle size': '> 71.67', 'obstacle distance': '> 21.50'}, {'firm obstacle': '= 1.0', 'cruise speed': '<= 44.79', 'controls responsiveness': '> 43.98', 'image resolution': '> 51.33', 'obstacle distance': '> 70.59', 'illuminance': '> 51.56', 'power': '> 23.00', 'smoke intensity': '<= 74.25'}, {'firm obstacle': '= 1.0', 'illuminance': '> 51.56', 'controls responsiveness': '> 43.98', 'image resolution': '> 51.33', 'obstacle distance': '> 21.50', 'cruise speed': '<= 44.79'}], [{'firm obstacle': '= 1.0', 'power': '> 23.00', 'cruise speed': '<= 44.79', 'smoke intensity': '<= 49.24', 'image resolution': '> 23.99'}, {'controls responsiveness': '> 43.98', 'cruise speed': '<= 44.79', 'smoke intensity': '<= 49.24', 'power': '> 23.00', 'illuminance': '> 75.57', 'image resolution': '23.99 <  <= 51.33', 'obstacle size': '> 27.78', 'obstacle distance': '<= 70.59'}, {'firm obstacle': '= 1.0', 'controls responsiveness': '> 74.46', 'cruise speed': '22.33 <  <= 44.79', 'illuminance': '> 75.57', 'image resolution': '> 23.99', 'power': '23.00 <  <= 50.00', 'obstacle size': '<= 71.67'}, {'firm obstacle': '= 1.0', 'controls responsiveness': '> 74.46', 'cruise speed': '22.33 <  <= 44.79', 'illuminance': '> 75.57', 'image resolution': '> 23.99', 'smoke intensity': '<= 49.24'}], [{'firm obstacle': '= 1.0', 'cruise speed': '<= 22.33', 'power': '> 23.00', 'smoke intensity': '<= 74.25', 'image resolution': '> 23.99'}, {'smoke intensity': '<= 23.26', 'cruise speed': '<= 22.33', 'controls responsiveness': '> 43.98', 'illuminance': '> 51.56', 'power': '> 77.25', 'image resolution': '23.99 <  <= 51.33', 'obstacle size': '> 49.35'}, {'firm obstacle': '= 1.0', 'cruise speed': '<= 44.79', 'controls responsiveness': '> 43.98', 'image resolution': '> 23.99', 'power': '> 23.00', 'illuminance': '> 51.56', 'obstacle size': '<= 71.67', 'smoke intensity': '<= 23.26'}, {'firm obstacle': '= 1.0', 'illuminance': '51.56 <  <= 75.57', 'controls responsiveness': '> 43.98', 'cruise speed': '<= 44.79', 'image resolution': '> 23.99', 'obstacle size': '27.78 <  <= 71.67', 'smoke intensity': '<= 23.26', 'power': '> 23.00'}], [{'firm obstacle': '= 1.0', 'image resolution': '> 75.39', 'cruise speed': '<= 44.79', 'power': '> 23.00', 'smoke intensity': '<= 49.24', 'illuminance': '> 27.51'}, {'smoke intensity': '<= 74.25', 'cruise speed': '<= 44.79', 'power': '> 23.00', 'illuminance': '> 27.51', 'controls responsiveness': '> 43.98', 'obstacle size': '> 27.78'}, {'firm obstacle': '= 1.0', 'controls responsiveness': '> 74.46', 'cruise speed': '<= 44.79', 'image resolution': '> 75.39', 'obstacle size': '<= 71.67', 'smoke intensity': '<= 49.24'}, {'firm obstacle': '= 1.0', 'controls responsiveness': '> 74.46', 'cruise speed': '<= 44.79', 'illuminance': '> 27.51', 'image resolution': '> 51.33', 'obstacle distance': '> 21.50', 'obstacle size': '<= 49.35'}], [{'firm obstacle': '= 1.0', 'smoke intensity': '<= 23.26', 'image resolution': '> 51.33', 'illuminance': '27.51 <  <= 75.57'}, {'smoke intensity': '<= 23.26', 'cruise speed': '<= 44.79', 'illuminance': '> 27.51', 'controls responsiveness': '> 22.45', 'power': '> 23.00', 'obstacle size': '27.78 <  <= 49.35', 'image resolution': '23.99 <  <= 75.39', 'obstacle distance': '43.80 <  <= 70.59'}, {'firm obstacle': '= 1.0', 'cruise speed': '<= 44.79', 'image resolution': '> 51.33', 'obstacle distance': '> 43.80', 'controls responsiveness': '> 22.45', 'smoke intensity': '<= 23.26', 'illuminance': '> 27.51'}, {'firm obstacle': '= 1.0', 'cruise speed': '<= 44.79', 'controls responsiveness': '> 22.45', 'image resolution': '> 23.99', 'obstacle distance': '> 43.80', 'illuminance': '> 27.51', 'smoke intensity': '<= 23.26'}], [{'firm obstacle': '= 1.0', 'image resolution': '> 75.39', 'cruise speed': '<= 44.79', 'power': '> 23.00', 'obstacle distance': '> 21.50'}, {'power': '> 23.00', 'cruise speed': '<= 44.79', 'illuminance': '> 27.51', 'obstacle size': '> 27.78', 'image resolution': '> 23.99'}, {'firm obstacle': '= 1.0', 'cruise speed': '<= 44.79', 'image resolution': '> 51.33', 'controls responsiveness': '> 22.45', 'illuminance': '> 51.56', 'power': '> 77.25', 'obstacle distance': '> 21.50', 'smoke intensity': '<= 74.25'}, {'firm obstacle': '= 1.0', 'illuminance': '> 51.56', 'image resolution': '> 23.99', 'cruise speed': '<= 44.79', 'obstacle distance': '> 21.50', 'controls responsiveness': '> 22.45', 'power': '> 23.00'}], [{'firm obstacle': '= 1.0', 'smoke intensity': '<= 23.26', 'cruise speed': '<= 44.79', 'power': '> 23.00', 'image resolution': '> 23.99', 'illuminance': '> 27.51'}, {'smoke intensity': '<= 23.26', 'controls responsiveness': '> 74.46', 'cruise speed': '<= 44.79', 'illuminance': '> 51.56', 'image resolution': '23.99 <  <= 51.33', 'power': '> 23.00', 'obstacle distance': '43.80 <  <= 70.59', 'obstacle size': '> 27.78'}, {'firm obstacle': '= 1.0', 'controls responsiveness': '> 74.46', 'cruise speed': '<= 44.79', 'image resolution': '> 23.99', 'illuminance': '> 51.56', 'obstacle size': '<= 71.67', 'power': '> 23.00', 'smoke intensity': '<= 23.26'}, {'firm obstacle': '= 1.0', 'controls responsiveness': '> 74.46', 'cruise speed': '<= 44.79', 'illuminance': '> 51.56', 'image resolution': '> 23.99', 'obstacle distance': '> 43.80'}], [{'firm obstacle': '= 1.0', 'smoke intensity': '<= 23.26', 'cruise speed': '<= 71.28', 'image resolution': '> 23.99', 'illuminance': '> 27.51'}, {'illuminance': '> 75.57', 'smoke intensity': '<= 23.26', 'power': '> 23.00', 'cruise speed': '<= 71.28', 'controls responsiveness': '> 43.98', 'obstacle size': '> 27.78', 'image resolution': '23.99 <  <= 51.33', 'obstacle distance': '21.50 <  <= 70.59'}, {'firm obstacle': '= 1.0', 'illuminance': '> 75.57', 'controls responsiveness': '> 43.98', 'image resolution': '> 23.99', 'cruise speed': '<= 71.28', 'power': '23.00 <  <= 50.00', 'obstacle distance': '> 21.50'}, {'firm obstacle': '= 1.0', 'illuminance': '> 75.57', 'controls responsiveness': '> 43.98', 'image resolution': '> 23.99', 'obstacle distance': '> 21.50', 'cruise speed': '<= 71.28', 'smoke intensity': '<= 23.26'}], [{'firm obstacle': '= 1.0', 'image resolution': '> 51.33', 'illuminance': '> 75.57', 'obstacle distance': '> 43.80'}, {'power': '> 50.00', 'controls responsiveness': '> 43.98', 'smoke intensity': '<= 74.25', 'cruise speed': '<= 44.79', 'image resolution': '23.99 <  <= 75.39', 'obstacle distance': '43.80 <  <= 70.59', 'illuminance': '> 75.57', 'obstacle size': '> 71.67'}, {'firm obstacle': '= 1.0', 'illuminance': '> 75.57', 'cruise speed': '<= 44.79', 'controls responsiveness': '> 43.98', 'image resolution': '> 51.33', 'obstacle distance': '> 43.80'}, {'firm obstacle': '= 1.0', 'illuminance': '> 75.57', 'controls responsiveness': '> 43.98', 'image resolution': '> 23.99', 'obstacle distance': '43.80 <  <= 70.59', 'cruise speed': '<= 71.28'}], [{'firm obstacle': '= 1.0', 'cruise speed': '<= 22.33', 'power': '> 23.00', 'smoke intensity': '<= 23.26', 'image resolution': '> 23.99'}, {'smoke intensity': '<= 23.26', 'cruise speed': '<= 22.33', 'power': '50.00 <  <= 77.25', 'illuminance': '> 75.57', 'obstacle distance': '21.50 <  <= 70.59', 'image resolution': '23.99 <  <= 51.33'}, {'firm obstacle': '= 1.0', 'illuminance': '> 75.57', 'cruise speed': '<= 22.33', 'image resolution': '> 23.99', 'obstacle distance': '> 21.50', 'smoke intensity': '<= 23.26', 'power': '> 50.00', 'obstacle size': '<= 49.35'}, {'firm obstacle': '= 1.0', 'illuminance': '> 75.57', 'image resolution': '> 23.99', 'obstacle distance': '> 21.50', 'cruise speed': '<= 22.33', 'obstacle size': '<= 49.35', 'smoke intensity': '<= 23.26', 'power': '50.00 <  <= 77.25'}], [{'firm obstacle': '= 1.0', 'image resolution': '> 51.33', 'illuminance': '> 75.57', 'power': '> 77.25'}, {'cruise speed': '<= 44.79', 'illuminance': '> 75.57', 'obstacle distance': '21.50 <  <= 43.80', 'power': '> 77.25', 'smoke intensity': '<= 49.24', 'obstacle size': '> 49.35', 'controls responsiveness': '> 22.45', 'image resolution': '23.99 <  <= 75.39'}, {'firm obstacle': '= 1.0', 'illuminance': '> 75.57', 'cruise speed': '<= 44.79', 'image resolution': '> 23.99', 'controls responsiveness': '> 22.45', 'obstacle distance': '> 21.50', 'power': '> 50.00', 'smoke intensity': '<= 49.24'}, {'firm obstacle': '= 1.0', 'illuminance': '> 75.57', 'controls responsiveness': '> 22.45', 'image resolution': '> 51.33', 'obstacle distance': '> 21.50', 'cruise speed': '<= 44.79'}]]\n"
     ]
    },
    {
     "ename": "ValueError",
     "evalue": "Invalid constraint format: 22.33 <  <= 71.28",
     "output_type": "error",
     "traceback": [
      "\u001b[0;31m---------------------------------------------------------------------------\u001b[0m",
      "\u001b[0;31mValueError\u001b[0m                                Traceback (most recent call last)",
      "Cell \u001b[0;32mIn[39], line 8\u001b[0m\n\u001b[1;32m      6\u001b[0m \u001b[38;5;28;01mfor\u001b[39;00m j \u001b[38;5;129;01min\u001b[39;00m \u001b[38;5;28mrange\u001b[39m(\u001b[38;5;241m3\u001b[39m):\n\u001b[1;32m      7\u001b[0m     \u001b[38;5;28;01mif\u001b[39;00m(dictionaries[i][j]\u001b[38;5;241m.\u001b[39mget(f) \u001b[38;5;241m!=\u001b[39m \u001b[38;5;28;01mNone\u001b[39;00m \u001b[38;5;129;01mand\u001b[39;00m dictionaries[i][j\u001b[38;5;241m+\u001b[39m\u001b[38;5;241m1\u001b[39m]\u001b[38;5;241m.\u001b[39mget(f) \u001b[38;5;241m!=\u001b[39m \u001b[38;5;124m'\u001b[39m\u001b[38;5;124mNone\u001b[39m\u001b[38;5;124m'\u001b[39m):\n\u001b[0;32m----> 8\u001b[0m         and_dict[i][f] \u001b[38;5;241m=\u001b[39m \u001b[43mintersect_constraints\u001b[49m\u001b[43m(\u001b[49m\u001b[43mdictionaries\u001b[49m\u001b[43m[\u001b[49m\u001b[43mi\u001b[49m\u001b[43m]\u001b[49m\u001b[43m[\u001b[49m\u001b[43mj\u001b[49m\u001b[43m]\u001b[49m\u001b[43m[\u001b[49m\u001b[43mf\u001b[49m\u001b[43m]\u001b[49m\u001b[43m,\u001b[49m\u001b[43m \u001b[49m\u001b[43mdictionaries\u001b[49m\u001b[43m[\u001b[49m\u001b[43mi\u001b[49m\u001b[43m]\u001b[49m\u001b[43m[\u001b[49m\u001b[43mj\u001b[49m\u001b[38;5;241;43m+\u001b[39;49m\u001b[38;5;241;43m1\u001b[39;49m\u001b[43m]\u001b[49m\u001b[43m[\u001b[49m\u001b[43mf\u001b[49m\u001b[43m]\u001b[49m\u001b[43m)\u001b[49m\n",
      "Cell \u001b[0;32mIn[33], line 22\u001b[0m, in \u001b[0;36mintersect_constraints\u001b[0;34m(c1, c2)\u001b[0m\n\u001b[1;32m     20\u001b[0m \u001b[38;5;28;01mdef\u001b[39;00m\u001b[38;5;250m \u001b[39m\u001b[38;5;21mintersect_constraints\u001b[39m(c1, c2):\n\u001b[1;32m     21\u001b[0m     op1, val1 \u001b[38;5;241m=\u001b[39m parse_constraint(c1)\n\u001b[0;32m---> 22\u001b[0m     op2, val2 \u001b[38;5;241m=\u001b[39m \u001b[43mparse_constraint\u001b[49m\u001b[43m(\u001b[49m\u001b[43mc2\u001b[49m\u001b[43m)\u001b[49m\n\u001b[1;32m     24\u001b[0m     l1, u1, incl_l1, incl_u1 \u001b[38;5;241m=\u001b[39m to_interval(op1, val1)\n\u001b[1;32m     25\u001b[0m     l2, u2, incl_l2, incl_u2 \u001b[38;5;241m=\u001b[39m to_interval(op2, val2)\n",
      "Cell \u001b[0;32mIn[33], line 6\u001b[0m, in \u001b[0;36mparse_constraint\u001b[0;34m(constraint)\u001b[0m\n\u001b[1;32m      4\u001b[0m match \u001b[38;5;241m=\u001b[39m re\u001b[38;5;241m.\u001b[39mmatch(\u001b[38;5;124mr\u001b[39m\u001b[38;5;124m\"\u001b[39m\u001b[38;5;124m(>=|<=|>|<)\u001b[39m\u001b[38;5;124m\\\u001b[39m\u001b[38;5;124ms*(-?\u001b[39m\u001b[38;5;124m\\\u001b[39m\u001b[38;5;124md+\u001b[39m\u001b[38;5;124m\\\u001b[39m\u001b[38;5;124m.?\u001b[39m\u001b[38;5;124m\\\u001b[39m\u001b[38;5;124md*)\u001b[39m\u001b[38;5;124m\"\u001b[39m, constraint\u001b[38;5;241m.\u001b[39mstrip())\n\u001b[1;32m      5\u001b[0m \u001b[38;5;28;01mif\u001b[39;00m \u001b[38;5;129;01mnot\u001b[39;00m match:\n\u001b[0;32m----> 6\u001b[0m     \u001b[38;5;28;01mraise\u001b[39;00m \u001b[38;5;167;01mValueError\u001b[39;00m(\u001b[38;5;124mf\u001b[39m\u001b[38;5;124m\"\u001b[39m\u001b[38;5;124mInvalid constraint format: \u001b[39m\u001b[38;5;132;01m{\u001b[39;00mconstraint\u001b[38;5;132;01m}\u001b[39;00m\u001b[38;5;124m\"\u001b[39m)\n\u001b[1;32m      7\u001b[0m op, val \u001b[38;5;241m=\u001b[39m match\u001b[38;5;241m.\u001b[39mgroups()\n\u001b[1;32m      8\u001b[0m \u001b[38;5;28;01mreturn\u001b[39;00m op, \u001b[38;5;28mfloat\u001b[39m(val)\n",
      "\u001b[0;31mValueError\u001b[0m: Invalid constraint format: 22.33 <  <= 71.28"
     ]
    }
   ],
   "source": [
    "and_dict = []\n",
    "for i in range(len(dataframes[0])):\n",
    "    and_dict.append({})\n",
    "    for f in featureNames:\n",
    "        for j in range(3):\n",
    "            if(dictionaries[i][j].get(f) != None and dictionaries[i][j+1].get(f) != 'None'):\n",
    "                and_dict[i][f] = intersect_constraints(dictionaries[i][j][f], dictionaries[i][j+1][f])\n",
    "                "
   ]
  },
  {
   "cell_type": "code",
   "execution_count": 40,
   "metadata": {},
   "outputs": [
    {
     "name": "stdout",
     "output_type": "stream",
     "text": [
      "[[{'firm obstacle': '= 1.0', 'power': '> 23.00', 'cruise speed': '<= 71.28', 'image resolution': '> 23.99', 'smoke intensity': '<= 49.24', 'obstacle distance': '<= 43.80'}, {'cruise speed': '> 44.79'}, {'firm obstacle': '= 1.0', 'controls responsiveness': '> 74.46', 'cruise speed': '<= 71.28', 'image resolution': '> 23.99', 'illuminance': '> 27.51', 'smoke intensity': '<= 49.24', 'obstacle size': '27.78 <  <= 71.67', 'power': '23.00 <  <= 50.00'}, {'firm obstacle': '= 1.0', 'controls responsiveness': '> 74.46', 'illuminance': '> 27.51', 'image resolution': '> 23.99', 'cruise speed': '22.33 <  <= 71.28', 'obstacle size': '<= 71.67', 'smoke intensity': '23.26 <  <= 74.25', 'power': '<= 77.25'}], [{'firm obstacle': '= 1.0', 'image resolution': '> 75.39', 'cruise speed': '<= 44.79', 'power': '> 23.00', 'illuminance': '> 51.56', 'smoke intensity': '<= 49.24'}, {'illuminance': '51.56 <  <= 75.57', 'cruise speed': '<= 44.79', 'controls responsiveness': '> 43.98', 'power': '> 50.00', 'smoke intensity': '<= 49.24', 'image resolution': '> 75.39', 'obstacle size': '> 71.67', 'obstacle distance': '> 21.50'}, {'firm obstacle': '= 1.0', 'cruise speed': '<= 44.79', 'controls responsiveness': '> 43.98', 'image resolution': '> 51.33', 'obstacle distance': '> 70.59', 'illuminance': '> 51.56', 'power': '> 23.00', 'smoke intensity': '<= 74.25'}, {'firm obstacle': '= 1.0', 'illuminance': '> 51.56', 'controls responsiveness': '> 43.98', 'image resolution': '> 51.33', 'obstacle distance': '> 21.50', 'cruise speed': '<= 44.79'}], [{'firm obstacle': '= 1.0', 'power': '> 23.00', 'cruise speed': '<= 44.79', 'smoke intensity': '<= 49.24', 'image resolution': '> 23.99'}, {'controls responsiveness': '> 43.98', 'cruise speed': '<= 44.79', 'smoke intensity': '<= 49.24', 'power': '> 23.00', 'illuminance': '> 75.57', 'image resolution': '23.99 <  <= 51.33', 'obstacle size': '> 27.78', 'obstacle distance': '<= 70.59'}, {'firm obstacle': '= 1.0', 'controls responsiveness': '> 74.46', 'cruise speed': '22.33 <  <= 44.79', 'illuminance': '> 75.57', 'image resolution': '> 23.99', 'power': '23.00 <  <= 50.00', 'obstacle size': '<= 71.67'}, {'firm obstacle': '= 1.0', 'controls responsiveness': '> 74.46', 'cruise speed': '22.33 <  <= 44.79', 'illuminance': '> 75.57', 'image resolution': '> 23.99', 'smoke intensity': '<= 49.24'}], [{'firm obstacle': '= 1.0', 'cruise speed': '<= 22.33', 'power': '> 23.00', 'smoke intensity': '<= 74.25', 'image resolution': '> 23.99'}, {'smoke intensity': '<= 23.26', 'cruise speed': '<= 22.33', 'controls responsiveness': '> 43.98', 'illuminance': '> 51.56', 'power': '> 77.25', 'image resolution': '23.99 <  <= 51.33', 'obstacle size': '> 49.35'}, {'firm obstacle': '= 1.0', 'cruise speed': '<= 44.79', 'controls responsiveness': '> 43.98', 'image resolution': '> 23.99', 'power': '> 23.00', 'illuminance': '> 51.56', 'obstacle size': '<= 71.67', 'smoke intensity': '<= 23.26'}, {'firm obstacle': '= 1.0', 'illuminance': '51.56 <  <= 75.57', 'controls responsiveness': '> 43.98', 'cruise speed': '<= 44.79', 'image resolution': '> 23.99', 'obstacle size': '27.78 <  <= 71.67', 'smoke intensity': '<= 23.26', 'power': '> 23.00'}], [{'firm obstacle': '= 1.0', 'image resolution': '> 75.39', 'cruise speed': '<= 44.79', 'power': '> 23.00', 'smoke intensity': '<= 49.24', 'illuminance': '> 27.51'}, {'smoke intensity': '<= 74.25', 'cruise speed': '<= 44.79', 'power': '> 23.00', 'illuminance': '> 27.51', 'controls responsiveness': '> 43.98', 'obstacle size': '> 27.78'}, {'firm obstacle': '= 1.0', 'controls responsiveness': '> 74.46', 'cruise speed': '<= 44.79', 'image resolution': '> 75.39', 'obstacle size': '<= 71.67', 'smoke intensity': '<= 49.24'}, {'firm obstacle': '= 1.0', 'controls responsiveness': '> 74.46', 'cruise speed': '<= 44.79', 'illuminance': '> 27.51', 'image resolution': '> 51.33', 'obstacle distance': '> 21.50', 'obstacle size': '<= 49.35'}], [{'firm obstacle': '= 1.0', 'smoke intensity': '<= 23.26', 'image resolution': '> 51.33', 'illuminance': '27.51 <  <= 75.57'}, {'smoke intensity': '<= 23.26', 'cruise speed': '<= 44.79', 'illuminance': '> 27.51', 'controls responsiveness': '> 22.45', 'power': '> 23.00', 'obstacle size': '27.78 <  <= 49.35', 'image resolution': '23.99 <  <= 75.39', 'obstacle distance': '43.80 <  <= 70.59'}, {'firm obstacle': '= 1.0', 'cruise speed': '<= 44.79', 'image resolution': '> 51.33', 'obstacle distance': '> 43.80', 'controls responsiveness': '> 22.45', 'smoke intensity': '<= 23.26', 'illuminance': '> 27.51'}, {'firm obstacle': '= 1.0', 'cruise speed': '<= 44.79', 'controls responsiveness': '> 22.45', 'image resolution': '> 23.99', 'obstacle distance': '> 43.80', 'illuminance': '> 27.51', 'smoke intensity': '<= 23.26'}], [{'firm obstacle': '= 1.0', 'image resolution': '> 75.39', 'cruise speed': '<= 44.79', 'power': '> 23.00', 'obstacle distance': '> 21.50'}, {'power': '> 23.00', 'cruise speed': '<= 44.79', 'illuminance': '> 27.51', 'obstacle size': '> 27.78', 'image resolution': '> 23.99'}, {'firm obstacle': '= 1.0', 'cruise speed': '<= 44.79', 'image resolution': '> 51.33', 'controls responsiveness': '> 22.45', 'illuminance': '> 51.56', 'power': '> 77.25', 'obstacle distance': '> 21.50', 'smoke intensity': '<= 74.25'}, {'firm obstacle': '= 1.0', 'illuminance': '> 51.56', 'image resolution': '> 23.99', 'cruise speed': '<= 44.79', 'obstacle distance': '> 21.50', 'controls responsiveness': '> 22.45', 'power': '> 23.00'}], [{'firm obstacle': '= 1.0', 'smoke intensity': '<= 23.26', 'cruise speed': '<= 44.79', 'power': '> 23.00', 'image resolution': '> 23.99', 'illuminance': '> 27.51'}, {'smoke intensity': '<= 23.26', 'controls responsiveness': '> 74.46', 'cruise speed': '<= 44.79', 'illuminance': '> 51.56', 'image resolution': '23.99 <  <= 51.33', 'power': '> 23.00', 'obstacle distance': '43.80 <  <= 70.59', 'obstacle size': '> 27.78'}, {'firm obstacle': '= 1.0', 'controls responsiveness': '> 74.46', 'cruise speed': '<= 44.79', 'image resolution': '> 23.99', 'illuminance': '> 51.56', 'obstacle size': '<= 71.67', 'power': '> 23.00', 'smoke intensity': '<= 23.26'}, {'firm obstacle': '= 1.0', 'controls responsiveness': '> 74.46', 'cruise speed': '<= 44.79', 'illuminance': '> 51.56', 'image resolution': '> 23.99', 'obstacle distance': '> 43.80'}], [{'firm obstacle': '= 1.0', 'smoke intensity': '<= 23.26', 'cruise speed': '<= 71.28', 'image resolution': '> 23.99', 'illuminance': '> 27.51'}, {'illuminance': '> 75.57', 'smoke intensity': '<= 23.26', 'power': '> 23.00', 'cruise speed': '<= 71.28', 'controls responsiveness': '> 43.98', 'obstacle size': '> 27.78', 'image resolution': '23.99 <  <= 51.33', 'obstacle distance': '21.50 <  <= 70.59'}, {'firm obstacle': '= 1.0', 'illuminance': '> 75.57', 'controls responsiveness': '> 43.98', 'image resolution': '> 23.99', 'cruise speed': '<= 71.28', 'power': '23.00 <  <= 50.00', 'obstacle distance': '> 21.50'}, {'firm obstacle': '= 1.0', 'illuminance': '> 75.57', 'controls responsiveness': '> 43.98', 'image resolution': '> 23.99', 'obstacle distance': '> 21.50', 'cruise speed': '<= 71.28', 'smoke intensity': '<= 23.26'}], [{'firm obstacle': '= 1.0', 'image resolution': '> 51.33', 'illuminance': '> 75.57', 'obstacle distance': '> 43.80'}, {'power': '> 50.00', 'controls responsiveness': '> 43.98', 'smoke intensity': '<= 74.25', 'cruise speed': '<= 44.79', 'image resolution': '23.99 <  <= 75.39', 'obstacle distance': '43.80 <  <= 70.59', 'illuminance': '> 75.57', 'obstacle size': '> 71.67'}, {'firm obstacle': '= 1.0', 'illuminance': '> 75.57', 'cruise speed': '<= 44.79', 'controls responsiveness': '> 43.98', 'image resolution': '> 51.33', 'obstacle distance': '> 43.80'}, {'firm obstacle': '= 1.0', 'illuminance': '> 75.57', 'controls responsiveness': '> 43.98', 'image resolution': '> 23.99', 'obstacle distance': '43.80 <  <= 70.59', 'cruise speed': '<= 71.28'}], [{'firm obstacle': '= 1.0', 'cruise speed': '<= 22.33', 'power': '> 23.00', 'smoke intensity': '<= 23.26', 'image resolution': '> 23.99'}, {'smoke intensity': '<= 23.26', 'cruise speed': '<= 22.33', 'power': '50.00 <  <= 77.25', 'illuminance': '> 75.57', 'obstacle distance': '21.50 <  <= 70.59', 'image resolution': '23.99 <  <= 51.33'}, {'firm obstacle': '= 1.0', 'illuminance': '> 75.57', 'cruise speed': '<= 22.33', 'image resolution': '> 23.99', 'obstacle distance': '> 21.50', 'smoke intensity': '<= 23.26', 'power': '> 50.00', 'obstacle size': '<= 49.35'}, {'firm obstacle': '= 1.0', 'illuminance': '> 75.57', 'image resolution': '> 23.99', 'obstacle distance': '> 21.50', 'cruise speed': '<= 22.33', 'obstacle size': '<= 49.35', 'smoke intensity': '<= 23.26', 'power': '50.00 <  <= 77.25'}], [{'firm obstacle': '= 1.0', 'image resolution': '> 51.33', 'illuminance': '> 75.57', 'power': '> 77.25'}, {'cruise speed': '<= 44.79', 'illuminance': '> 75.57', 'obstacle distance': '21.50 <  <= 43.80', 'power': '> 77.25', 'smoke intensity': '<= 49.24', 'obstacle size': '> 49.35', 'controls responsiveness': '> 22.45', 'image resolution': '23.99 <  <= 75.39'}, {'firm obstacle': '= 1.0', 'illuminance': '> 75.57', 'cruise speed': '<= 44.79', 'image resolution': '> 23.99', 'controls responsiveness': '> 22.45', 'obstacle distance': '> 21.50', 'power': '> 50.00', 'smoke intensity': '<= 49.24'}, {'firm obstacle': '= 1.0', 'illuminance': '> 75.57', 'controls responsiveness': '> 22.45', 'image resolution': '> 51.33', 'obstacle distance': '> 21.50', 'cruise speed': '<= 44.79'}]]\n"
     ]
    }
   ],
   "source": [
    "print(dictionaries)\n"
   ]
  },
  {
   "cell_type": "code",
   "execution_count": 7,
   "metadata": {},
   "outputs": [],
   "source": [
    "# Get test examples where the anchora pplies\n",
    "#fit_anchor = np.where(np.all(new_dataset.test[:, exp.features()] == new_dataset.test[idx][exp.features()], axis=1))[0]\n",
    "#print('Anchor test precision: %.2f' % (np.mean(c.predict(new_dataset.test[fit_anchor]) == c.predict(new_dataset.test[idx].reshape(1, -1)))))\n",
    "#print('Anchor test coverage: %.2f' % (fit_anchor.shape[0] / float(new_dataset.test.shape[0])))"
   ]
  }
 ],
 "metadata": {
  "kernelspec": {
   "display_name": ".venv",
   "language": "python",
   "name": "python3"
  },
  "language_info": {
   "codemirror_mode": {
    "name": "ipython",
    "version": 3
   },
   "file_extension": ".py",
   "mimetype": "text/x-python",
   "name": "python",
   "nbconvert_exporter": "python",
   "pygments_lexer": "ipython3",
   "version": "3.11.12"
  }
 },
 "nbformat": 4,
 "nbformat_minor": 2
}
