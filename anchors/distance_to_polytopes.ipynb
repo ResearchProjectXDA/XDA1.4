{
 "cells": [
  {
   "cell_type": "markdown",
   "id": "1382eb70",
   "metadata": {},
   "source": [
    "# Algorithm Idea to find closest distance to polytopes"
   ]
  },
  {
   "cell_type": "markdown",
   "id": "508d01b3",
   "metadata": {},
   "source": [
    "We will start with a data structure containing a number of rows equal to the number of samples (polytopes) and a number of columns equal to the number of features. \n",
    "\n",
    "Each cell contains a touple (a, b, Bool, Bool) where a is the left boundary for each feature and b is the right. Bool says whether a and b are contained in the boundary"
   ]
  },
  {
   "cell_type": "code",
   "execution_count": 1,
   "id": "d9011447",
   "metadata": {},
   "outputs": [],
   "source": [
    "import numpy as np"
   ]
  },
  {
   "cell_type": "markdown",
   "id": "e96d7e8a",
   "metadata": {},
   "source": [
    "x = array of 8 features to find closest distance to polytope\n",
    "\n",
    "table = table containing the 21 anchors with 8 features columns.\n",
    "\n",
    "First thing to do: \n",
    "\n",
    "- Select all rows where the observable features of x are inside the boundaries defined on the observable features in the table (the last 4 columns). Create a new table called distance_table. If none remain consider the whole table as distance_table\n",
    "\n",
    "On distance_table do:"
   ]
  },
  {
   "cell_type": "code",
   "execution_count": null,
   "id": "0a9b7c0e",
   "metadata": {},
   "outputs": [],
   "source": [
    "dist = []\n",
    "min_dist=+inf\n",
    "for i in range(numrows(distance_table)):\n",
    "    dist[i] = 0 #initialize distance to that polytope to 0\n",
    "    for j in range(numcols(distance_table)): #we can consider only columns containing controllable features\n",
    "        if x[j] < a[i][j]: #left of the boundary\n",
    "            dist[i] += (a[i][j]-x[j])**2\n",
    "            if(dist[i]>= min_dist)\n",
    "                break\n",
    "        elif x[j] > b[i][j]: #right of the boundary\n",
    "            dist[i]+= (b[i][j]-x[j])**2\n",
    "            if(dist[i]>= min_dist)\n",
    "                break\n",
    "        elif a[i][j]<=x[j]<=b[i][j]\n",
    "            dist[i]+=0\n",
    "    if(dist[i]< min_dist):\n",
    "        min_dist=dist[i]"
   ]
  },
  {
   "cell_type": "code",
   "execution_count": 3,
   "id": "1524600f",
   "metadata": {},
   "outputs": [],
   "source": [
    "def min_dist_polytope(x, explanations_table, feature_names): #feature names must be only controllable features if observable features are \"satisfied\" otherwise\n",
    "                                                             #they must be all the features\n",
    "    dist = np.zeros(len(explanations_table))\n",
    "    min_dist = np.inf\n",
    "    min_dist_index = -1\n",
    "    for i in range(len(explanations_table)):\n",
    "\n",
    "        for j, f_name in enumerate(feature_names):\n",
    "            a, b = explanations_table[i][f_name][0], explanations_table[i][f_name][1]\n",
    "\n",
    "            if(x[j] < a):\n",
    "                dist[i] += (a - x[j]) ** 2\n",
    "                if(dist[i] >= min_dist):\n",
    "                    break\n",
    "            elif(x[j] > b):\n",
    "                dist[i] += (b - x[j]) ** 2\n",
    "                if(dist[i] >= min_dist):\n",
    "                    break\n",
    "            #elif a <= x[j] <= b:\n",
    "            #    dist[i] += 0\n",
    "        if(dist[i] < min_dist):\n",
    "            min_dist = dist[i]\n",
    "            min_dist_index = i\n",
    "\n",
    "    return min_dist, min_dist_index, dist\n"
   ]
  }
 ],
 "metadata": {
  "kernelspec": {
   "display_name": "venv",
   "language": "python",
   "name": "python3"
  },
  "language_info": {
   "codemirror_mode": {
    "name": "ipython",
    "version": 3
   },
   "file_extension": ".py",
   "mimetype": "text/x-python",
   "name": "python",
   "nbconvert_exporter": "python",
   "pygments_lexer": "ipython3",
   "version": "3.11.0"
  }
 },
 "nbformat": 4,
 "nbformat_minor": 5
}
