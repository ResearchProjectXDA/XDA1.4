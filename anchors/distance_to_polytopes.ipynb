{
 "cells": [
  {
   "cell_type": "markdown",
   "id": "1382eb70",
   "metadata": {},
   "source": [
    "# Algorithm Idea to find closest distance to polytopes"
   ]
  },
  {
   "cell_type": "markdown",
   "id": "508d01b3",
   "metadata": {},
   "source": [
    "We will start with a data structure containing a number of rows equal to th enumber of samples (polytopes) and a number of columns equal to the number of features. Each cell contains a touple (a,b,Bool,Bool) where a is the left boundary for each feature and b is the right. Bool says wether a and b are contained in the boundary"
   ]
  },
  {
   "cell_type": "code",
   "execution_count": null,
   "id": "d9011447",
   "metadata": {},
   "outputs": [],
   "source": [
    "import numpy as np"
   ]
  },
  {
   "cell_type": "markdown",
   "id": "e96d7e8a",
   "metadata": {},
   "source": [
    "x = array of 8 features to find closest distance to polytope\n",
    "table = table containing the 21 anchors with 8 features columns.\n",
    "\n",
    "First thing to do: select all rows where the observable features of x are inside the boundaries defined on the observable features in the table (the last 4 columns). Create a new table called distance_table. If none remain consider the whole table\n",
    "\n",
    "On distance_tabl do:"
   ]
  },
  {
   "cell_type": "code",
   "execution_count": null,
   "id": "0a9b7c0e",
   "metadata": {},
   "outputs": [],
   "source": [
    "dist = []\n",
    "min_dist=+inf\n",
    "for i in range(numrows(distance_table)):\n",
    "    dist[i] = 0 #initialize distance to that polytope to 0\n",
    "    for j in range(numcols(distance_table)): #we can consider only columns containing controllable features\n",
    "        if x[j] < a[i][j]: #left of the boundary\n",
    "            dist[i] += (a[i][j]-x[j])**2\n",
    "            if(dist[i]>= min_dist)\n",
    "                break\n",
    "        elif x[j] > b[i][j]: #roght of the boundary\n",
    "            dist[i]+= (b[i][j]-x[j])**2\n",
    "            if(dist[i]>= min_dist)\n",
    "                break\n",
    "        elif a[i][j]<=x[j]<=b[i][j]\n",
    "            dist[i]+=0\n",
    "    if(dist[i]< min_dist):\n",
    "        min_dist=dist[i]"
   ]
  }
 ],
 "metadata": {
  "kernelspec": {
   "display_name": "venv",
   "language": "python",
   "name": "python3"
  },
  "language_info": {
   "name": "python",
   "version": "3.11.2"
  }
 },
 "nbformat": 4,
 "nbformat_minor": 5
}
