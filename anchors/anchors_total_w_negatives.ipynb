{
 "cells": [
  {
   "cell_type": "markdown",
   "id": "8c8bc168",
   "metadata": {},
   "source": [
    "# **Anchors on all requirement**"
   ]
  },
  {
   "cell_type": "code",
   "execution_count": 1,
   "id": "729a59dd",
   "metadata": {},
   "outputs": [],
   "source": [
    "from __future__ import print_function\n",
    "import numpy as np\n",
    "np.random.seed(1)\n",
    "import sys\n",
    "import sklearn\n",
    "import sklearn.ensemble\n",
    "from sklearn.metrics import accuracy_score\n",
    "%load_ext autoreload\n",
    "%autoreload 2\n",
    "from anchor import utils\n",
    "from anchor import anchor_tabular\n",
    "import pandas as pd\n",
    "import matplotlib.pyplot as plt\n",
    "\n",
    "from sklearn.ensemble import HistGradientBoostingClassifier\n",
    "from sklearn.neural_network import MLPClassifier"
   ]
  },
  {
   "cell_type": "markdown",
   "id": "e7f1801e",
   "metadata": {},
   "source": [
    "## Definition of useful data-wrangling functions"
   ]
  },
  {
   "cell_type": "markdown",
   "id": "a0e8de2d",
   "metadata": {},
   "source": [
    "Function to separate the name of the feature from the ranges"
   ]
  },
  {
   "cell_type": "code",
   "execution_count": 2,
   "id": "93401316",
   "metadata": {},
   "outputs": [],
   "source": [
    "def get_anchor(a):\n",
    "    quoted_part = a.split(\"'\")[1]\n",
    "    rest = a.replace(f\"'{quoted_part}'\", '').replace(\"b\", '').strip()\n",
    "\n",
    "    return quoted_part, rest"
   ]
  },
  {
   "cell_type": "markdown",
   "id": "9f100666",
   "metadata": {},
   "source": [
    "Function creating the intervals"
   ]
  },
  {
   "cell_type": "code",
   "execution_count": 3,
   "id": "f0f91abe",
   "metadata": {},
   "outputs": [],
   "source": [
    "import re\n",
    "from math import inf\n",
    "\n",
    "def parse_range(expr: str):\n",
    "    expr = expr.strip().replace(\" \", \"\")\n",
    "    \n",
    "    patterns = [\n",
    "        (r\"^=(\\-?\\d+(\\.\\d+)?)$\", 'equals'),\n",
    "        (r\"^(>=|>)\\s*(-?\\d+(\\.\\d+)?)$\", 'lower'),\n",
    "        (r\"^(<=|<)\\s*(-?\\d+(\\.\\d+)?)$\", 'upper'),\n",
    "        (r\"^(-?\\d+(\\.\\d+)?)(<=|<){1,2}(<=|<)(-?\\d+(\\.\\d+)?)$\", 'between'),\n",
    "        (r\"^(-?\\d+(\\.\\d+)?)(>=|>){1,2}(>=|>)(-?\\d+(\\.\\d+)?)$\", 'reverse_between'),\n",
    "    ]\n",
    "    \n",
    "    for pattern, kind in patterns:\n",
    "        match = re.match(pattern, expr)\n",
    "        if match:\n",
    "            if kind == 'equals':\n",
    "                num = float(match.group(1))\n",
    "                return (num, num, True, True)\n",
    "            elif kind == 'lower':\n",
    "                op, num = match.group(1), float(match.group(2))\n",
    "                return (\n",
    "                    num,\n",
    "                    inf,\n",
    "                    op == '>=',\n",
    "                    False\n",
    "                )\n",
    "            elif kind == 'upper':\n",
    "                op, num = match.group(1), float(match.group(2))\n",
    "                return (\n",
    "                    -inf,\n",
    "                    num,\n",
    "                    False,\n",
    "                    op == '<='\n",
    "                )\n",
    "            elif kind == 'between':\n",
    "                low = float(match.group(1))\n",
    "                op1 = match.group(3)\n",
    "                op2 = match.group(4)\n",
    "                high = float(match.group(5))\n",
    "                return (\n",
    "                    low,\n",
    "                    high,\n",
    "                    op1 == '<=',\n",
    "                    op2 == '<='\n",
    "                )\n",
    "            elif kind == 'reverse_between':\n",
    "                high = float(match.group(1))\n",
    "                op1 = match.group(3)\n",
    "                op2 = match.group(4)\n",
    "                low = float(match.group(5))\n",
    "                return (\n",
    "                    low,\n",
    "                    high,\n",
    "                    op2 == '>=',\n",
    "                    op1 == '>='\n",
    "                )\n",
    "\n",
    "    raise ValueError(f\"Unrecognized format: {expr}\")"
   ]
  },
  {
   "cell_type": "markdown",
   "id": "828af6f4",
   "metadata": {},
   "source": [
    "Function intersecting two given intervals"
   ]
  },
  {
   "cell_type": "code",
   "execution_count": 4,
   "id": "6544bdc6",
   "metadata": {},
   "outputs": [],
   "source": [
    "from typing import Optional, Tuple\n",
    "\n",
    "def intersect(\n",
    "    a: Tuple[float, float, bool, bool],\n",
    "    b: Tuple[float, float, bool, bool]\n",
    ") -> Optional[Tuple[float, float, bool, bool]]:\n",
    "    \n",
    "    a_low, a_high, a_li, a_ui = a\n",
    "    b_low, b_high, b_li, b_ui = b\n",
    "\n",
    "    # Compute max of lower bounds\n",
    "    if a_low > b_low:\n",
    "        low, li = a_low, a_li\n",
    "    elif a_low < b_low:\n",
    "        low, li = b_low, b_li\n",
    "    else:\n",
    "        low = a_low\n",
    "        li = a_li and b_li\n",
    "\n",
    "    # Compute min of upper bounds\n",
    "    if a_high < b_high:\n",
    "        high, ui = a_high, a_ui\n",
    "    elif a_high > b_high:\n",
    "        high, ui = b_high, b_ui\n",
    "    else:\n",
    "        high = a_high\n",
    "        ui = a_ui and b_ui\n",
    "\n",
    "    # Check for empty intersection\n",
    "    if low > high:\n",
    "        return None\n",
    "    if low == high and not (li and ui):\n",
    "        return None\n",
    "\n",
    "    return (low, high, li, ui)"
   ]
  },
  {
   "cell_type": "markdown",
   "id": "c7a5573a",
   "metadata": {},
   "source": [
    "Function that returns the truth value of a num (val) being inside a given interval"
   ]
  },
  {
   "cell_type": "code",
   "execution_count": 5,
   "id": "25c6710b",
   "metadata": {},
   "outputs": [],
   "source": [
    "def inside(val, interval):\n",
    "    low, high, li, ui = interval\n",
    "    if li and ui:\n",
    "        return low <= val <= high\n",
    "    elif li and not ui:\n",
    "        return low <= val < high\n",
    "    elif not li and ui:\n",
    "        return low < val <= high\n",
    "    else:\n",
    "        return low < val < high"
   ]
  },
  {
   "cell_type": "markdown",
   "id": "ad41f500",
   "metadata": {},
   "source": [
    "Function to classify an input using anchors"
   ]
  },
  {
   "cell_type": "code",
   "execution_count": 6,
   "id": "a99e48fe",
   "metadata": {},
   "outputs": [],
   "source": [
    "def classify_w_anchor(input, thresholds, feature_names):\n",
    "    out = np.zeros(input.shape[0])\n",
    "    \n",
    "    for i in range(input.shape[0]):\n",
    "        for j in range(len(thresholds)):\n",
    "            flag = True\n",
    "            out[i] = 1\n",
    "            for nk,k in enumerate(feature_names):\n",
    "                if k in thresholds[j]:\n",
    "                    if not (inside(input[i,nk], thresholds[j][k])):\n",
    "                        flag = False\n",
    "                        out[i] = 0\n",
    "                        break\n",
    "            if flag:\n",
    "                break\n",
    "            else:\n",
    "                flag = True\n",
    "        \n",
    "    return out"
   ]
  },
  {
   "cell_type": "markdown",
   "id": "6aab5760",
   "metadata": {},
   "source": [
    "## DataFrame Preparation"
   ]
  },
  {
   "cell_type": "code",
   "execution_count": 7,
   "id": "1ce34289",
   "metadata": {},
   "outputs": [
    {
     "name": "stdout",
     "output_type": "stream",
     "text": [
      "Number of samples:  5000\n",
      "Training dataset size:  (4000, 13)\n",
      "Validation dataset size:  (1000, 13)\n",
      "Training samples with all requirements satisfied:  (156, 9)\n",
      "Validation samples with all requirements satisfied:  (49, 9)\n",
      "Training samples with req_0 satisfied:  (1382, 9)\n",
      "Training samples with req_1 satisfied:  (723, 9)\n",
      "Training samples with req_2 satisfied:  (908, 9)\n",
      "Training samples with req_3 satisfied:  (1041, 9)\n",
      "Validation samples with req_0 satisfied:  (342, 9)\n",
      "Validation samples with req_1 satisfied:  (172, 9)\n",
      "Validation samples with req_2 satisfied:  (235, 9)\n",
      "Validation samples with req_3 satisfied:  (261, 9)\n"
     ]
    }
   ],
   "source": [
    "#meta parameters\n",
    "train_percentage = 80\n",
    "val_percentage = 20\n",
    "\n",
    "req_names = ['req_0', 'req_1', 'req_2', 'req_3']\n",
    "req_number = len(req_names)\n",
    "feature_names = ['cruise speed','image resolution','illuminance','controls responsiveness','power','smoke intensity','obstacle size','obstacle distance','firm obstacle']\n",
    "feature_number = len(feature_names)\n",
    "\n",
    "training_dataset = '../datasets/dataset5000.csv'\n",
    "\n",
    "# Load the dataset\n",
    "df = pd.read_csv(training_dataset)\n",
    "n_samples = df.shape[0]\n",
    "print(\"Number of samples: \", n_samples)\n",
    "\n",
    "#Split 80 20 the training dataset in training and validation to have more similar data\n",
    "indices = np.arange(0,n_samples)\n",
    "np.random.seed(1234)\n",
    "indices = np.random.permutation(indices)\n",
    "\n",
    "training_indices = indices[0:int(n_samples*train_percentage/100)]\n",
    "validation_indices = indices[int(n_samples*train_percentage/100):]\n",
    "\n",
    "training_df = df.iloc[training_indices]\n",
    "validation_df = df.iloc[validation_indices]\n",
    "print('Training dataset size: ', training_df.shape)\n",
    "print('Validation dataset size: ', validation_df.shape)\n",
    "\n",
    "#select the samples that have all the requirements satisfied both in training and validation\n",
    "# and drop the requirements columns\n",
    "all_true_training = training_df[\n",
    "    (training_df['req_0'] == 1) &\n",
    "    (training_df['req_1'] == 1) &\n",
    "    (training_df['req_2'] == 1) &\n",
    "    (training_df['req_3'] == 1)\n",
    "].drop(columns=req_names)\n",
    "\n",
    "all_true_validation = validation_df[\n",
    "    (validation_df['req_0'] == 1) &\n",
    "    (validation_df['req_1'] == 1) &\n",
    "    (validation_df['req_2'] == 1) &\n",
    "    (validation_df['req_3'] == 1)\n",
    "].drop(columns=req_names)\n",
    "\n",
    "print('Training samples with all requirements satisfied: ', all_true_training.shape)\n",
    "print('Validation samples with all requirements satisfied: ', all_true_validation.shape)\n",
    "\n",
    "#select the samples that have one specific requirement satisfied\n",
    "req_true_training = {}\n",
    "for r in req_names:\n",
    "    req_true_training[r] = training_df[training_df[r] == 1].drop(columns=req_names)\n",
    "    print('Training samples with {} satisfied: '.format(r), req_true_training[r].shape)\n",
    "\n",
    "req_true_validation = {}\n",
    "for r in req_names:\n",
    "    req_true_validation[r] = validation_df[validation_df[r] == 1].drop(columns=req_names)\n",
    "    print('Validation samples with {} satisfied: '.format(r), req_true_validation[r].shape)\n",
    "\n",
    "#create a csv with the new training data and save it\n",
    "training_df.to_csv('../datasets/training_dataset.csv', index=False)\n",
    "validation_df.to_csv('../datasets/validation_dataset.csv', index=False)"
   ]
  },
  {
   "cell_type": "code",
   "execution_count": 8,
   "id": "6e53832d",
   "metadata": {},
   "outputs": [
    {
     "name": "stdout",
     "output_type": "stream",
     "text": [
      "Training samples with req_0 satisfied:  (1365,)\n",
      "Training samples with req_1 satisfied:  (725,)\n",
      "Training samples with req_2 satisfied:  (903,)\n",
      "Training samples with req_3 satisfied:  (1029,)\n"
     ]
    }
   ],
   "source": [
    "datasets = [] #will contain the datasets as needed by the anchor library\n",
    "feature_to_use = [i for i in range(feature_number)] #contains the range of features to use\n",
    "true_from_anchors_df = {}\n",
    "\n",
    "for i,r in enumerate(req_names):\n",
    "    #we load the dataset in anchors\n",
    "    datasets.append(\\\n",
    "        utils.load_csv_dataset(\\\n",
    "            training_dataset, feature_number+i,\\\n",
    "            features_to_use=feature_to_use,\\\n",
    "            categorical_features=None))\n",
    "    \n",
    "    true_from_anchors_df[r] = np.nonzero(datasets[i].labels_train)[0]\n",
    "    print('Training samples with {} satisfied: '.format(r), true_from_anchors_df[r].shape)\n"
   ]
  },
  {
   "cell_type": "code",
   "execution_count": 9,
   "id": "a955bc40",
   "metadata": {},
   "outputs": [],
   "source": [
    "training_dataset = '../datasets/training_dataset.csv'\n",
    "validation_dataset = '../datasets/validation_dataset.csv'"
   ]
  },
  {
   "cell_type": "markdown",
   "id": "e44c01e6",
   "metadata": {},
   "source": [
    "## Learning Phase"
   ]
  },
  {
   "cell_type": "markdown",
   "id": "357133a3",
   "metadata": {},
   "source": [
    "Create a model for each requirement and train it.\n",
    "\n",
    "Initialize the anchor explainer."
   ]
  },
  {
   "cell_type": "code",
   "execution_count": 10,
   "id": "f112d0fd",
   "metadata": {},
   "outputs": [
    {
     "name": "stdout",
     "output_type": "stream",
     "text": [
      "0 out of 3\n",
      "1 out of 3\n",
      "2 out of 3\n",
      "3 out of 3\n"
     ]
    }
   ],
   "source": [
    "\n",
    "models = [] #will contain the models (one per requirement)\n",
    "\n",
    "explainer = []\n",
    "\n",
    "# explanations = np.zeros((req_number, all_true_training.shape[0]), dtype=object) #will contain the explanations (objects)\n",
    "# exp_txt = [] #will contain the textual explanations its structure is a matrix (list of lists) where each row corresponds to a requirement \n",
    "#              #and each column corresponds to the explanation for the corresponding row in all_true_training_dataset\n",
    "\n",
    "\n",
    "for i in range(req_number):\n",
    "    print(f\"{i} out of {req_number-1}\")\n",
    "   \n",
    "    models.append(\\\n",
    "            sklearn.ensemble.GradientBoostingClassifier(random_state=1234))\n",
    "    models[i].fit(datasets[i].train, datasets[i].labels_train)\n",
    "    \n",
    "    #initialize the explainer\n",
    "    explainer.append(anchor_tabular.AnchorTabularExplainer(\n",
    "        datasets[i].class_names, #it maps the 0 and 1 in the dataset's requirements to the class names\n",
    "        datasets[i].feature_names,\n",
    "        datasets[i].train,\n",
    "        datasets[i].categorical_names))"
   ]
  },
  {
   "cell_type": "markdown",
   "id": "751d507a",
   "metadata": {},
   "source": [
    "Accuracy of the trained models"
   ]
  },
  {
   "cell_type": "code",
   "execution_count": 11,
   "id": "af58c1ad",
   "metadata": {},
   "outputs": [
    {
     "name": "stdout",
     "output_type": "stream",
     "text": [
      "Model 1 training accuracy: 0.9390\n",
      "Model 2 training accuracy: 0.9035\n",
      "Model 3 training accuracy: 0.9437\n",
      "Model 4 training accuracy: 0.9293\n"
     ]
    }
   ],
   "source": [
    "for i in range(req_number):\n",
    "    print(f\"Model {i+1} training accuracy: {accuracy_score(datasets[i].labels_train, models[i].predict(datasets[i].train)):.4f}\")"
   ]
  },
  {
   "cell_type": "code",
   "execution_count": 12,
   "id": "436c4960",
   "metadata": {},
   "outputs": [
    {
     "name": "stdout",
     "output_type": "stream",
     "text": [
      "___________Requirement 1: req_0___________\n",
      "___________Requirement 2: req_1___________\n",
      "___________Requirement 3: req_2___________\n",
      "___________Requirement 4: req_3___________\n",
      "Number of samples with all requirements satisfied (according to model): 21\n",
      "Number of samples with all requirements satisfied (real data): 166\n",
      "Number of false positives from model: 3\n",
      "Number of missclassified real positives: 148\n"
     ]
    }
   ],
   "source": [
    "for i, req in enumerate(req_names):\n",
    "    print(f\"___________Requirement {i+1}: {req}___________\")\n",
    "    output = models[i].predict(datasets[i].train)\n",
    "\n",
    "    #obtain the indices of the samples that have the requirement satisfied (truly in the dataset)\n",
    "    real_values_single_req = np.where(datasets[i].labels_train == 1)[0]\n",
    "\n",
    "    if(i == 0):\n",
    "        final = np.where(output == 1)[0]\n",
    "        real_values = real_values_single_req\n",
    "    else:\n",
    "        final = np.intersect1d(final, np.where(output == 1)[0]) \n",
    "        real_values = np.intersect1d(real_values, real_values_single_req)\n",
    "\n",
    "\n",
    "positively_classified = final\n",
    "print(f\"Number of samples with all requirements satisfied (according to model): {positively_classified.shape[0]}\")\n",
    "\n",
    "print(f\"Number of samples with all requirements satisfied (real data): {real_values.shape[0]}\")\n",
    "#calculate false positives\n",
    "f_p = positively_classified.shape[0]- np.intersect1d(real_values, positively_classified).shape[0]\n",
    "print(f\"Number of false positives from model: {f_p}\")\n",
    "#calculate the missclassified real positive\n",
    "m_r_p = real_values.shape[0] - np.intersect1d(real_values, positively_classified).shape[0]\n",
    "print(f\"Number of missclassified real positives: {m_r_p}\")"
   ]
  },
  {
   "cell_type": "markdown",
   "id": "4d516118",
   "metadata": {},
   "source": [
    "Now we will find all points in the dataset that have not satisfied each requirement."
   ]
  },
  {
   "cell_type": "code",
   "execution_count": 13,
   "id": "114ce1ee",
   "metadata": {},
   "outputs": [
    {
     "name": "stdout",
     "output_type": "stream",
     "text": [
      "___________Requirement 1: req_0___________\n",
      "___________Requirement 2: req_1___________\n",
      "___________Requirement 3: req_2___________\n",
      "___________Requirement 4: req_3___________\n",
      "Number of samples with all requirements satisfied (according to model): 2697\n",
      "Number of samples with all requirements satisfied (real data): 3834\n",
      "Number of false negatives from model: 6\n",
      "Number of missclassified real negatives: 1143\n"
     ]
    }
   ],
   "source": [
    "for i, req in enumerate(req_names):\n",
    "    print(f\"___________Requirement {i+1}: {req}___________\")\n",
    "    output = models[i].predict(datasets[i].train)\n",
    "\n",
    "    #obtain the indices of the samples that have the requirement satisfied (truly in the dataset)\n",
    "    real_values_single_req = datasets[i].labels_train\n",
    "\n",
    "    if(i == 0):\n",
    "        final = output\n",
    "        real_values = real_values_single_req\n",
    "    else:\n",
    "        final *= final\n",
    "        real_values *= real_values_single_req\n",
    "\n",
    "negatively_classified = np.where(final == 0)[0]\n",
    "true_negative = np.where(real_values == 0)[0]\n",
    "\n",
    "print(f\"Number of samples with all requirements satisfied (according to model): {negatively_classified.shape[0]}\")\n",
    "print(f\"Number of samples with all requirements satisfied (real data): {true_negative.shape[0]}\")\n",
    "#calculate false negatives\n",
    "f_n = negatively_classified.shape[0]- np.intersect1d(true_negative, negatively_classified).shape[0]\n",
    "print(f\"Number of false negatives from model: {f_n}\")\n",
    "#calculate the missclassified real negative\n",
    "m_r_n = true_negative.shape[0] - np.intersect1d(true_negative, negatively_classified).shape[0]\n",
    "print(f\"Number of missclassified real negatives: {m_r_n}\")"
   ]
  },
  {
   "cell_type": "markdown",
   "id": "31d6e8d8",
   "metadata": {},
   "source": [
    "## Explain the model using Anchor"
   ]
  },
  {
   "cell_type": "code",
   "execution_count": 14,
   "id": "04348592",
   "metadata": {},
   "outputs": [],
   "source": [
    "explanations = []\n",
    "\n",
    "for j, p_sample in enumerate(positively_classified):\n",
    "    intersected_exp = {}\n",
    "    for i in range(req_number):\n",
    "        #get the sample\n",
    "        sample = datasets[i].train[p_sample]\n",
    "        #explain the sample\n",
    "        exp = explainer[i].explain_instance(sample, models[i].predict, threshold=0.95)\n",
    "        #get the textual explanation\n",
    "        exp = exp.names()\n",
    "        #transform the textual explanations in an interval\n",
    "        for boundings in exp:\n",
    "            quoted, rest = get_anchor(boundings)            \n",
    "            if(quoted not in intersected_exp):\n",
    "                intersected_exp[quoted] = parse_range(rest)\n",
    "            else:\n",
    "                intersected_exp[quoted] = intersect(intersected_exp[quoted], parse_range(rest))\n",
    "\n",
    "    #prepare the data structure\n",
    "    explanations.append(intersected_exp)"
   ]
  },
  {
   "cell_type": "code",
   "execution_count": 72,
   "id": "e4b57d97",
   "metadata": {},
   "outputs": [
    {
     "data": {
      "text/plain": [
       "array([61.2058, 53.6657, 78.9786, 96.9228, 82.    , 40.3708, 72.7148,\n",
       "       98.1789,  1.    ])"
      ]
     },
     "execution_count": 72,
     "metadata": {},
     "output_type": "execute_result"
    }
   ],
   "source": [
    "datasets[i].train[0]"
   ]
  },
  {
   "cell_type": "markdown",
   "id": "ced7e248",
   "metadata": {},
   "source": [
    "Let's verify that the data structure is correctly built"
   ]
  },
  {
   "cell_type": "code",
   "execution_count": 15,
   "id": "e84ea2bf",
   "metadata": {},
   "outputs": [
    {
     "name": "stdout",
     "output_type": "stream",
     "text": [
      "True\n"
     ]
    }
   ],
   "source": [
    "print(len(explanations) == positively_classified.shape[0])"
   ]
  },
  {
   "cell_type": "code",
   "execution_count": 16,
   "id": "21a59df1",
   "metadata": {},
   "outputs": [
    {
     "data": {
      "text/plain": [
       "[{'firm obstacle': (1.0, 1.0, True, True),\n",
       "  'smoke intensity': (-inf, 23.42, False, True),\n",
       "  'illuminance': (75.91, inf, False, False),\n",
       "  'cruise speed': (-inf, 25.21, False, True),\n",
       "  'image resolution': (75.24, inf, False, False),\n",
       "  'obstacle size': (26.74, 50.25, False, True),\n",
       "  'power': (51.0, inf, False, False),\n",
       "  'controls responsiveness': (73.9, inf, False, False),\n",
       "  'obstacle distance': (25.34, 49.94, False, True)},\n",
       " {'firm obstacle': (1.0, 1.0, True, True),\n",
       "  'image resolution': (75.24, inf, False, False),\n",
       "  'smoke intensity': (-inf, 48.87, False, True),\n",
       "  'cruise speed': (-inf, 25.21, False, True),\n",
       "  'illuminance': (75.91, inf, False, False),\n",
       "  'obstacle size': (74.61, inf, False, False),\n",
       "  'controls responsiveness': (73.9, inf, False, False),\n",
       "  'power': (25.0, 76.0, False, True),\n",
       "  'obstacle distance': (25.34, inf, False, False)},\n",
       " {'firm obstacle': (1.0, 1.0, True, True),\n",
       "  'image resolution': (75.24, inf, False, False),\n",
       "  'illuminance': (75.91, inf, False, False),\n",
       "  'smoke intensity': (-inf, 23.42, False, True),\n",
       "  'cruise speed': (-inf, 25.21, False, True),\n",
       "  'obstacle size': (26.74, 50.25, False, True),\n",
       "  'obstacle distance': (-inf, 74.78, False, True),\n",
       "  'controls responsiveness': (26.39, inf, False, False),\n",
       "  'power': (76.0, inf, False, False)},\n",
       " {'firm obstacle': (1.0, 1.0, True, True),\n",
       "  'image resolution': (75.24, inf, False, False),\n",
       "  'illuminance': (50.87, inf, False, False),\n",
       "  'cruise speed': (-inf, 50.17, False, True),\n",
       "  'smoke intensity': (-inf, 48.87, False, True),\n",
       "  'obstacle distance': (-inf, 49.94, False, True),\n",
       "  'power': (76.0, inf, False, False),\n",
       "  'controls responsiveness': (73.9, inf, False, False),\n",
       "  'obstacle size': (-inf, 26.74, False, True)},\n",
       " {'firm obstacle': (1.0, 1.0, True, True),\n",
       "  'illuminance': (75.91, inf, False, False),\n",
       "  'image resolution': (75.24, inf, False, False),\n",
       "  'cruise speed': (-inf, 25.21, False, True),\n",
       "  'smoke intensity': (-inf, 23.42, False, True),\n",
       "  'controls responsiveness': (73.9, inf, False, False),\n",
       "  'power': (25.0, inf, False, False),\n",
       "  'obstacle distance': (49.94, 74.78, False, True),\n",
       "  'obstacle size': (-inf, 74.61, False, True)},\n",
       " {'firm obstacle': (1.0, 1.0, True, True),\n",
       "  'image resolution': (75.24, inf, False, False),\n",
       "  'illuminance': (50.87, inf, False, False),\n",
       "  'smoke intensity': (-inf, 23.42, False, True),\n",
       "  'cruise speed': (-inf, 75.49, False, True),\n",
       "  'obstacle distance': (25.34, 49.94, False, True),\n",
       "  'obstacle size': (26.74, 50.25, False, True),\n",
       "  'controls responsiveness': (50.29, inf, False, False)},\n",
       " {'firm obstacle': (1.0, 1.0, True, True),\n",
       "  'illuminance': (75.91, inf, False, False),\n",
       "  'image resolution': (75.24, inf, False, False),\n",
       "  'cruise speed': (-inf, 50.17, False, True),\n",
       "  'smoke intensity': (-inf, 23.42, False, True),\n",
       "  'obstacle size': (50.25, 74.61, False, True),\n",
       "  'obstacle distance': (-inf, 74.78, False, True),\n",
       "  'controls responsiveness': (73.9, inf, False, False),\n",
       "  'power': (25.0, inf, False, False)},\n",
       " {'firm obstacle': (1.0, 1.0, True, True),\n",
       "  'illuminance': (75.91, inf, False, False),\n",
       "  'smoke intensity': (-inf, 23.42, False, True),\n",
       "  'cruise speed': (-inf, 25.21, False, True),\n",
       "  'image resolution': (25.4, inf, False, False),\n",
       "  'power': (76.0, inf, False, False),\n",
       "  'obstacle distance': (49.94, 74.78, False, True),\n",
       "  'controls responsiveness': (73.9, inf, False, False)},\n",
       " {'firm obstacle': (1.0, 1.0, True, True),\n",
       "  'image resolution': (75.24, inf, False, False),\n",
       "  'illuminance': (75.91, inf, False, False),\n",
       "  'cruise speed': (-inf, 25.21, False, True),\n",
       "  'obstacle size': (74.61, inf, False, False),\n",
       "  'power': (25.0, 76.0, False, True),\n",
       "  'obstacle distance': (49.94, 74.78, False, True),\n",
       "  'controls responsiveness': (73.9, inf, False, False)},\n",
       " {'firm obstacle': (1.0, 1.0, True, True),\n",
       "  'image resolution': (75.24, inf, False, False),\n",
       "  'illuminance': (75.91, inf, False, False),\n",
       "  'cruise speed': (-inf, 25.21, False, True),\n",
       "  'smoke intensity': (-inf, 48.87, False, True),\n",
       "  'power': (51.0, inf, False, False),\n",
       "  'obstacle distance': (25.34, 49.94, False, True),\n",
       "  'controls responsiveness': (50.29, inf, False, False),\n",
       "  'obstacle size': (-inf, 50.25, False, True)},\n",
       " {'firm obstacle': (1.0, 1.0, True, True),\n",
       "  'image resolution': (75.24, inf, False, False),\n",
       "  'cruise speed': (-inf, 25.21, False, True),\n",
       "  'illuminance': (75.91, inf, False, False),\n",
       "  'smoke intensity': (-inf, 48.87, False, True),\n",
       "  'obstacle size': (50.25, inf, False, False),\n",
       "  'controls responsiveness': (50.29, inf, False, False),\n",
       "  'power': (25.0, inf, False, False),\n",
       "  'obstacle distance': (25.34, 74.78, False, True)},\n",
       " {'firm obstacle': (1.0, 1.0, True, True),\n",
       "  'image resolution': (75.24, inf, False, False),\n",
       "  'illuminance': (26.13, inf, False, False),\n",
       "  'smoke intensity': (-inf, 23.42, False, True),\n",
       "  'cruise speed': (-inf, 25.21, False, True),\n",
       "  'power': (51.0, inf, False, False),\n",
       "  'obstacle distance': (-inf, 25.34, False, True),\n",
       "  'controls responsiveness': (50.29, inf, False, False),\n",
       "  'obstacle size': (26.74, 50.25, False, True)},\n",
       " {'firm obstacle': (1.0, 1.0, True, True),\n",
       "  'illuminance': (50.87, inf, False, False),\n",
       "  'image resolution': (75.24, inf, False, False),\n",
       "  'smoke intensity': (-inf, 73.67, False, True),\n",
       "  'cruise speed': (-inf, 25.21, False, True),\n",
       "  'power': (76.0, inf, False, False),\n",
       "  'obstacle size': (50.25, inf, False, False),\n",
       "  'controls responsiveness': (73.9, inf, False, False),\n",
       "  'obstacle distance': (25.34, 49.94, False, True)},\n",
       " {'firm obstacle': (1.0, 1.0, True, True),\n",
       "  'illuminance': (75.91, inf, False, False),\n",
       "  'smoke intensity': (-inf, 23.42, False, True),\n",
       "  'cruise speed': (-inf, 25.21, False, True),\n",
       "  'image resolution': (25.4, 49.8, False, True),\n",
       "  'obstacle size': (26.74, 50.25, False, True),\n",
       "  'controls responsiveness': (73.9, inf, False, False),\n",
       "  'obstacle distance': (49.94, inf, False, False)},\n",
       " {'firm obstacle': (1.0, 1.0, True, True),\n",
       "  'illuminance': (75.91, inf, False, False),\n",
       "  'image resolution': (75.24, inf, False, False),\n",
       "  'cruise speed': (-inf, 25.21, False, True),\n",
       "  'smoke intensity': (-inf, 73.67, False, True),\n",
       "  'obstacle size': (74.61, inf, False, False),\n",
       "  'obstacle distance': (25.34, 74.78, False, True),\n",
       "  'controls responsiveness': (73.9, inf, False, False),\n",
       "  'power': (25.0, inf, False, False)},\n",
       " {'firm obstacle': (1.0, 1.0, True, True),\n",
       "  'image resolution': (75.24, inf, False, False),\n",
       "  'illuminance': (50.87, inf, False, False),\n",
       "  'smoke intensity': (-inf, 23.42, False, True),\n",
       "  'cruise speed': (-inf, 25.21, False, True),\n",
       "  'obstacle distance': (-inf, 74.78, False, True),\n",
       "  'obstacle size': (26.74, 50.25, False, True),\n",
       "  'controls responsiveness': (73.9, inf, False, False),\n",
       "  'power': (25.0, inf, False, False)},\n",
       " {'firm obstacle': (1.0, 1.0, True, True),\n",
       "  'illuminance': (50.87, inf, False, False),\n",
       "  'smoke intensity': (-inf, 23.42, False, True),\n",
       "  'image resolution': (75.24, inf, False, False),\n",
       "  'cruise speed': (-inf, 50.17, False, True),\n",
       "  'obstacle size': (74.61, inf, False, False),\n",
       "  'obstacle distance': (49.94, 74.78, False, True),\n",
       "  'controls responsiveness': (73.9, inf, False, False),\n",
       "  'power': (25.0, 76.0, False, True)},\n",
       " {'firm obstacle': (1.0, 1.0, True, True),\n",
       "  'smoke intensity': (-inf, 23.42, False, True),\n",
       "  'illuminance': (50.87, inf, False, False),\n",
       "  'image resolution': (49.8, inf, False, False),\n",
       "  'cruise speed': (-inf, 25.21, False, True),\n",
       "  'power': (51.0, inf, False, False),\n",
       "  'controls responsiveness': (73.9, inf, False, False),\n",
       "  'obstacle distance': (25.34, 74.78, False, True),\n",
       "  'obstacle size': (74.61, inf, False, False)},\n",
       " {'firm obstacle': (1.0, 1.0, True, True),\n",
       "  'smoke intensity': (-inf, 23.42, False, True),\n",
       "  'illuminance': (50.87, inf, False, False),\n",
       "  'image resolution': (75.24, inf, False, False),\n",
       "  'cruise speed': (-inf, 25.21, False, True),\n",
       "  'power': (51.0, inf, False, False),\n",
       "  'obstacle distance': (25.34, 49.94, False, True),\n",
       "  'controls responsiveness': (50.29, inf, False, False),\n",
       "  'obstacle size': (74.61, inf, False, False)},\n",
       " {'firm obstacle': (1.0, 1.0, True, True),\n",
       "  'image resolution': (75.24, inf, False, False),\n",
       "  'illuminance': (75.91, inf, False, False),\n",
       "  'smoke intensity': (-inf, 23.42, False, True),\n",
       "  'cruise speed': (-inf, 25.21, False, True),\n",
       "  'obstacle size': (50.25, 74.61, False, True),\n",
       "  'power': (76.0, inf, False, False),\n",
       "  'controls responsiveness': (50.29, inf, False, False),\n",
       "  'obstacle distance': (-inf, 74.78, False, True)},\n",
       " {'firm obstacle': (1.0, 1.0, True, True),\n",
       "  'image resolution': (75.24, inf, False, False),\n",
       "  'illuminance': (75.91, inf, False, False),\n",
       "  'smoke intensity': (-inf, 23.42, False, True),\n",
       "  'cruise speed': (-inf, 25.21, False, True),\n",
       "  'power': (76.0, inf, False, False),\n",
       "  'obstacle size': (26.74, inf, False, False),\n",
       "  'controls responsiveness': (73.9, inf, False, False),\n",
       "  'obstacle distance': (25.34, 74.78, False, True)}]"
      ]
     },
     "execution_count": 16,
     "metadata": {},
     "output_type": "execute_result"
    }
   ],
   "source": [
    "explanations"
   ]
  },
  {
   "cell_type": "markdown",
   "id": "2adeaee0",
   "metadata": {},
   "source": [
    "## Reordering of anchors' features"
   ]
  },
  {
   "cell_type": "code",
   "execution_count": 80,
   "id": "4f4b3e75",
   "metadata": {},
   "outputs": [],
   "source": [
    "feature_names\n",
    "for exp in explanations:\n",
    "    exp_reordered = {}\n",
    "    for k in feature_names:\n",
    "        if k in exp:\n",
    "            exp_reordered[k] = exp[k]\n",
    "    exp = exp_reordered"
   ]
  },
  {
   "cell_type": "code",
   "execution_count": 81,
   "id": "b20c7d78",
   "metadata": {},
   "outputs": [
    {
     "name": "stdout",
     "output_type": "stream",
     "text": [
      "[{'firm obstacle': (1.0, 1.0, True, True), 'smoke intensity': (-inf, 23.42, False, True), 'illuminance': (75.91, inf, False, False), 'cruise speed': (-inf, 25.21, False, True), 'image resolution': (75.24, inf, False, False), 'obstacle size': (26.74, 50.25, False, True), 'power': (51.0, inf, False, False), 'controls responsiveness': (73.9, inf, False, False), 'obstacle distance': (25.34, 49.94, False, True)}, {'firm obstacle': (1.0, 1.0, True, True), 'image resolution': (75.24, inf, False, False), 'smoke intensity': (-inf, 48.87, False, True), 'cruise speed': (-inf, 25.21, False, True), 'illuminance': (75.91, inf, False, False), 'obstacle size': (74.61, inf, False, False), 'controls responsiveness': (73.9, inf, False, False), 'power': (25.0, 76.0, False, True), 'obstacle distance': (25.34, inf, False, False)}, {'firm obstacle': (1.0, 1.0, True, True), 'image resolution': (75.24, inf, False, False), 'illuminance': (75.91, inf, False, False), 'smoke intensity': (-inf, 23.42, False, True), 'cruise speed': (-inf, 25.21, False, True), 'obstacle size': (26.74, 50.25, False, True), 'obstacle distance': (-inf, 74.78, False, True), 'controls responsiveness': (26.39, inf, False, False), 'power': (76.0, inf, False, False)}, {'firm obstacle': (1.0, 1.0, True, True), 'image resolution': (75.24, inf, False, False), 'illuminance': (50.87, inf, False, False), 'cruise speed': (-inf, 50.17, False, True), 'smoke intensity': (-inf, 48.87, False, True), 'obstacle distance': (-inf, 49.94, False, True), 'power': (76.0, inf, False, False), 'controls responsiveness': (73.9, inf, False, False), 'obstacle size': (-inf, 26.74, False, True)}, {'firm obstacle': (1.0, 1.0, True, True), 'illuminance': (75.91, inf, False, False), 'image resolution': (75.24, inf, False, False), 'cruise speed': (-inf, 25.21, False, True), 'smoke intensity': (-inf, 23.42, False, True), 'controls responsiveness': (73.9, inf, False, False), 'power': (25.0, inf, False, False), 'obstacle distance': (49.94, 74.78, False, True), 'obstacle size': (-inf, 74.61, False, True)}, {'firm obstacle': (1.0, 1.0, True, True), 'image resolution': (75.24, inf, False, False), 'illuminance': (50.87, inf, False, False), 'smoke intensity': (-inf, 23.42, False, True), 'cruise speed': (-inf, 75.49, False, True), 'obstacle distance': (25.34, 49.94, False, True), 'obstacle size': (26.74, 50.25, False, True), 'controls responsiveness': (50.29, inf, False, False)}, {'firm obstacle': (1.0, 1.0, True, True), 'illuminance': (75.91, inf, False, False), 'image resolution': (75.24, inf, False, False), 'cruise speed': (-inf, 50.17, False, True), 'smoke intensity': (-inf, 23.42, False, True), 'obstacle size': (50.25, 74.61, False, True), 'obstacle distance': (-inf, 74.78, False, True), 'controls responsiveness': (73.9, inf, False, False), 'power': (25.0, inf, False, False)}, {'firm obstacle': (1.0, 1.0, True, True), 'illuminance': (75.91, inf, False, False), 'smoke intensity': (-inf, 23.42, False, True), 'cruise speed': (-inf, 25.21, False, True), 'image resolution': (25.4, inf, False, False), 'power': (76.0, inf, False, False), 'obstacle distance': (49.94, 74.78, False, True), 'controls responsiveness': (73.9, inf, False, False)}, {'firm obstacle': (1.0, 1.0, True, True), 'image resolution': (75.24, inf, False, False), 'illuminance': (75.91, inf, False, False), 'cruise speed': (-inf, 25.21, False, True), 'obstacle size': (74.61, inf, False, False), 'power': (25.0, 76.0, False, True), 'obstacle distance': (49.94, 74.78, False, True), 'controls responsiveness': (73.9, inf, False, False)}, {'firm obstacle': (1.0, 1.0, True, True), 'image resolution': (75.24, inf, False, False), 'illuminance': (75.91, inf, False, False), 'cruise speed': (-inf, 25.21, False, True), 'smoke intensity': (-inf, 48.87, False, True), 'power': (51.0, inf, False, False), 'obstacle distance': (25.34, 49.94, False, True), 'controls responsiveness': (50.29, inf, False, False), 'obstacle size': (-inf, 50.25, False, True)}, {'firm obstacle': (1.0, 1.0, True, True), 'image resolution': (75.24, inf, False, False), 'cruise speed': (-inf, 25.21, False, True), 'illuminance': (75.91, inf, False, False), 'smoke intensity': (-inf, 48.87, False, True), 'obstacle size': (50.25, inf, False, False), 'controls responsiveness': (50.29, inf, False, False), 'power': (25.0, inf, False, False), 'obstacle distance': (25.34, 74.78, False, True)}, {'firm obstacle': (1.0, 1.0, True, True), 'image resolution': (75.24, inf, False, False), 'illuminance': (26.13, inf, False, False), 'smoke intensity': (-inf, 23.42, False, True), 'cruise speed': (-inf, 25.21, False, True), 'power': (51.0, inf, False, False), 'obstacle distance': (-inf, 25.34, False, True), 'controls responsiveness': (50.29, inf, False, False), 'obstacle size': (26.74, 50.25, False, True)}, {'firm obstacle': (1.0, 1.0, True, True), 'illuminance': (50.87, inf, False, False), 'image resolution': (75.24, inf, False, False), 'smoke intensity': (-inf, 73.67, False, True), 'cruise speed': (-inf, 25.21, False, True), 'power': (76.0, inf, False, False), 'obstacle size': (50.25, inf, False, False), 'controls responsiveness': (73.9, inf, False, False), 'obstacle distance': (25.34, 49.94, False, True)}, {'firm obstacle': (1.0, 1.0, True, True), 'illuminance': (75.91, inf, False, False), 'smoke intensity': (-inf, 23.42, False, True), 'cruise speed': (-inf, 25.21, False, True), 'image resolution': (25.4, 49.8, False, True), 'obstacle size': (26.74, 50.25, False, True), 'controls responsiveness': (73.9, inf, False, False), 'obstacle distance': (49.94, inf, False, False)}, {'firm obstacle': (1.0, 1.0, True, True), 'illuminance': (75.91, inf, False, False), 'image resolution': (75.24, inf, False, False), 'cruise speed': (-inf, 25.21, False, True), 'smoke intensity': (-inf, 73.67, False, True), 'obstacle size': (74.61, inf, False, False), 'obstacle distance': (25.34, 74.78, False, True), 'controls responsiveness': (73.9, inf, False, False), 'power': (25.0, inf, False, False)}, {'firm obstacle': (1.0, 1.0, True, True), 'image resolution': (75.24, inf, False, False), 'illuminance': (50.87, inf, False, False), 'smoke intensity': (-inf, 23.42, False, True), 'cruise speed': (-inf, 25.21, False, True), 'obstacle distance': (-inf, 74.78, False, True), 'obstacle size': (26.74, 50.25, False, True), 'controls responsiveness': (73.9, inf, False, False), 'power': (25.0, inf, False, False)}, {'firm obstacle': (1.0, 1.0, True, True), 'illuminance': (50.87, inf, False, False), 'smoke intensity': (-inf, 23.42, False, True), 'image resolution': (75.24, inf, False, False), 'cruise speed': (-inf, 50.17, False, True), 'obstacle size': (74.61, inf, False, False), 'obstacle distance': (49.94, 74.78, False, True), 'controls responsiveness': (73.9, inf, False, False), 'power': (25.0, 76.0, False, True)}, {'firm obstacle': (1.0, 1.0, True, True), 'smoke intensity': (-inf, 23.42, False, True), 'illuminance': (50.87, inf, False, False), 'image resolution': (49.8, inf, False, False), 'cruise speed': (-inf, 25.21, False, True), 'power': (51.0, inf, False, False), 'controls responsiveness': (73.9, inf, False, False), 'obstacle distance': (25.34, 74.78, False, True), 'obstacle size': (74.61, inf, False, False)}, {'firm obstacle': (1.0, 1.0, True, True), 'smoke intensity': (-inf, 23.42, False, True), 'illuminance': (50.87, inf, False, False), 'image resolution': (75.24, inf, False, False), 'cruise speed': (-inf, 25.21, False, True), 'power': (51.0, inf, False, False), 'obstacle distance': (25.34, 49.94, False, True), 'controls responsiveness': (50.29, inf, False, False), 'obstacle size': (74.61, inf, False, False)}, {'firm obstacle': (1.0, 1.0, True, True), 'image resolution': (75.24, inf, False, False), 'illuminance': (75.91, inf, False, False), 'smoke intensity': (-inf, 23.42, False, True), 'cruise speed': (-inf, 25.21, False, True), 'obstacle size': (50.25, 74.61, False, True), 'power': (76.0, inf, False, False), 'controls responsiveness': (50.29, inf, False, False), 'obstacle distance': (-inf, 74.78, False, True)}, {'firm obstacle': (1.0, 1.0, True, True), 'image resolution': (75.24, inf, False, False), 'illuminance': (75.91, inf, False, False), 'smoke intensity': (-inf, 23.42, False, True), 'cruise speed': (-inf, 25.21, False, True), 'power': (76.0, inf, False, False), 'obstacle size': (26.74, inf, False, False), 'controls responsiveness': (73.9, inf, False, False), 'obstacle distance': (25.34, 74.78, False, True)}, {'firm obstacle': (1.0, 1.0, True, True), 'illuminance': (50.87, inf, False, False), 'image resolution': (75.24, inf, False, False), 'cruise speed': (-inf, 25.21, False, True), 'power': (76.0, inf, False, False), 'obstacle size': (74.61, inf, False, False), 'controls responsiveness': (73.9, inf, False, False), 'obstacle distance': (49.94, inf, False, False)}, {'firm obstacle': (1.0, 1.0, True, True), 'image resolution': (75.24, inf, False, False), 'illuminance': (50.87, inf, False, False), 'cruise speed': (-inf, 25.21, False, True), 'power': (76.0, inf, False, False), 'obstacle size': (74.61, inf, False, False), 'obstacle distance': (49.94, 74.78, False, True), 'controls responsiveness': (73.9, inf, False, False)}, {'firm obstacle': (1.0, 1.0, True, True), 'image resolution': (75.24, inf, False, False), 'illuminance': (50.87, 75.91, False, True), 'cruise speed': (-inf, 25.21, False, True), 'power': (76.0, inf, False, False), 'obstacle distance': (49.94, 74.78, False, True), 'obstacle size': (74.61, inf, False, False), 'controls responsiveness': (73.9, inf, False, False)}]\n"
     ]
    }
   ],
   "source": [
    "print(explanations)"
   ]
  },
  {
   "cell_type": "markdown",
   "id": "cd775a56",
   "metadata": {},
   "source": [
    "### Anchors for negative points"
   ]
  },
  {
   "cell_type": "code",
   "execution_count": 17,
   "id": "c727304e",
   "metadata": {},
   "outputs": [],
   "source": [
    "# neg_explanations = []\n",
    "\n",
    "# for j, p_sample in enumerate(negatively_classified):\n",
    "#     final_exp = {}\n",
    "#     for i in range(req_number):\n",
    "#         #get the sample\n",
    "#         sample = datasets[i].train[p_sample]\n",
    "#         #explain the sample\n",
    "#         exp = explainer[i].explain_instance(sample, models[i].predict, threshold=0.95)\n",
    "#         #get the textual explanation\n",
    "#         exp = exp.names()\n",
    "#         #transform the textual explanations in an interval\n",
    "#         for boundings in exp:\n",
    "#             quoted, rest = get_anchor(boundings)            \n",
    "#             final_exp[quoted] = parse_range(rest)\n",
    "#         #update the \n",
    "#         neg_explanations.append(final_exp)"
   ]
  },
  {
   "cell_type": "code",
   "execution_count": 18,
   "id": "11a3dbfc",
   "metadata": {},
   "outputs": [],
   "source": [
    "# print(len(neg_explanations) == negatively_classified.shape[0]*req_number)"
   ]
  },
  {
   "cell_type": "code",
   "execution_count": 19,
   "id": "f8cba587",
   "metadata": {},
   "outputs": [],
   "source": [
    "# neg_explanations"
   ]
  },
  {
   "cell_type": "markdown",
   "id": "b3488f6d",
   "metadata": {},
   "source": [
    "Now a point will be classified as positive if it's simultaniously inside the area defined by explanations and not inside the are of negative_explanations"
   ]
  },
  {
   "cell_type": "markdown",
   "id": "d2b51469",
   "metadata": {},
   "source": [
    "# Validation"
   ]
  },
  {
   "cell_type": "markdown",
   "id": "5a67ec5e",
   "metadata": {},
   "source": [
    "Verify if the function works properly by submitting the positively classified samples in the training dataset, we should obtain that all the input are positively classified in this case."
   ]
  },
  {
   "cell_type": "code",
   "execution_count": 82,
   "id": "cbc5f4f5",
   "metadata": {},
   "outputs": [
    {
     "name": "stdout",
     "output_type": "stream",
     "text": [
      "Number of samples with req_3 classified as satisfied: 21.      \n",
      "If this number is 21 it means that the anchor function classifies correctly the samples classified true by the model.      \n",
      "In this case it is True\n"
     ]
    }
   ],
   "source": [
    "idx = positively_classified\n",
    "\n",
    "samples = datasets[0].train[idx]\n",
    "#classify the samples with the anchor function\n",
    "sat = classify_w_anchor(samples, explanations, feature_names)\n",
    "\n",
    "#obtain the indices of the samples that have the requirement satisfied\n",
    "anchors_positives = np.where(sat != 0)[0]\n",
    "print(f\"Number of samples with {req} classified as satisfied: {len(anchors_positives)}.\\\n",
    "      \\nIf this number is {len(idx)} it means that the anchor function classifies correctly the samples classified true by the model.\\\n",
    "      \\nIn this case it is {len(idx) == len(anchors_positives)}\")"
   ]
  },
  {
   "cell_type": "markdown",
   "id": "54a28ad4",
   "metadata": {},
   "source": [
    "Validate the anchors classifier on the validation set"
   ]
  },
  {
   "cell_type": "code",
   "execution_count": 83,
   "id": "77c17687",
   "metadata": {},
   "outputs": [
    {
     "name": "stdout",
     "output_type": "stream",
     "text": [
      "(1000, 13)\n"
     ]
    }
   ],
   "source": [
    "val_set = validation_df.values\n",
    "print(val_set.shape)"
   ]
  },
  {
   "cell_type": "code",
   "execution_count": 84,
   "id": "62937311",
   "metadata": {},
   "outputs": [
    {
     "data": {
      "text/plain": [
       "array([64.2909, 16.3241, 65.5295, 55.7508, 25.0, 28.5735, 6.1418, 89.258,\n",
       "       0.0, False, True, False, False], dtype=object)"
      ]
     },
     "execution_count": 84,
     "metadata": {},
     "output_type": "execute_result"
    }
   ],
   "source": [
    "val_set[0]"
   ]
  },
  {
   "cell_type": "code",
   "execution_count": 85,
   "id": "16df7fc8",
   "metadata": {},
   "outputs": [
    {
     "name": "stdout",
     "output_type": "stream",
     "text": [
      "(1000, 9)\n",
      "___________Requirement req_0___________\n",
      "___________Requirement req_1___________\n",
      "___________Requirement req_2___________\n",
      "___________Requirement req_3___________\n",
      "Number of samples with all reqs classified as satisfied by the model: 7\n",
      "Number of samples with all reqs classified as satisfied by the anchor function: 6\n",
      "Number of samples with all reqs classified as satisfied by the model and the anchor function: 5\n",
      "\n",
      "\n",
      "Number of samples with all reqs classified as satisfied: 6.        \n",
      "If this number is 7 it means that the anchor function classifies correctly the samples classified true by the model.        \n",
      "In this case it is False\n",
      "Number of false positives: 1, ratio (over anchor_positives): 0.16666666666666666\n",
      "Number of missclassified real positives: 2, ratio (over model_positives): 0.2857142857142857\n",
      "\n",
      "\n"
     ]
    }
   ],
   "source": [
    "#obtain the samples\n",
    "samples = val_set[:, 0:feature_number]\n",
    "print(samples.shape)\n",
    "for r, req in enumerate(req_names):\n",
    "    print(f\"___________Requirement {req}___________\")\n",
    "    \n",
    "    #classify the samples with the model\n",
    "    tmp_output = models[r].predict(samples)\n",
    "    if(r == 0):\n",
    "        output = tmp_output\n",
    "    else:\n",
    "        output *= tmp_output\n",
    "\n",
    "#classify the samples with the anchor function\n",
    "sat = classify_w_anchor(samples, explanations, feature_names)\n",
    "    \n",
    "#obtain the indices of the samples that are classified as true by the model\n",
    "models_positives = np.where(output != 0)[0]\n",
    "    \n",
    "#obtain the indices of the samples that are classified as true by anchors\n",
    "anchors_positives = np.where(sat != 0)[0]\n",
    "\n",
    "#obtain the samples classified correctly by anchors w.r.t. the model\n",
    "correctly_classified = np.intersect1d(models_positives, anchors_positives)\n",
    "\n",
    "print(f\"Number of samples with all reqs classified as satisfied by the model: {len(models_positives)}\")\n",
    "print(f\"Number of samples with all reqs classified as satisfied by the anchor function: {len(anchors_positives)}\")\n",
    "print(f\"Number of samples with all reqs classified as satisfied by the model and the anchor function: {len(correctly_classified)}\")\n",
    "print(\"\\n\")\n",
    "print(f\"Number of samples with all reqs classified as satisfied: {len(anchors_positives)}.\\\n",
    "        \\nIf this number is {len(models_positives)} it means that the anchor function classifies correctly the samples classified true by the model.\\\n",
    "        \\nIn this case it is {len(models_positives) == len(anchors_positives)}\")\n",
    "\n",
    "#calculate the false positives\n",
    "f_p = anchors_positives.shape[0] - correctly_classified.shape[0]\n",
    "print(f\"Number of false positives: {f_p}, ratio (over anchor_positives): {f_p/anchors_positives.shape[0]}\")\n",
    "\n",
    "#calculate the missclassified real positive\n",
    "m_r_p = models_positives.shape[0] - correctly_classified.shape[0]\n",
    "print(f\"Number of missclassified real positives: {m_r_p}, ratio (over model_positives): {m_r_p/models_positives.shape[0]}\")\n",
    "print(\"\\n\")"
   ]
  },
  {
   "cell_type": "code",
   "execution_count": 86,
   "id": "a7d368ee",
   "metadata": {},
   "outputs": [
    {
     "name": "stdout",
     "output_type": "stream",
     "text": [
      "(1000, 9)\n",
      "(1000, 4)\n",
      "(1000,)\n"
     ]
    }
   ],
   "source": [
    "observable_feature_names = feature_names[3:7]\n",
    "\n",
    "s = samples[:, 3:7]\n",
    "print(samples.shape)\n",
    "print(s.shape)\n",
    "\n",
    "cl = classify_w_anchor(s, explanations, observable_feature_names)\n",
    "\n",
    "print(cl.shape)\n"
   ]
  },
  {
   "cell_type": "code",
   "execution_count": 87,
   "id": "56890c4f",
   "metadata": {},
   "outputs": [
    {
     "name": "stdout",
     "output_type": "stream",
     "text": [
      "(219,)\n"
     ]
    }
   ],
   "source": [
    "print(np.where(cl != 0)[0].shape)"
   ]
  },
  {
   "cell_type": "markdown",
   "id": "cf6bdc60",
   "metadata": {},
   "source": [
    "# Validation using also negative area"
   ]
  },
  {
   "cell_type": "code",
   "execution_count": 88,
   "id": "1cc1e552",
   "metadata": {},
   "outputs": [],
   "source": [
    "##obtain the negatively classified inidces\n",
    "#idx = negatively_classified\n",
    "\n",
    "#samples = datasets[0].train[idx]\n",
    "##classify the samples with the anchor function\n",
    "#sat = classify_w_anchor(samples, neg_explanations, feature_names)\n",
    "\n",
    "##obtain the indices of the samples that have the requirement satisfied\n",
    "#anchors_negatives = np.where(sat != 0)[0]\n",
    "#print(f\"Number of samples with {req} classified as satisfied: {len(anchors_negatives)}.\\\n",
    "#      \\nIf this number is {len(idx)} it means that the anchor function classifies correctly the samples classified true by the model.\\\n",
    "#      \\nIn this case it is {len(idx) == len(anchors_negatives)}\")"
   ]
  },
  {
   "cell_type": "code",
   "execution_count": 89,
   "id": "ad703b2e",
   "metadata": {},
   "outputs": [],
   "source": [
    "##obtain the samples\n",
    "#samples = val_set[:, 0:feature_number]\n",
    "#\n",
    "#for r, req in enumerate(req_names):\n",
    "#    print(f\"___________Requirement {req}___________\")\n",
    "#    \n",
    "#    #classify the samples with the model\n",
    "#    tmp_output = models[r].predict(samples)\n",
    "#    if(r == 0):\n",
    "#        output = tmp_output\n",
    "#    else:\n",
    "#        output *= tmp_output\n",
    "#\n",
    "##classify the positive samples with the anchor function\n",
    "#pos_anch_classif = classify_w_anchor(samples, explanations, feature_names)\n",
    "#\n",
    "##classify the negative samples with the anchor function\n",
    "#neg_anch_classif = classify_w_anchor(samples, neg_explanations, feature_names)\n",
    "#\n",
    "#final_anch = pos_anch_classif * neg_anch_classif\n",
    "#\n",
    "##obtain the indices of the samples that are classified as true by the model\n",
    "#models_positives = np.where(output != 0)[0]\n",
    "#    \n",
    "##obtain the indices of the samples that are classified as true by anchors\n",
    "#anchors_positives = np.where(final_anch != 0)[0]\n",
    "#\n",
    "##obtain the samples classified correctly by anchors w.r.t. the model\n",
    "#correctly_classified = np.intersect1d(models_positives, anchors_positives)\n",
    "#\n",
    "#print(f\"Number of samples with all reqs classified as satisfied by the model: {len(models_positives)}\")\n",
    "#print(f\"Number of samples with all reqs classified as satisfied by the anchor function: {len(anchors_positives)}\")\n",
    "#print(f\"Number of samples with all reqs classified as satisfied by the model and the anchor function: {len(correctly_classified)}\")\n",
    "#print(\"\\n\")\n",
    "#print(f\"Number of samples with all reqs classified as satisfied: {len(anchors_positives)}.\\\n",
    "#        \\nIf this number is {len(models_positives)} it means that the anchor function classifies correctly the samples classified true by the model.\\\n",
    "#        \\nIn this case it is {len(models_positives) == len(anchors_positives)}\")\n",
    "#\n",
    "##calculate the false positives\n",
    "#f_p = anchors_positives.shape[0] - correctly_classified.shape[0]\n",
    "#print(f\"Number of false positives: {f_p}, ratio (over anchor_positives): {f_p/anchors_positives.shape[0]}\")\n",
    "#\n",
    "##calculate the missclassified real positive\n",
    "#m_r_p = models_positives.shape[0] - correctly_classified.shape[0]\n",
    "#print(f\"Number of missclassified real positives: {m_r_p}, ratio (over model_positives): {m_r_p/models_positives.shape[0]}\")\n",
    "#print(\"\\n\")"
   ]
  },
  {
   "cell_type": "markdown",
   "id": "8c5adf81",
   "metadata": {},
   "source": [
    "## Coverage over the non controllable features"
   ]
  },
  {
   "cell_type": "code",
   "execution_count": 90,
   "id": "54455680",
   "metadata": {},
   "outputs": [],
   "source": [
    "from anchors_predictor import AnchorsPredictor\n",
    "\n",
    "# Create the AnchorsPredictor object\n",
    "predictor = AnchorsPredictor(anchors=explanations)\n",
    "\n",
    "feature_names_NC = feature_names[3:7]\n",
    "coverage = predictor.coverage(explanations, feature_names_NC)"
   ]
  },
  {
   "cell_type": "code",
   "execution_count": 91,
   "id": "4be02a80",
   "metadata": {},
   "outputs": [
    {
     "name": "stdout",
     "output_type": "stream",
     "text": [
      "Coverage of the anchor function: 41.81%\n"
     ]
    }
   ],
   "source": [
    "print(f\"Coverage of the anchor function: {coverage*100:.2f}%\")"
   ]
  },
  {
   "cell_type": "code",
   "execution_count": 92,
   "metadata": {},
   "outputs": [
    {
     "data": {
      "text/plain": [
       "array([0., 1., 0., 0., 0., 1., 0., 0., 0., 0., 0., 0., 1., 0., 1., 0., 0.,\n",
       "       0., 0., 1., 1., 0., 0., 0., 0., 1., 0., 1., 0., 0., 1., 0., 0., 0.,\n",
       "       1., 0., 1., 0., 0., 0., 0., 0., 0., 0., 0., 0., 1., 0., 0., 0., 1.,\n",
       "       0., 0., 0., 1., 0., 0., 0., 0., 0., 0., 0., 0., 1., 0., 0., 0., 0.,\n",
       "       0., 0., 0., 0., 0., 1., 0., 0., 0., 0., 1., 0., 0., 0., 0., 0., 0.,\n",
       "       0., 0., 0., 1., 0., 0., 0., 0., 0., 0., 0., 0., 0., 0., 0., 1., 0.,\n",
       "       0., 0., 0., 0., 1., 1., 1., 0., 1., 0., 0., 1., 1., 0., 0., 0., 0.,\n",
       "       1., 0., 0., 1., 0., 1., 0., 1., 0., 0., 0., 0., 0., 0., 0., 0., 0.,\n",
       "       0., 0., 1., 0., 0., 1., 0., 0., 0., 0., 1., 0., 0., 0., 0., 0., 0.,\n",
       "       1., 0., 0., 0., 0., 0., 0., 0., 1., 0., 0., 0., 0., 1., 0., 1., 0.,\n",
       "       0., 0., 0., 0., 0., 0., 0., 0., 0., 0., 1., 0., 0., 0., 0., 0., 0.,\n",
       "       0., 0., 0., 0., 0., 0., 0., 0., 0., 0., 0., 0., 0., 0., 0., 0., 0.,\n",
       "       0., 1., 1., 0., 1., 0., 0., 0., 0., 0., 0., 0., 0., 0., 1., 1., 0.,\n",
       "       1., 1., 0., 0., 0., 0., 0., 0., 0., 0., 0., 0., 0., 0., 0., 1., 0.,\n",
       "       1., 0., 1., 0., 0., 0., 0., 0., 1., 0., 1., 0., 0., 0., 0., 0., 0.,\n",
       "       0., 0., 1., 1., 0., 0., 1., 0., 0., 0., 0., 0., 0., 0., 0., 0., 1.,\n",
       "       0., 0., 0., 0., 0., 0., 0., 0., 0., 0., 1., 0., 0., 0., 0., 0., 1.,\n",
       "       1., 1., 1., 0., 1., 1., 0., 1., 0., 0., 0., 0., 0., 1., 0., 0., 0.,\n",
       "       0., 0., 0., 0., 0., 0., 0., 0., 0., 0., 0., 1., 0., 0., 0., 1., 0.,\n",
       "       0., 0., 0., 0., 0., 0., 1., 0., 0., 0., 0., 1., 0., 0., 0., 0., 0.,\n",
       "       0., 0., 1., 0., 0., 0., 1., 0., 0., 0., 1., 0., 0., 1., 0., 0., 0.,\n",
       "       0., 0., 0., 0., 0., 0., 0., 1., 0., 0., 1., 0., 0., 0., 1., 0., 0.,\n",
       "       1., 0., 0., 0., 1., 0., 1., 0., 0., 0., 0., 0., 0., 0., 0., 0., 0.,\n",
       "       0., 0., 0., 1., 0., 0., 0., 0., 0., 0., 1., 0., 0., 0., 1., 0., 0.,\n",
       "       0., 0., 0., 0., 0., 0., 0., 1., 0., 0., 0., 0., 0., 0., 0., 1., 0.,\n",
       "       0., 1., 0., 0., 0., 0., 0., 1., 0., 0., 0., 0., 0., 0., 0., 0., 0.,\n",
       "       0., 0., 1., 0., 0., 1., 0., 0., 0., 1., 0., 0., 0., 0., 1., 0., 0.,\n",
       "       0., 0., 0., 0., 0., 1., 0., 0., 0., 0., 0., 0., 1., 0., 0., 0., 1.,\n",
       "       0., 0., 1., 0., 0., 1., 0., 1., 0., 0., 0., 1., 0., 0., 0., 0., 0.,\n",
       "       1., 0., 0., 0., 0., 0., 0., 0., 0., 0., 0., 0., 0., 0., 0., 1., 0.,\n",
       "       0., 0., 0., 0., 0., 1., 1., 0., 1., 0., 0., 0., 0., 1., 0., 0., 0.,\n",
       "       0., 0., 0., 0., 0., 0., 0., 0., 0., 0., 0., 1., 0., 0., 0., 1., 0.,\n",
       "       1., 1., 0., 0., 0., 0., 0., 0., 0., 0., 0., 0., 0., 1., 0., 0., 0.,\n",
       "       0., 0., 0., 0., 0., 0., 1., 0., 0., 0., 0., 1., 0., 1., 0., 0., 0.,\n",
       "       1., 1., 0., 0., 1., 0., 0., 1., 0., 0., 1., 0., 0., 0., 0., 0., 0.,\n",
       "       1., 0., 1., 0., 0., 0., 0., 1., 0., 0., 0., 0., 1., 0., 0., 0., 0.,\n",
       "       0., 0., 1., 0., 0., 1., 1., 0., 0., 0., 0., 0., 0., 1., 0., 0., 1.,\n",
       "       0., 1., 1., 0., 1., 0., 1., 0., 0., 0., 0., 0., 0., 0., 0., 1., 1.,\n",
       "       0., 1., 0., 0., 0., 0., 0., 0., 0., 0., 0., 1., 0., 0., 0., 1., 1.,\n",
       "       0., 0., 0., 0., 0., 0., 0., 0., 0., 0., 0., 1., 0., 0., 0., 1., 0.,\n",
       "       0., 0., 1., 1., 0., 0., 1., 0., 0., 0., 1., 0., 0., 1., 0., 0., 0.,\n",
       "       0., 0., 0., 1., 0., 1., 0., 0., 1., 0., 1., 1., 1., 1., 0., 0., 0.,\n",
       "       0., 1., 0., 1., 0., 0., 0., 0., 0., 0., 0., 1., 1., 0., 1., 0., 0.,\n",
       "       1., 0., 0., 0., 0., 0., 0., 0., 0., 1., 0., 0., 0., 0., 0., 1., 0.,\n",
       "       0., 0., 0., 0., 0., 0., 0., 1., 0., 0., 0., 1., 0., 1., 0., 1., 0.,\n",
       "       0., 0., 1., 0., 0., 0., 0., 0., 0., 0., 0., 0., 0., 0., 0., 0., 0.,\n",
       "       1., 1., 0., 0., 1., 0., 0., 0., 0., 0., 1., 0., 0., 1., 0., 0., 0.,\n",
       "       0., 0., 0., 0., 0., 0., 0., 0., 0., 0., 0., 0., 0., 0., 0., 0., 0.,\n",
       "       0., 0., 0., 0., 1., 0., 0., 0., 1., 0., 0., 0., 0., 0., 0., 0., 1.,\n",
       "       0., 0., 0., 0., 0., 0., 0., 0., 0., 0., 0., 0., 0., 0., 0., 1., 1.,\n",
       "       1., 0., 1., 1., 1., 0., 0., 0., 0., 0., 0., 0., 0., 0., 0., 0., 1.,\n",
       "       0., 0., 0., 0., 0., 0., 0., 0., 0., 1., 0., 0., 0., 0., 0., 0., 1.,\n",
       "       1., 0., 0., 0., 1., 1., 1., 0., 0., 0., 0., 0., 1., 0., 0., 0., 0.,\n",
       "       1., 1., 0., 0., 0., 1., 0., 1., 0., 1., 0., 0., 0., 1., 0., 0., 0.,\n",
       "       0., 0., 0., 0., 1., 0., 0., 0., 0., 0., 0., 0., 0., 0., 0., 1., 1.,\n",
       "       0., 0., 0., 0., 1., 1., 0., 0., 1., 0., 1., 0., 1., 1., 0., 0., 0.,\n",
       "       1., 0., 1., 0., 0., 0., 0., 0., 0., 0., 0., 0., 0., 0., 1., 0., 0.,\n",
       "       0., 0., 0., 1., 0., 1., 0., 0., 0., 0., 0., 0., 0., 0., 0., 0., 0.,\n",
       "       1., 0., 0., 1., 0., 0., 0., 0., 0., 0., 0., 0., 0., 1.])"
      ]
     },
     "execution_count": 92,
     "metadata": {},
     "output_type": "execute_result"
    }
   ],
   "source": [
    "predictor.classify(samples, explanations, feature_names_NC)"
   ]
  },
  {
   "cell_type": "markdown",
   "metadata": {},
   "source": [
    "## Augment data"
   ]
  },
  {
   "cell_type": "code",
   "execution_count": 93,
   "metadata": {},
   "outputs": [],
   "source": [
    "idx = positively_classified\n",
    "\n",
    "samples = datasets[0].train[idx]\n"
   ]
  },
  {
   "cell_type": "code",
   "execution_count": 94,
   "metadata": {},
   "outputs": [
    {
     "name": "stdout",
     "output_type": "stream",
     "text": [
      "4263\n",
      "___________Requirement req_0___________\n",
      "___________Requirement req_1___________\n",
      "___________Requirement req_2___________\n",
      "___________Requirement req_3___________\n",
      "positive_merged_points: (2338, 9)\n",
      "p_sample: [20.0201 82.9284 79.6514 90.5009 20.     20.     20.     20.      1.    ]\n",
      "p_sample: [ 8.8596 89.0535 79.1326 89.8247 20.     20.     20.     20.      1.    ]\n",
      "p_sample: [ 0.2506 76.5083 92.9881 39.1324 20.     20.     20.     20.      1.    ]\n",
      "p_sample: [18.2964 89.6387 81.6923 96.2027 20.     20.     20.     20.      1.    ]\n",
      "p_sample: [71.9996 99.8804 68.7445 55.082  20.     20.     20.     20.      1.    ]\n",
      "p_sample: [27.5392 98.4133 76.1458 97.6327 20.     20.     20.     20.      1.    ]\n",
      "p_sample: [25.1575 96.1266 85.6746 90.7216 20.     20.     20.     20.      1.    ]\n",
      "p_sample: [22.9534 97.4496 98.9064 70.6659 20.     20.     20.     20.      1.    ]\n",
      "p_sample: [16.1259 99.746  77.9488 67.2042 20.     20.     20.     20.      1.    ]\n",
      "p_sample: [ 4.3656 86.2519 64.84   92.4682 20.     20.     20.     20.      1.    ]\n"
     ]
    },
    {
     "ename": "KeyboardInterrupt",
     "evalue": "",
     "output_type": "error",
     "traceback": [
      "\u001b[0;31m---------------------------------------------------------------------------\u001b[0m",
      "\u001b[0;31mKeyboardInterrupt\u001b[0m                         Traceback (most recent call last)",
      "Cell \u001b[0;32mIn[94], line 1\u001b[0m\n\u001b[0;32m----> 1\u001b[0m explanations_aug \u001b[38;5;241m=\u001b[39m \u001b[43mpredictor\u001b[49m\u001b[38;5;241;43m.\u001b[39;49m\u001b[43maugment_coverage\u001b[49m\u001b[43m(\u001b[49m\u001b[43mdatasets\u001b[49m\u001b[43m,\u001b[49m\u001b[43m \u001b[49m\u001b[43mexplanations\u001b[49m\u001b[43m,\u001b[49m\u001b[43m \u001b[49m\u001b[43mfeature_names_NC\u001b[49m\u001b[43m,\u001b[49m\u001b[43m \u001b[49m\u001b[43mnp\u001b[49m\u001b[38;5;241;43m.\u001b[39;49m\u001b[43mzeros\u001b[49m\u001b[43m(\u001b[49m\u001b[38;5;28;43mlen\u001b[39;49m\u001b[43m(\u001b[49m\u001b[43mfeature_names_NC\u001b[49m\u001b[43m)\u001b[49m\u001b[43m)\u001b[49m\u001b[43m,\u001b[49m\u001b[43m \u001b[49m\u001b[43mnp\u001b[49m\u001b[38;5;241;43m.\u001b[39;49m\u001b[43marray\u001b[49m\u001b[43m(\u001b[49m\u001b[43m[\u001b[49m\u001b[38;5;241;43m100\u001b[39;49m\u001b[43m \u001b[49m\u001b[38;5;28;43;01mfor\u001b[39;49;00m\u001b[43m \u001b[49m\u001b[43m_\u001b[49m\u001b[43m \u001b[49m\u001b[38;5;129;43;01min\u001b[39;49;00m\u001b[43m \u001b[49m\u001b[38;5;28;43mrange\u001b[39;49m\u001b[43m(\u001b[49m\u001b[38;5;28;43mlen\u001b[39;49m\u001b[43m(\u001b[49m\u001b[43mfeature_names_NC\u001b[49m\u001b[43m)\u001b[49m\u001b[43m)\u001b[49m\u001b[43m]\u001b[49m\u001b[43m)\u001b[49m\u001b[43m,\u001b[49m\u001b[43m \u001b[49m\u001b[43mmodels\u001b[49m\u001b[43m,\u001b[49m\u001b[43m \u001b[49m\u001b[43msamples\u001b[49m\u001b[43m,\u001b[49m\u001b[43m \u001b[49m\u001b[43mreq_names\u001b[49m\u001b[43m,\u001b[49m\u001b[43m \u001b[49m\u001b[43mexplainer\u001b[49m\u001b[43m,\u001b[49m\u001b[43m \u001b[49m\u001b[43mreq_number\u001b[49m\u001b[43m)\u001b[49m\n\u001b[1;32m      2\u001b[0m \u001b[38;5;28mprint\u001b[39m(\u001b[38;5;124mf\u001b[39m\u001b[38;5;124m\"\u001b[39m\u001b[38;5;124mCoverage of the anchor function after augmentation: \u001b[39m\u001b[38;5;132;01m{\u001b[39;00mpredictor\u001b[38;5;241m.\u001b[39mcoverage(explanations_aug,\u001b[38;5;250m \u001b[39mfeature_names_NC)\u001b[38;5;250m \u001b[39m\u001b[38;5;241m*\u001b[39m\u001b[38;5;250m \u001b[39m\u001b[38;5;241m100\u001b[39m\u001b[38;5;132;01m:\u001b[39;00m\u001b[38;5;124m.2f\u001b[39m\u001b[38;5;132;01m}\u001b[39;00m\u001b[38;5;124m%\u001b[39m\u001b[38;5;124m\"\u001b[39m)\n",
      "File \u001b[0;32m/mnt/c/Users/HP/Desktop/RP1.4/XDA1.4/anchors/anchors_predictor.py:326\u001b[0m, in \u001b[0;36mAnchorsPredictor.augment_coverage\u001b[0;34m(self, datasets, explanation, feature_names, min_vals, max_vals, models, positive_samples, req_names, explainers, req_number, min_idx_cf, max_idx_cf, delta, STEP, threshold)\u001b[0m\n\u001b[1;32m    324\u001b[0m grid_points \u001b[38;5;241m=\u001b[39m \u001b[38;5;28mself\u001b[39m\u001b[38;5;241m.\u001b[39m__grid_points_in_RN(explanation, feature_names, delta, STEP, min_vals, max_vals)\n\u001b[1;32m    325\u001b[0m model_positives \u001b[38;5;241m=\u001b[39m \u001b[38;5;28mself\u001b[39m\u001b[38;5;241m.\u001b[39m__evaluate_grid_points(grid_points, models, positive_samples, req_names, min_idx_cf, max_idx_cf)\n\u001b[0;32m--> 326\u001b[0m explanation \u001b[38;5;241m=\u001b[39m \u001b[38;5;28;43mself\u001b[39;49m\u001b[38;5;241;43m.\u001b[39;49m\u001b[43m__create_new_anchors\u001b[49m\u001b[43m(\u001b[49m\u001b[43mdatasets\u001b[49m\u001b[43m,\u001b[49m\u001b[43m \u001b[49m\u001b[43mexplainers\u001b[49m\u001b[43m,\u001b[49m\u001b[43m \u001b[49m\u001b[43mmodel_positives\u001b[49m\u001b[43m,\u001b[49m\u001b[43m \u001b[49m\u001b[43mmodels\u001b[49m\u001b[43m,\u001b[49m\u001b[43m \u001b[49m\u001b[43mreq_number\u001b[49m\u001b[43m,\u001b[49m\u001b[43m \u001b[49m\u001b[43mexplanation\u001b[49m\u001b[43m)\u001b[49m\n\u001b[1;32m    327\u001b[0m coverage \u001b[38;5;241m=\u001b[39m \u001b[38;5;28mself\u001b[39m\u001b[38;5;241m.\u001b[39mcoverage(explanation, feature_names)\n\u001b[1;32m    328\u001b[0m STEP \u001b[38;5;241m+\u001b[39m\u001b[38;5;241m=\u001b[39m STEP\n",
      "File \u001b[0;32m/mnt/c/Users/HP/Desktop/RP1.4/XDA1.4/anchors/anchors_predictor.py:305\u001b[0m, in \u001b[0;36mAnchorsPredictor.__create_new_anchors\u001b[0;34m(self, datasets, explainers, models_positives, models, req_number, explanations)\u001b[0m\n\u001b[1;32m    300\u001b[0m \u001b[38;5;28mprint\u001b[39m(\u001b[38;5;124m\"\u001b[39m\u001b[38;5;124mp_sample:\u001b[39m\u001b[38;5;124m\"\u001b[39m, p_sample)\n\u001b[1;32m    301\u001b[0m \u001b[38;5;28;01mfor\u001b[39;00m i \u001b[38;5;129;01min\u001b[39;00m \u001b[38;5;28mrange\u001b[39m(req_number):\n\u001b[1;32m    302\u001b[0m     \u001b[38;5;66;03m#get the sample\u001b[39;00m\n\u001b[1;32m    303\u001b[0m     \u001b[38;5;66;03m#sample = datasets[i].train[p_sample]\u001b[39;00m\n\u001b[1;32m    304\u001b[0m     \u001b[38;5;66;03m#explain the sample\u001b[39;00m\n\u001b[0;32m--> 305\u001b[0m     exp \u001b[38;5;241m=\u001b[39m \u001b[43mexplainers\u001b[49m\u001b[43m[\u001b[49m\u001b[43mi\u001b[49m\u001b[43m]\u001b[49m\u001b[38;5;241;43m.\u001b[39;49m\u001b[43mexplain_instance\u001b[49m\u001b[43m(\u001b[49m\u001b[43mnp\u001b[49m\u001b[38;5;241;43m.\u001b[39;49m\u001b[43marray\u001b[49m\u001b[43m(\u001b[49m\u001b[43mp_sample\u001b[49m\u001b[43m)\u001b[49m\u001b[43m,\u001b[49m\u001b[43m \u001b[49m\u001b[43mmodels\u001b[49m\u001b[43m[\u001b[49m\u001b[43mi\u001b[49m\u001b[43m]\u001b[49m\u001b[38;5;241;43m.\u001b[39;49m\u001b[43mpredict\u001b[49m\u001b[43m,\u001b[49m\u001b[43m \u001b[49m\u001b[43mthreshold\u001b[49m\u001b[38;5;241;43m=\u001b[39;49m\u001b[38;5;241;43m0.95\u001b[39;49m\u001b[43m)\u001b[49m\n\u001b[1;32m    306\u001b[0m     \u001b[38;5;66;03m#get the textual explanation\u001b[39;00m\n\u001b[1;32m    307\u001b[0m     exp \u001b[38;5;241m=\u001b[39m exp\u001b[38;5;241m.\u001b[39mnames()\n",
      "File \u001b[0;32m/mnt/c/Users/HP/Desktop/RP1.4/XDA1.4/venv/lib/python3.11/site-packages/anchor/anchor_tabular.py:278\u001b[0m, in \u001b[0;36mAnchorTabularExplainer.explain_instance\u001b[0;34m(self, data_row, classifier_fn, threshold, delta, tau, batch_size, max_anchor_size, desired_label, beam_size, **kwargs)\u001b[0m\n\u001b[1;32m    275\u001b[0m sample_fn, mapping \u001b[38;5;241m=\u001b[39m \u001b[38;5;28mself\u001b[39m\u001b[38;5;241m.\u001b[39mget_sample_fn(\n\u001b[1;32m    276\u001b[0m     data_row, classifier_fn, desired_label\u001b[38;5;241m=\u001b[39mdesired_label)\n\u001b[1;32m    277\u001b[0m \u001b[38;5;66;03m# return sample_fn, mapping\u001b[39;00m\n\u001b[0;32m--> 278\u001b[0m exp \u001b[38;5;241m=\u001b[39m \u001b[43manchor_base\u001b[49m\u001b[38;5;241;43m.\u001b[39;49m\u001b[43mAnchorBaseBeam\u001b[49m\u001b[38;5;241;43m.\u001b[39;49m\u001b[43manchor_beam\u001b[49m\u001b[43m(\u001b[49m\n\u001b[1;32m    279\u001b[0m \u001b[43m    \u001b[49m\u001b[43msample_fn\u001b[49m\u001b[43m,\u001b[49m\u001b[43m \u001b[49m\u001b[43mdelta\u001b[49m\u001b[38;5;241;43m=\u001b[39;49m\u001b[43mdelta\u001b[49m\u001b[43m,\u001b[49m\u001b[43m \u001b[49m\u001b[43mepsilon\u001b[49m\u001b[38;5;241;43m=\u001b[39;49m\u001b[43mtau\u001b[49m\u001b[43m,\u001b[49m\u001b[43m \u001b[49m\u001b[43mbatch_size\u001b[49m\u001b[38;5;241;43m=\u001b[39;49m\u001b[43mbatch_size\u001b[49m\u001b[43m,\u001b[49m\n\u001b[1;32m    280\u001b[0m \u001b[43m    \u001b[49m\u001b[43mdesired_confidence\u001b[49m\u001b[38;5;241;43m=\u001b[39;49m\u001b[43mthreshold\u001b[49m\u001b[43m,\u001b[49m\u001b[43m \u001b[49m\u001b[43mmax_anchor_size\u001b[49m\u001b[38;5;241;43m=\u001b[39;49m\u001b[43mmax_anchor_size\u001b[49m\u001b[43m,\u001b[49m\n\u001b[1;32m    281\u001b[0m \u001b[43m    \u001b[49m\u001b[38;5;241;43m*\u001b[39;49m\u001b[38;5;241;43m*\u001b[39;49m\u001b[43mkwargs\u001b[49m\u001b[43m)\u001b[49m\n\u001b[1;32m    282\u001b[0m \u001b[38;5;28mself\u001b[39m\u001b[38;5;241m.\u001b[39madd_names_to_exp(data_row, exp, mapping)\n\u001b[1;32m    283\u001b[0m exp[\u001b[38;5;124m'\u001b[39m\u001b[38;5;124minstance\u001b[39m\u001b[38;5;124m'\u001b[39m] \u001b[38;5;241m=\u001b[39m data_row\n",
      "File \u001b[0;32m/mnt/c/Users/HP/Desktop/RP1.4/XDA1.4/venv/lib/python3.11/site-packages/anchor/anchor_base.py:314\u001b[0m, in \u001b[0;36mAnchorBaseBeam.anchor_beam\u001b[0;34m(sample_fn, delta, epsilon, batch_size, min_shared_samples, desired_confidence, beam_size, verbose, epsilon_stop, min_samples_start, max_anchor_size, verbose_every, stop_on_first, coverage_samples)\u001b[0m\n\u001b[1;32m    311\u001b[0m initial_stats \u001b[38;5;241m=\u001b[39m AnchorBaseBeam\u001b[38;5;241m.\u001b[39mget_initial_statistics(tuples,\n\u001b[1;32m    312\u001b[0m                                                       state)\n\u001b[1;32m    313\u001b[0m \u001b[38;5;66;03m# print tuples, beam_size\u001b[39;00m\n\u001b[0;32m--> 314\u001b[0m chosen_tuples \u001b[38;5;241m=\u001b[39m \u001b[43mAnchorBaseBeam\u001b[49m\u001b[38;5;241;43m.\u001b[39;49m\u001b[43mlucb\u001b[49m\u001b[43m(\u001b[49m\n\u001b[1;32m    315\u001b[0m \u001b[43m    \u001b[49m\u001b[43msample_fns\u001b[49m\u001b[43m,\u001b[49m\u001b[43m \u001b[49m\u001b[43minitial_stats\u001b[49m\u001b[43m,\u001b[49m\u001b[43m \u001b[49m\u001b[43mepsilon\u001b[49m\u001b[43m,\u001b[49m\u001b[43m \u001b[49m\u001b[43mdelta\u001b[49m\u001b[43m,\u001b[49m\u001b[43m \u001b[49m\u001b[43mbatch_size\u001b[49m\u001b[43m,\u001b[49m\n\u001b[1;32m    316\u001b[0m \u001b[43m    \u001b[49m\u001b[38;5;28;43mmin\u001b[39;49m\u001b[43m(\u001b[49m\u001b[43mbeam_size\u001b[49m\u001b[43m,\u001b[49m\u001b[43m \u001b[49m\u001b[38;5;28;43mlen\u001b[39;49m\u001b[43m(\u001b[49m\u001b[43mtuples\u001b[49m\u001b[43m)\u001b[49m\u001b[43m)\u001b[49m\u001b[43m,\u001b[49m\n\u001b[1;32m    317\u001b[0m \u001b[43m    \u001b[49m\u001b[43mverbose\u001b[49m\u001b[38;5;241;43m=\u001b[39;49m\u001b[43mverbose\u001b[49m\u001b[43m,\u001b[49m\u001b[43m \u001b[49m\u001b[43mverbose_every\u001b[49m\u001b[38;5;241;43m=\u001b[39;49m\u001b[43mverbose_every\u001b[49m\u001b[43m)\u001b[49m\n\u001b[1;32m    318\u001b[0m best_of_size[current_size] \u001b[38;5;241m=\u001b[39m [tuples[x] \u001b[38;5;28;01mfor\u001b[39;00m x \u001b[38;5;129;01min\u001b[39;00m chosen_tuples]\n\u001b[1;32m    319\u001b[0m \u001b[38;5;28;01mif\u001b[39;00m verbose:\n",
      "File \u001b[0;32m/mnt/c/Users/HP/Desktop/RP1.4/XDA1.4/venv/lib/python3.11/site-packages/anchor/anchor_base.py:110\u001b[0m, in \u001b[0;36mAnchorBaseBeam.lucb\u001b[0;34m(sample_fns, initial_stats, epsilon, delta, batch_size, top_n, verbose, verbose_every)\u001b[0m\n\u001b[1;32m    108\u001b[0m     means[lt] \u001b[38;5;241m=\u001b[39m positives[lt] \u001b[38;5;241m/\u001b[39m n_samples[lt]\n\u001b[1;32m    109\u001b[0m     t \u001b[38;5;241m+\u001b[39m\u001b[38;5;241m=\u001b[39m \u001b[38;5;241m1\u001b[39m\n\u001b[0;32m--> 110\u001b[0m     ut, lt \u001b[38;5;241m=\u001b[39m \u001b[43mupdate_bounds\u001b[49m\u001b[43m(\u001b[49m\u001b[43mt\u001b[49m\u001b[43m)\u001b[49m\n\u001b[1;32m    111\u001b[0m     B \u001b[38;5;241m=\u001b[39m ub[ut] \u001b[38;5;241m-\u001b[39m lb[lt]\n\u001b[1;32m    112\u001b[0m sorted_means \u001b[38;5;241m=\u001b[39m np\u001b[38;5;241m.\u001b[39margsort(means)\n",
      "File \u001b[0;32m/mnt/c/Users/HP/Desktop/RP1.4/XDA1.4/venv/lib/python3.11/site-packages/anchor/anchor_base.py:78\u001b[0m, in \u001b[0;36mAnchorBaseBeam.lucb.<locals>.update_bounds\u001b[0;34m(t)\u001b[0m\n\u001b[1;32m     75\u001b[0m means \u001b[38;5;241m=\u001b[39m positives \u001b[38;5;241m/\u001b[39m n_samples\n\u001b[1;32m     76\u001b[0m t \u001b[38;5;241m=\u001b[39m \u001b[38;5;241m1\u001b[39m\n\u001b[0;32m---> 78\u001b[0m \u001b[38;5;28;01mdef\u001b[39;00m\u001b[38;5;250m \u001b[39m\u001b[38;5;21mupdate_bounds\u001b[39m(t):\n\u001b[1;32m     79\u001b[0m     sorted_means \u001b[38;5;241m=\u001b[39m np\u001b[38;5;241m.\u001b[39margsort(means)\n\u001b[1;32m     80\u001b[0m     beta \u001b[38;5;241m=\u001b[39m AnchorBaseBeam\u001b[38;5;241m.\u001b[39mcompute_beta(n_features, t, delta)\n",
      "\u001b[0;31mKeyboardInterrupt\u001b[0m: "
     ]
    }
   ],
   "source": [
    "explanations_aug = predictor.augment_coverage(datasets, explanations, feature_names_NC, np.zeros(len(feature_names_NC)), np.array([100 for _ in range(len(feature_names_NC))]), models, samples, req_names, explainer, req_number)\n",
    "print(f\"Coverage of the anchor function after augmentation: {predictor.coverage(explanations_aug, feature_names_NC) * 100:.2f}%\")"
   ]
  },
  {
   "cell_type": "code",
   "execution_count": null,
   "id": "186f7774",
   "metadata": {},
   "outputs": [
    {
     "name": "stdout",
     "output_type": "stream",
     "text": [
      "0.41810389785521224\n"
     ]
    }
   ],
   "source": [
    "print(predictor.coverage(explanations, feature_names_NC))"
   ]
  },
  {
   "cell_type": "markdown",
   "id": "76565186",
   "metadata": {},
   "source": [
    "# Evaluate sample"
   ]
  },
  {
   "cell_type": "code",
   "execution_count": 95,
   "id": "41d0cc2c",
   "metadata": {},
   "outputs": [
    {
     "name": "stdout",
     "output_type": "stream",
     "text": [
      "{'firm obstacle': (1.0, 1.0, True, True), 'image resolution': (75.24, inf, False, False), 'cruise speed': (-inf, 25.21, False, True), 'illuminance': (75.91, inf, False, False), 'smoke intensity': (-inf, 48.87, False, True), 'obstacle size': (50.25, inf, False, False), 'controls responsiveness': (50.29, inf, False, False), 'power': (25.0, inf, False, False), 'obstacle distance': (25.34, 74.78, False, True)}\n"
     ]
    }
   ],
   "source": [
    "print(explanations[10])"
   ]
  },
  {
   "cell_type": "code",
   "execution_count": 96,
   "id": "3c3fc443",
   "metadata": {},
   "outputs": [
    {
     "name": "stdout",
     "output_type": "stream",
     "text": [
      "['cruise speed', 'image resolution', 'illuminance', 'controls responsiveness', 'power', 'smoke intensity', 'obstacle size', 'obstacle distance', 'firm obstacle']\n",
      "[ 10 900  90  70  50  30  70  50   1]\n"
     ]
    }
   ],
   "source": [
    "sample = np.array([10, 80,50,35, 20,10,12,92,1])\n",
    "print(feature_names)\n",
    "sample_inside_10 = np.array([10,900,90,70,50,30,70,50,1])\n",
    "print(sample_inside_10)"
   ]
  },
  {
   "cell_type": "code",
   "execution_count": 100,
   "id": "72d64783",
   "metadata": {},
   "outputs": [
    {
     "name": "stdout",
     "output_type": "stream",
     "text": [
      "Sample:  [ 10 900  90  70  50  30  70  50   1]\n",
      "x:  [ 10 900  90  70  50  30  70  50   1]\n",
      "explanations_table:  24\n",
      "i:  0\n",
      "a:  0\n",
      "b:  25.21\n",
      "x[j]:  10\n",
      "a:  75.24\n",
      "b:  100\n",
      "x[j]:  900\n",
      "contr_f_dist[i]:  640000.0\n",
      "a:  75.91\n",
      "b:  100\n",
      "x[j]:  90\n",
      "min_dist_controllable:  640000.0\n",
      "min_dist_index_controllable:  0\n",
      "finito controllable features\n",
      "contr_f_dist:  [640000.      0.      0.      0.      0.      0.      0.      0.      0.\n",
      "      0.      0.      0.      0.      0.      0.      0.      0.      0.\n",
      "      0.      0.      0.      0.      0.      0.]\n",
      "f_name controls responsiveness {'firm obstacle': (1.0, 1.0, True, True), 'smoke intensity': (-inf, 23.42, False, True), 'illuminance': (75.91, inf, False, False), 'cruise speed': (-inf, 25.21, False, True), 'image resolution': (75.24, inf, False, False), 'obstacle size': (26.74, 50.25, False, True), 'power': (51.0, inf, False, False), 'controls responsiveness': (73.9, inf, False, False), 'obstacle distance': (25.34, 49.94, False, True)}\n",
      "a obs:  73.9\n",
      "b obs:  100\n",
      "x[j] obs:  10\n",
      "obs_f_dist[i]:  4083.210000000001\n",
      "f_name power {'firm obstacle': (1.0, 1.0, True, True), 'smoke intensity': (-inf, 23.42, False, True), 'illuminance': (75.91, inf, False, False), 'cruise speed': (-inf, 25.21, False, True), 'image resolution': (75.24, inf, False, False), 'obstacle size': (26.74, 50.25, False, True), 'power': (51.0, inf, False, False), 'controls responsiveness': (73.9, inf, False, False), 'obstacle distance': (25.34, 49.94, False, True)}\n",
      "a obs:  51.0\n",
      "b obs:  100\n",
      "x[j] obs:  900\n",
      "obs_f_dist[i]:  644083.21\n",
      "f_name smoke intensity {'firm obstacle': (1.0, 1.0, True, True), 'smoke intensity': (-inf, 23.42, False, True), 'illuminance': (75.91, inf, False, False), 'cruise speed': (-inf, 25.21, False, True), 'image resolution': (75.24, inf, False, False), 'obstacle size': (26.74, 50.25, False, True), 'power': (51.0, inf, False, False), 'controls responsiveness': (73.9, inf, False, False), 'obstacle distance': (25.34, 49.94, False, True)}\n",
      "a obs:  0\n",
      "b obs:  23.42\n",
      "x[j] obs:  90\n",
      "obs_f_dist[i]:  648516.1063999999\n",
      "f_name obstacle size {'firm obstacle': (1.0, 1.0, True, True), 'smoke intensity': (-inf, 23.42, False, True), 'illuminance': (75.91, inf, False, False), 'cruise speed': (-inf, 25.21, False, True), 'image resolution': (75.24, inf, False, False), 'obstacle size': (26.74, 50.25, False, True), 'power': (51.0, inf, False, False), 'controls responsiveness': (73.9, inf, False, False), 'obstacle distance': (25.34, 49.94, False, True)}\n",
      "a obs:  26.74\n",
      "b obs:  50.25\n",
      "x[j] obs:  70\n",
      "obs_f_dist[i]:  648906.1688999999\n",
      "min_dist_observable:  648906.1688999999\n",
      "min_dist_index_observable:  0\n",
      "finito observable features\n",
      "obs_f_dist:  [648906.1689      0.          0.          0.          0.          0.\n",
      "      0.          0.          0.          0.          0.          0.\n",
      "      0.          0.          0.          0.          0.          0.\n",
      "      0.          0.          0.          0.          0.          0.    ]\n",
      "i:  1\n",
      "a:  0\n",
      "b:  25.21\n",
      "x[j]:  10\n",
      "a:  75.24\n",
      "b:  100\n",
      "x[j]:  900\n",
      "contr_f_dist[i]:  640000.0\n",
      "distanza maggiore della minima controllable\n",
      "finito controllable features\n",
      "contr_f_dist:  [640000. 640000.      0.      0.      0.      0.      0.      0.      0.\n",
      "      0.      0.      0.      0.      0.      0.      0.      0.      0.\n",
      "      0.      0.      0.      0.      0.      0.]\n",
      "f_name controls responsiveness {'firm obstacle': (1.0, 1.0, True, True), 'image resolution': (75.24, inf, False, False), 'smoke intensity': (-inf, 48.87, False, True), 'cruise speed': (-inf, 25.21, False, True), 'illuminance': (75.91, inf, False, False), 'obstacle size': (74.61, inf, False, False), 'controls responsiveness': (73.9, inf, False, False), 'power': (25.0, 76.0, False, True), 'obstacle distance': (25.34, inf, False, False)}\n",
      "a obs:  73.9\n",
      "b obs:  100\n",
      "x[j] obs:  10\n",
      "obs_f_dist[i]:  4083.210000000001\n",
      "f_name power {'firm obstacle': (1.0, 1.0, True, True), 'image resolution': (75.24, inf, False, False), 'smoke intensity': (-inf, 48.87, False, True), 'cruise speed': (-inf, 25.21, False, True), 'illuminance': (75.91, inf, False, False), 'obstacle size': (74.61, inf, False, False), 'controls responsiveness': (73.9, inf, False, False), 'power': (25.0, 76.0, False, True), 'obstacle distance': (25.34, inf, False, False)}\n",
      "a obs:  25.0\n",
      "b obs:  76.0\n",
      "x[j] obs:  900\n",
      "obs_f_dist[i]:  683059.21\n",
      "distanza maggiore della minima observable\n",
      "finito observable features\n",
      "obs_f_dist:  [648906.1689 683059.21        0.          0.          0.          0.\n",
      "      0.          0.          0.          0.          0.          0.\n",
      "      0.          0.          0.          0.          0.          0.\n",
      "      0.          0.          0.          0.          0.          0.    ]\n",
      "i:  2\n",
      "a:  0\n",
      "b:  25.21\n",
      "x[j]:  10\n",
      "a:  75.24\n",
      "b:  100\n",
      "x[j]:  900\n",
      "contr_f_dist[i]:  640000.0\n",
      "distanza maggiore della minima controllable\n",
      "finito controllable features\n",
      "contr_f_dist:  [640000. 640000. 640000.      0.      0.      0.      0.      0.      0.\n",
      "      0.      0.      0.      0.      0.      0.      0.      0.      0.\n",
      "      0.      0.      0.      0.      0.      0.]\n",
      "f_name controls responsiveness {'firm obstacle': (1.0, 1.0, True, True), 'image resolution': (75.24, inf, False, False), 'illuminance': (75.91, inf, False, False), 'smoke intensity': (-inf, 23.42, False, True), 'cruise speed': (-inf, 25.21, False, True), 'obstacle size': (26.74, 50.25, False, True), 'obstacle distance': (-inf, 74.78, False, True), 'controls responsiveness': (26.39, inf, False, False), 'power': (76.0, inf, False, False)}\n",
      "a obs:  26.39\n",
      "b obs:  100\n",
      "x[j] obs:  10\n",
      "obs_f_dist[i]:  268.63210000000004\n",
      "f_name power {'firm obstacle': (1.0, 1.0, True, True), 'image resolution': (75.24, inf, False, False), 'illuminance': (75.91, inf, False, False), 'smoke intensity': (-inf, 23.42, False, True), 'cruise speed': (-inf, 25.21, False, True), 'obstacle size': (26.74, 50.25, False, True), 'obstacle distance': (-inf, 74.78, False, True), 'controls responsiveness': (26.39, inf, False, False), 'power': (76.0, inf, False, False)}\n",
      "a obs:  76.0\n",
      "b obs:  100\n",
      "x[j] obs:  900\n",
      "obs_f_dist[i]:  640268.6321\n",
      "f_name smoke intensity {'firm obstacle': (1.0, 1.0, True, True), 'image resolution': (75.24, inf, False, False), 'illuminance': (75.91, inf, False, False), 'smoke intensity': (-inf, 23.42, False, True), 'cruise speed': (-inf, 25.21, False, True), 'obstacle size': (26.74, 50.25, False, True), 'obstacle distance': (-inf, 74.78, False, True), 'controls responsiveness': (26.39, inf, False, False), 'power': (76.0, inf, False, False)}\n",
      "a obs:  0\n",
      "b obs:  23.42\n",
      "x[j] obs:  90\n",
      "obs_f_dist[i]:  644701.5285\n",
      "f_name obstacle size {'firm obstacle': (1.0, 1.0, True, True), 'image resolution': (75.24, inf, False, False), 'illuminance': (75.91, inf, False, False), 'smoke intensity': (-inf, 23.42, False, True), 'cruise speed': (-inf, 25.21, False, True), 'obstacle size': (26.74, 50.25, False, True), 'obstacle distance': (-inf, 74.78, False, True), 'controls responsiveness': (26.39, inf, False, False), 'power': (76.0, inf, False, False)}\n",
      "a obs:  26.74\n",
      "b obs:  50.25\n",
      "x[j] obs:  70\n",
      "obs_f_dist[i]:  645091.591\n",
      "min_dist_observable:  645091.591\n",
      "min_dist_index_observable:  2\n",
      "finito observable features\n",
      "obs_f_dist:  [648906.1689 683059.21   645091.591       0.          0.          0.\n",
      "      0.          0.          0.          0.          0.          0.\n",
      "      0.          0.          0.          0.          0.          0.\n",
      "      0.          0.          0.          0.          0.          0.    ]\n",
      "i:  3\n",
      "a:  0\n",
      "b:  50.17\n",
      "x[j]:  10\n",
      "a:  75.24\n",
      "b:  100\n",
      "x[j]:  900\n",
      "contr_f_dist[i]:  640000.0\n",
      "distanza maggiore della minima controllable\n",
      "finito controllable features\n",
      "contr_f_dist:  [640000. 640000. 640000. 640000.      0.      0.      0.      0.      0.\n",
      "      0.      0.      0.      0.      0.      0.      0.      0.      0.\n",
      "      0.      0.      0.      0.      0.      0.]\n",
      "f_name controls responsiveness {'firm obstacle': (1.0, 1.0, True, True), 'image resolution': (75.24, inf, False, False), 'illuminance': (50.87, inf, False, False), 'cruise speed': (-inf, 50.17, False, True), 'smoke intensity': (-inf, 48.87, False, True), 'obstacle distance': (-inf, 49.94, False, True), 'power': (76.0, inf, False, False), 'controls responsiveness': (73.9, inf, False, False), 'obstacle size': (-inf, 26.74, False, True)}\n",
      "a obs:  73.9\n",
      "b obs:  100\n",
      "x[j] obs:  10\n",
      "obs_f_dist[i]:  4083.210000000001\n",
      "f_name power {'firm obstacle': (1.0, 1.0, True, True), 'image resolution': (75.24, inf, False, False), 'illuminance': (50.87, inf, False, False), 'cruise speed': (-inf, 50.17, False, True), 'smoke intensity': (-inf, 48.87, False, True), 'obstacle distance': (-inf, 49.94, False, True), 'power': (76.0, inf, False, False), 'controls responsiveness': (73.9, inf, False, False), 'obstacle size': (-inf, 26.74, False, True)}\n",
      "a obs:  76.0\n",
      "b obs:  100\n",
      "x[j] obs:  900\n",
      "obs_f_dist[i]:  644083.21\n",
      "f_name smoke intensity {'firm obstacle': (1.0, 1.0, True, True), 'image resolution': (75.24, inf, False, False), 'illuminance': (50.87, inf, False, False), 'cruise speed': (-inf, 50.17, False, True), 'smoke intensity': (-inf, 48.87, False, True), 'obstacle distance': (-inf, 49.94, False, True), 'power': (76.0, inf, False, False), 'controls responsiveness': (73.9, inf, False, False), 'obstacle size': (-inf, 26.74, False, True)}\n",
      "a obs:  0\n",
      "b obs:  48.87\n",
      "x[j] obs:  90\n",
      "obs_f_dist[i]:  645774.8868999999\n",
      "distanza maggiore della minima observable\n",
      "finito observable features\n",
      "obs_f_dist:  [648906.1689 683059.21   645091.591  645774.8869      0.          0.\n",
      "      0.          0.          0.          0.          0.          0.\n",
      "      0.          0.          0.          0.          0.          0.\n",
      "      0.          0.          0.          0.          0.          0.    ]\n",
      "i:  4\n",
      "a:  0\n",
      "b:  25.21\n",
      "x[j]:  10\n",
      "a:  75.24\n",
      "b:  100\n",
      "x[j]:  900\n",
      "contr_f_dist[i]:  640000.0\n",
      "distanza maggiore della minima controllable\n",
      "finito controllable features\n",
      "contr_f_dist:  [640000. 640000. 640000. 640000. 640000.      0.      0.      0.      0.\n",
      "      0.      0.      0.      0.      0.      0.      0.      0.      0.\n",
      "      0.      0.      0.      0.      0.      0.]\n",
      "f_name controls responsiveness {'firm obstacle': (1.0, 1.0, True, True), 'illuminance': (75.91, inf, False, False), 'image resolution': (75.24, inf, False, False), 'cruise speed': (-inf, 25.21, False, True), 'smoke intensity': (-inf, 23.42, False, True), 'controls responsiveness': (73.9, inf, False, False), 'power': (25.0, inf, False, False), 'obstacle distance': (49.94, 74.78, False, True), 'obstacle size': (-inf, 74.61, False, True)}\n",
      "a obs:  73.9\n",
      "b obs:  100\n",
      "x[j] obs:  10\n",
      "obs_f_dist[i]:  4083.210000000001\n",
      "f_name power {'firm obstacle': (1.0, 1.0, True, True), 'illuminance': (75.91, inf, False, False), 'image resolution': (75.24, inf, False, False), 'cruise speed': (-inf, 25.21, False, True), 'smoke intensity': (-inf, 23.42, False, True), 'controls responsiveness': (73.9, inf, False, False), 'power': (25.0, inf, False, False), 'obstacle distance': (49.94, 74.78, False, True), 'obstacle size': (-inf, 74.61, False, True)}\n",
      "a obs:  25.0\n",
      "b obs:  100\n",
      "x[j] obs:  900\n",
      "obs_f_dist[i]:  644083.21\n",
      "f_name smoke intensity {'firm obstacle': (1.0, 1.0, True, True), 'illuminance': (75.91, inf, False, False), 'image resolution': (75.24, inf, False, False), 'cruise speed': (-inf, 25.21, False, True), 'smoke intensity': (-inf, 23.42, False, True), 'controls responsiveness': (73.9, inf, False, False), 'power': (25.0, inf, False, False), 'obstacle distance': (49.94, 74.78, False, True), 'obstacle size': (-inf, 74.61, False, True)}\n",
      "a obs:  0\n",
      "b obs:  23.42\n",
      "x[j] obs:  90\n",
      "obs_f_dist[i]:  648516.1063999999\n",
      "distanza maggiore della minima observable\n",
      "finito observable features\n",
      "obs_f_dist:  [648906.1689 683059.21   645091.591  645774.8869 648516.1064      0.\n",
      "      0.          0.          0.          0.          0.          0.\n",
      "      0.          0.          0.          0.          0.          0.\n",
      "      0.          0.          0.          0.          0.          0.    ]\n",
      "i:  5\n",
      "a:  0\n",
      "b:  75.49\n",
      "x[j]:  10\n",
      "a:  75.24\n",
      "b:  100\n",
      "x[j]:  900\n",
      "contr_f_dist[i]:  640000.0\n",
      "distanza maggiore della minima controllable\n",
      "finito controllable features\n",
      "contr_f_dist:  [640000. 640000. 640000. 640000. 640000. 640000.      0.      0.      0.\n",
      "      0.      0.      0.      0.      0.      0.      0.      0.      0.\n",
      "      0.      0.      0.      0.      0.      0.]\n",
      "f_name controls responsiveness {'firm obstacle': (1.0, 1.0, True, True), 'image resolution': (75.24, inf, False, False), 'illuminance': (50.87, inf, False, False), 'smoke intensity': (-inf, 23.42, False, True), 'cruise speed': (-inf, 75.49, False, True), 'obstacle distance': (25.34, 49.94, False, True), 'obstacle size': (26.74, 50.25, False, True), 'controls responsiveness': (50.29, inf, False, False)}\n",
      "a obs:  50.29\n",
      "b obs:  100\n",
      "x[j] obs:  10\n",
      "obs_f_dist[i]:  1623.2840999999999\n",
      "f_name power {'firm obstacle': (1.0, 1.0, True, True), 'image resolution': (75.24, inf, False, False), 'illuminance': (50.87, inf, False, False), 'smoke intensity': (-inf, 23.42, False, True), 'cruise speed': (-inf, 75.49, False, True), 'obstacle distance': (25.34, 49.94, False, True), 'obstacle size': (26.74, 50.25, False, True), 'controls responsiveness': (50.29, inf, False, False)}\n"
     ]
    },
    {
     "ename": "KeyError",
     "evalue": "'power'",
     "output_type": "error",
     "traceback": [
      "\u001b[0;31m---------------------------------------------------------------------------\u001b[0m",
      "\u001b[0;31mKeyError\u001b[0m                                  Traceback (most recent call last)",
      "Cell \u001b[0;32mIn[100], line 1\u001b[0m\n\u001b[0;32m----> 1\u001b[0m min_dist_c, min_dist_o \u001b[38;5;241m=\u001b[39m \u001b[43mpredictor\u001b[49m\u001b[38;5;241;43m.\u001b[39;49m\u001b[43mevaluate_sample\u001b[49m\u001b[43m(\u001b[49m\u001b[43msample_inside_10\u001b[49m\u001b[43m,\u001b[49m\u001b[43m \u001b[49m\u001b[43mexplanations\u001b[49m\u001b[43m,\u001b[49m\u001b[43m \u001b[49m\u001b[43mfeature_names\u001b[49m\u001b[43m[\u001b[49m\u001b[38;5;241;43m0\u001b[39;49m\u001b[43m:\u001b[49m\u001b[38;5;241;43m3\u001b[39;49m\u001b[43m]\u001b[49m\u001b[43m,\u001b[49m\u001b[43m \u001b[49m\u001b[43mfeature_names\u001b[49m\u001b[43m[\u001b[49m\u001b[38;5;241;43m3\u001b[39;49m\u001b[43m:\u001b[49m\u001b[38;5;241;43m7\u001b[39;49m\u001b[43m]\u001b[49m\u001b[43m)\u001b[49m\n",
      "File \u001b[0;32m/mnt/c/Users/HP/Desktop/RP1.4/XDA1.4/anchors/anchors_predictor.py:423\u001b[0m, in \u001b[0;36mAnchorsPredictor.evaluate_sample\u001b[0;34m(self, sample, explanation, controllable_features, observable_features)\u001b[0m\n\u001b[1;32m    421\u001b[0m \u001b[38;5;28;01mdef\u001b[39;00m\u001b[38;5;250m \u001b[39m\u001b[38;5;21mevaluate_sample\u001b[39m(\u001b[38;5;28mself\u001b[39m, sample, explanation, controllable_features, observable_features):\n\u001b[1;32m    422\u001b[0m     \u001b[38;5;28mprint\u001b[39m(\u001b[38;5;124m\"\u001b[39m\u001b[38;5;124mSample: \u001b[39m\u001b[38;5;124m\"\u001b[39m, sample)\n\u001b[0;32m--> 423\u001b[0m     contr_f_dist, obs_f_dist, min_dist_controllable, min_dist_index_controllable, min_dist_observable, min_dist_index_observable \u001b[38;5;241m=\u001b[39m \u001b[38;5;28;43mself\u001b[39;49m\u001b[38;5;241;43m.\u001b[39;49m\u001b[43mmin_dist_polytope\u001b[49m\u001b[43m(\u001b[49m\u001b[43msample\u001b[49m\u001b[43m,\u001b[49m\u001b[43m \u001b[49m\u001b[43mexplanation\u001b[49m\u001b[43m,\u001b[49m\u001b[43m \u001b[49m\u001b[43mcontrollable_features\u001b[49m\u001b[43m,\u001b[49m\u001b[43m \u001b[49m\u001b[43mobservable_features\u001b[49m\u001b[43m)\u001b[49m\n\u001b[1;32m    424\u001b[0m     \u001b[38;5;28mprint\u001b[39m(\u001b[38;5;124m\"\u001b[39m\u001b[38;5;124mmin_dist_controllable: \u001b[39m\u001b[38;5;124m\"\u001b[39m, min_dist_controllable)\n\u001b[1;32m    425\u001b[0m     \u001b[38;5;28mprint\u001b[39m(\u001b[38;5;124m\"\u001b[39m\u001b[38;5;124mmin_dist_index_controllable: \u001b[39m\u001b[38;5;124m\"\u001b[39m, min_dist_index_controllable)\n",
      "File \u001b[0;32m/mnt/c/Users/HP/Desktop/RP1.4/XDA1.4/anchors/anchors_predictor.py:383\u001b[0m, in \u001b[0;36mAnchorsPredictor.min_dist_polytope\u001b[0;34m(self, x, explanations_table, controllable_features, observable_features)\u001b[0m\n\u001b[1;32m    381\u001b[0m \u001b[38;5;28;01mfor\u001b[39;00m j, f_name \u001b[38;5;129;01min\u001b[39;00m \u001b[38;5;28menumerate\u001b[39m(observable_features):\n\u001b[1;32m    382\u001b[0m     \u001b[38;5;28mprint\u001b[39m(\u001b[38;5;124m\"\u001b[39m\u001b[38;5;124mf_name\u001b[39m\u001b[38;5;124m\"\u001b[39m, f_name,explanations_table[i])\n\u001b[0;32m--> 383\u001b[0m     a, b \u001b[38;5;241m=\u001b[39m \u001b[43mexplanations_table\u001b[49m\u001b[43m[\u001b[49m\u001b[43mi\u001b[49m\u001b[43m]\u001b[49m\u001b[43m[\u001b[49m\u001b[43mf_name\u001b[49m\u001b[43m]\u001b[49m[\u001b[38;5;241m0\u001b[39m], explanations_table[i][f_name][\u001b[38;5;241m1\u001b[39m]\n\u001b[1;32m    384\u001b[0m     \u001b[38;5;28;01mif\u001b[39;00m a \u001b[38;5;241m==\u001b[39m \u001b[38;5;241m-\u001b[39minf:\n\u001b[1;32m    385\u001b[0m         a \u001b[38;5;241m=\u001b[39m \u001b[38;5;241m0\u001b[39m\n",
      "\u001b[0;31mKeyError\u001b[0m: 'power'"
     ]
    }
   ],
   "source": [
    "min_dist_c, min_dist_o = predictor.evaluate_sample(sample_inside_10, explanations, feature_names[0:3], feature_names[3:7])"
   ]
  }
 ],
 "metadata": {
  "kernelspec": {
   "display_name": "venv",
   "language": "python",
   "name": "python3"
  },
  "language_info": {
   "codemirror_mode": {
    "name": "ipython",
    "version": 3
   },
   "file_extension": ".py",
   "mimetype": "text/x-python",
   "name": "python",
   "nbconvert_exporter": "python",
   "pygments_lexer": "ipython3",
   "version": "3.11.2"
  }
 },
 "nbformat": 4,
 "nbformat_minor": 5
}
